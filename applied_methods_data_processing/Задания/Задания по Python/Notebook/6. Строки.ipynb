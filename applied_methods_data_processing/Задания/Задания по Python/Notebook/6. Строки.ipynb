{
 "cells": [
  {
   "attachments": {
    "%D0%A1%D0%BA%D1%80%D0%B8%D0%BD%D1%88%D0%BE%D1%82%2020-04-2021%2000.48.11.png": {
     "image/png": "[encoded data removed]"
    }
   },
   "cell_type": "markdown",
   "metadata": {},
   "source": [
    "# Строки\n",
    "## Индексация\n",
    "Cтрока - это упорядоченный набор символов. Потому к отдельному символу в строке можно обратиться по его индексу, если указать индекс в квадратных скобках после строки   \n",
    "\n",
    "`<строка>[<индекс>]`\n",
    "\n",
    "Индесация символов в строке идет слева направо, начиная с 0\n",
    "\n",
    "![%D0%A1%D0%BA%D1%80%D0%B8%D0%BD%D1%88%D0%BE%D1%82%2020-04-2021%2000.48.11.png](attachment:%D0%A1%D0%BA%D1%80%D0%B8%D0%BD%D1%88%D0%BE%D1%82%2020-04-2021%2000.48.11.png)"
   ]
  },
  {
   "cell_type": "code",
   "execution_count": 1,
   "metadata": {},
   "outputs": [
    {
     "data": {
      "text/plain": [
       "'р'"
      ]
     },
     "execution_count": 1,
     "metadata": {},
     "output_type": "execute_result"
    }
   ],
   "source": [
    "stroka = 'Это строка'\n",
    "stroka[6]"
   ]
  },
  {
   "attachments": {
    "2.png": {
     "image/png": "[encoded data removed]"
    }
   },
   "cell_type": "markdown",
   "metadata": {},
   "source": [
    "Также можно использовать отрицательную (обратную) индексацию справа налево, начиная с -1\n",
    "\n",
    "![2.png](attachment:2.png)"
   ]
  },
  {
   "cell_type": "code",
   "execution_count": 2,
   "metadata": {},
   "outputs": [
    {
     "data": {
      "text/plain": [
       "'с'"
      ]
     },
     "execution_count": 2,
     "metadata": {},
     "output_type": "execute_result"
    }
   ],
   "source": [
    "stroka[-6]"
   ]
  },
  {
   "cell_type": "markdown",
   "metadata": {},
   "source": [
    "**Важно**:  строковый тип является неизменяемым - нельзя напрямую изменить символ в строке (в этом случае будет выдано сообщение об ошибке)"
   ]
  },
  {
   "cell_type": "code",
   "execution_count": 3,
   "metadata": {},
   "outputs": [
    {
     "ename": "TypeError",
     "evalue": "'str' object does not support item assignment",
     "output_type": "error",
     "traceback": [
      "\u001b[1;31m---------------------------------------------------------------------------\u001b[0m",
      "\u001b[1;31mTypeError\u001b[0m                                 Traceback (most recent call last)",
      "\u001b[1;32m<ipython-input-3-37c66594bf66>\u001b[0m in \u001b[0;36m<module>\u001b[1;34m\u001b[0m\n\u001b[1;32m----> 1\u001b[1;33m \u001b[0mstroka\u001b[0m\u001b[1;33m[\u001b[0m\u001b[1;36m3\u001b[0m\u001b[1;33m]\u001b[0m\u001b[1;33m=\u001b[0m\u001b[1;34m'-'\u001b[0m\u001b[1;33m\u001b[0m\u001b[1;33m\u001b[0m\u001b[0m\n\u001b[0m",
      "\u001b[1;31mTypeError\u001b[0m: 'str' object does not support item assignment"
     ]
    }
   ],
   "source": [
    "stroka[3]='-'"
   ]
  },
  {
   "cell_type": "markdown",
   "metadata": {},
   "source": [
    "При попытке использовать несуществующий индекс будет выдано сообщение об ошибке"
   ]
  },
  {
   "cell_type": "code",
   "execution_count": 4,
   "metadata": {},
   "outputs": [
    {
     "ename": "IndexError",
     "evalue": "string index out of range",
     "output_type": "error",
     "traceback": [
      "\u001b[1;31m---------------------------------------------------------------------------\u001b[0m",
      "\u001b[1;31mIndexError\u001b[0m                                Traceback (most recent call last)",
      "\u001b[1;32m<ipython-input-4-2f119401c724>\u001b[0m in \u001b[0;36m<module>\u001b[1;34m\u001b[0m\n\u001b[1;32m----> 1\u001b[1;33m \u001b[0mstroka\u001b[0m\u001b[1;33m[\u001b[0m\u001b[1;36m10\u001b[0m\u001b[1;33m]\u001b[0m\u001b[1;33m\u001b[0m\u001b[1;33m\u001b[0m\u001b[0m\n\u001b[0m",
      "\u001b[1;31mIndexError\u001b[0m: string index out of range"
     ]
    }
   ],
   "source": [
    "stroka[10]"
   ]
  },
  {
   "cell_type": "markdown",
   "metadata": {},
   "source": [
    "## Срезы\n",
    "Срез (slice) извлекает из данной строки ее некоторый фрагмент (подстроку). Любые операции среза со строкой создают новые строки и никогда не меняют исходную строку. \n",
    "* Срез с двумя параметрами   \n",
    "`<строка>[a:b]`    \n",
    "возвращает подстроку, начиная с символа c индексом `a` до символа с индексом `b`, **не включая его**. Можно использовать как положительные, так и отрицательные индексы, в том числе в одном срезе. При использовании отрицательных индексов первый параметр среза должен быть меньше второго, либо должен быть пропущен."
   ]
  },
  {
   "cell_type": "code",
   "execution_count": 5,
   "metadata": {},
   "outputs": [
    {
     "data": {
      "text/plain": [
       "'стр'"
      ]
     },
     "execution_count": 5,
     "metadata": {},
     "output_type": "execute_result"
    }
   ],
   "source": [
    "stroka = 'Это строка'\n",
    "# символы с 4 по 7 невключительно (то есть 4, 5 и 6 символы)\n",
    "stroka[4:7]"
   ]
  },
  {
   "cell_type": "code",
   "execution_count": 6,
   "metadata": {},
   "outputs": [
    {
     "data": {
      "text/plain": [
       "'то строк'"
      ]
     },
     "execution_count": 6,
     "metadata": {},
     "output_type": "execute_result"
    }
   ],
   "source": [
    "# строка без первого и последнего символа\n",
    "stroka[1:-1]"
   ]
  },
  {
   "cell_type": "markdown",
   "metadata": {},
   "source": [
    "При использовании такой формы среза ошибки index out of range не возникает"
   ]
  },
  {
   "cell_type": "code",
   "execution_count": 7,
   "metadata": {},
   "outputs": [
    {
     "data": {
      "text/plain": [
       "'строка'"
      ]
     },
     "execution_count": 7,
     "metadata": {},
     "output_type": "execute_result"
    }
   ],
   "source": [
    "stroka[4:100]"
   ]
  },
  {
   "cell_type": "markdown",
   "metadata": {},
   "source": [
    "Если опустить второй параметр (двоеточие остается), то срез берется до конца строки. Аналогично, если опустиить первый параметр, то срез берется от начала строки. "
   ]
  },
  {
   "cell_type": "code",
   "execution_count": 8,
   "metadata": {},
   "outputs": [
    {
     "data": {
      "text/plain": [
       "'то строка'"
      ]
     },
     "execution_count": 8,
     "metadata": {},
     "output_type": "execute_result"
    }
   ],
   "source": [
    "# строка без первого символа (то есть с 1 символа до конца строки)\n",
    "stroka[1:]"
   ]
  },
  {
   "cell_type": "code",
   "execution_count": 9,
   "metadata": {},
   "outputs": [
    {
     "data": {
      "text/plain": [
       "'Это строк'"
      ]
     },
     "execution_count": 9,
     "metadata": {},
     "output_type": "execute_result"
    }
   ],
   "source": [
    "# строка без последнего символа\n",
    "stroka[:-1]"
   ]
  },
  {
   "cell_type": "markdown",
   "metadata": {},
   "source": [
    "* Срез с тремя параметрами   \n",
    "`<строка>[a:b:h]`    \n",
    "возвращает подстроку, начиная с символа c индексом `a` до символа с индексом `b`, **не включая его**, с шагом `h` (аналогично функции range). То есть будут взяты символы с индексами $a, a+h, a+2h$ и т.д. Шаг может быть в том числе и отрицательным, в этом случае символы будут идти в обратном порядке. "
   ]
  },
  {
   "cell_type": "code",
   "execution_count": 10,
   "metadata": {},
   "outputs": [
    {
     "data": {
      "text/plain": [
       "'т то'"
      ]
     },
     "execution_count": 10,
     "metadata": {},
     "output_type": "execute_result"
    }
   ],
   "source": [
    "# символы начиная с 1 и до предпоследнего с шагом 2, то есть каждый второй символ\n",
    "stroka[1:-1:2]"
   ]
  },
  {
   "cell_type": "code",
   "execution_count": 11,
   "metadata": {},
   "outputs": [
    {
     "data": {
      "text/plain": [
       "'акортс отЭ'"
      ]
     },
     "execution_count": 11,
     "metadata": {},
     "output_type": "execute_result"
    }
   ],
   "source": [
    "# все символы в обратном порядке\n",
    "stroka[::-1]"
   ]
  },
  {
   "cell_type": "markdown",
   "metadata": {},
   "source": [
    "## Функции и методы строк\n",
    "Метод - это функция, применяемая к объекту, в данном случае к строке. Метод вызывается в виде \n",
    "\n",
    "`<имя объекта>.<имя метода>(<параметры>)`\n",
    "\n",
    "Например, `s.find('e')` это применение к строке `s` метода `find` с одним параметром `'e'`\n",
    "\n",
    "При применении всех методов сама строка остается **неизменной** (нужно работать с результатом применения этих методов)\n",
    "\n",
    "### Длина строки `len`\n",
    "Функция `len` определяет длину строки\n",
    "\n",
    "`len(<строка>)`"
   ]
  },
  {
   "cell_type": "code",
   "execution_count": 12,
   "metadata": {},
   "outputs": [
    {
     "data": {
      "text/plain": [
       "10"
      ]
     },
     "execution_count": 12,
     "metadata": {},
     "output_type": "execute_result"
    }
   ],
   "source": [
    "len(stroka)"
   ]
  },
  {
   "cell_type": "markdown",
   "metadata": {},
   "source": [
    "### Разбиение строки `split`\n",
    "Метод `split` позволяет разбить строку на список строк меньшего размера с использованием разделителя\n",
    "\n",
    "`<строка>.split(<разделитель>)`"
   ]
  },
  {
   "cell_type": "code",
   "execution_count": 13,
   "metadata": {},
   "outputs": [
    {
     "data": {
      "text/plain": [
       "['Это', 'строка']"
      ]
     },
     "execution_count": 13,
     "metadata": {},
     "output_type": "execute_result"
    }
   ],
   "source": [
    "# если разделитель не указан, то разбивение ведется по пробелам (одиночным или группам)\n",
    "stroka.split()"
   ]
  },
  {
   "cell_type": "code",
   "execution_count": 14,
   "metadata": {},
   "outputs": [
    {
     "data": {
      "text/plain": [
       "['раз', '123', 'два', '345']"
      ]
     },
     "execution_count": 14,
     "metadata": {},
     "output_type": "execute_result"
    }
   ],
   "source": [
    "S = 'раз,123,два,345'\n",
    "S.split(',')"
   ]
  },
  {
   "cell_type": "markdown",
   "metadata": {},
   "source": [
    "### Объединение строк `join`\n",
    "Метод `join` объединяет список строк в одну строку через разделитель\n",
    "\n",
    "`<разделитель>.join(<список строк>)`"
   ]
  },
  {
   "cell_type": "code",
   "execution_count": 15,
   "metadata": {},
   "outputs": [
    {
     "data": {
      "text/plain": [
       "'раз + 123 + два + 345'"
      ]
     },
     "execution_count": 15,
     "metadata": {},
     "output_type": "execute_result"
    }
   ],
   "source": [
    "s = ['раз', '123', 'два', '345']\n",
    "' + '.join(s)"
   ]
  },
  {
   "cell_type": "markdown",
   "metadata": {},
   "source": [
    "### Замена подстроки `replace`\n",
    "Функция `replace` предназначена для замены одной подстроки другой\n",
    "\n",
    "`<строка>.replace(<заменяемая подстрока>, <подстрока-замена>)` "
   ]
  },
  {
   "cell_type": "code",
   "execution_count": 16,
   "metadata": {},
   "outputs": [
    {
     "data": {
      "text/plain": [
       "'Эт0 стр0ка'"
      ]
     },
     "execution_count": 16,
     "metadata": {},
     "output_type": "execute_result"
    }
   ],
   "source": [
    "stroka.replace('о', '0')"
   ]
  },
  {
   "cell_type": "markdown",
   "metadata": {},
   "source": [
    "Если методу `replace` задать еще один параметр\n",
    "\n",
    "`<строка>.replace(<заменяемая подстрока>, <подстрока-замена>, n)`\n",
    "\n",
    "то заменены будут не все вхождения, а только не больше, чем первые `n` из них"
   ]
  },
  {
   "cell_type": "markdown",
   "metadata": {},
   "source": [
    "### Удаление служебных символов  `strip`\n",
    "Метод `strip` предназначен для удаления служебных символов-пробелов (пробел, `'\\t'`, `'\\n'` и т.д.) в начале строки и в конце строки\n",
    "\n",
    "`<строка>.strip()` "
   ]
  },
  {
   "cell_type": "code",
   "execution_count": 17,
   "metadata": {},
   "outputs": [
    {
     "data": {
      "text/plain": [
       "'abc'"
      ]
     },
     "execution_count": 17,
     "metadata": {},
     "output_type": "execute_result"
    }
   ],
   "source": [
    "S = '\\t abc \\n'\n",
    "S.strip()"
   ]
  },
  {
   "cell_type": "markdown",
   "metadata": {},
   "source": [
    "Также можно указать, какие именно символов следует удалить\n",
    "\n",
    "`<строка>.strip(<символы>)` "
   ]
  },
  {
   "cell_type": "code",
   "execution_count": 18,
   "metadata": {},
   "outputs": [
    {
     "data": {
      "text/plain": [
       "'Это строка'"
      ]
     },
     "execution_count": 18,
     "metadata": {},
     "output_type": "execute_result"
    }
   ],
   "source": [
    "Stroka = 'Это строка...!!?'\n",
    "Stroka.strip('.?!')"
   ]
  },
  {
   "cell_type": "markdown",
   "metadata": {},
   "source": [
    "Аналогичные методы: `lstrip()` удаляет только в начале, а `rstrip()` — только в конце строки\n",
    "\n",
    "### Оператор принадлежности `in`\n",
    "Используется для проверки, находится ли подстрока в данной строке  \n",
    "`if <подстрока> in <имя строки>:`"
   ]
  },
  {
   "cell_type": "markdown",
   "metadata": {},
   "source": [
    "### Поиск подстроки  `find`\n",
    "Метод `find` ищет первое вхождение подстроки в строке. Метод возвращает номер первого вхождения подстроки в строку или -1, если такой подстроки нет.\n",
    "\n",
    "`<строка>.find(<подстрока>)` \n",
    "\n",
    "Поиск можно осуществляться только в части строки, дополнительно указав начало и конец (оба параметры необзательны)\n",
    "\n",
    "`<строка>.find(<подстрока>, [начало], [конец])` "
   ]
  },
  {
   "cell_type": "code",
   "execution_count": 19,
   "metadata": {},
   "outputs": [
    {
     "data": {
      "text/plain": [
       "2"
      ]
     },
     "execution_count": 19,
     "metadata": {},
     "output_type": "execute_result"
    }
   ],
   "source": [
    "stroka = 'Это строка'\n",
    "stroka.find('о')"
   ]
  },
  {
   "cell_type": "code",
   "execution_count": 20,
   "metadata": {},
   "outputs": [
    {
     "data": {
      "text/plain": [
       "-1"
      ]
     },
     "execution_count": 20,
     "metadata": {},
     "output_type": "execute_result"
    }
   ],
   "source": [
    "stroka.find('О')"
   ]
  },
  {
   "cell_type": "markdown",
   "metadata": {},
   "source": [
    "Аналогичный метод: `rfind()` — ищет, начиная с конца строки.\n",
    "\n",
    "### Поиск подстроки  `index`\n",
    "Метод `index` ищет первое вхождение подстроки в строке. Метод возвращает номер первого вхождения подстроки в строку или ошибку `ValueError`, если такой подстроки нет.\n",
    "\n",
    "`<строка>.index(<подстрока>)` \n",
    "\n",
    "Поиск можно осуществляться только в части строки, дополнительно указав начало и конец (оба параметры необзательны)\n",
    "\n",
    "`<строка>.index(<подстрока>, [начало], [конец])` "
   ]
  },
  {
   "cell_type": "code",
   "execution_count": 21,
   "metadata": {},
   "outputs": [
    {
     "data": {
      "text/plain": [
       "2"
      ]
     },
     "execution_count": 21,
     "metadata": {},
     "output_type": "execute_result"
    }
   ],
   "source": [
    "stroka.index('о')"
   ]
  },
  {
   "cell_type": "code",
   "execution_count": 22,
   "metadata": {},
   "outputs": [
    {
     "ename": "ValueError",
     "evalue": "substring not found",
     "output_type": "error",
     "traceback": [
      "\u001b[1;31m---------------------------------------------------------------------------\u001b[0m",
      "\u001b[1;31mValueError\u001b[0m                                Traceback (most recent call last)",
      "\u001b[1;32m<ipython-input-22-ec6987252112>\u001b[0m in \u001b[0;36m<module>\u001b[1;34m\u001b[0m\n\u001b[1;32m----> 1\u001b[1;33m \u001b[0mstroka\u001b[0m\u001b[1;33m.\u001b[0m\u001b[0mindex\u001b[0m\u001b[1;33m(\u001b[0m\u001b[1;34m'O'\u001b[0m\u001b[1;33m)\u001b[0m\u001b[1;33m\u001b[0m\u001b[1;33m\u001b[0m\u001b[0m\n\u001b[0m",
      "\u001b[1;31mValueError\u001b[0m: substring not found"
     ]
    }
   ],
   "source": [
    "stroka.index('O')"
   ]
  },
  {
   "cell_type": "markdown",
   "metadata": {},
   "source": [
    "Аналогичный метод: `rindex()` — ищет, начиная с конца строки.\n",
    "\n",
    "### Начало и конец строки `startswith` и `endswith`\n",
    "Метод `startswith` определяет начинается ли строка c подстроки   \n",
    "`<строка>.startswith(<подстрока>)` \n",
    "    \n",
    "Метод `endswith` определяет оканчивается ли строка подстрокой     \n",
    "`<строка>.endswith(<подстрока>)`\n",
    "    \n",
    "Оба метода возвращают значение `True` (если да) или `False` (если нет). Аналогично методам `find` и `index`, можно дополнительно указать начало и конец для поиска только в части строки\n",
    "    \n",
    "### Количество вхождений подстроки  `count`\n",
    "Метод `count` cчитает количество вхождений подстроки в строку. При этом учитываются только не пересекающиеся вхождения.\n",
    "\n",
    "`<строка>.сount(<подстрока>)` \n",
    "\n",
    "Подсчет можно осуществляться только в части строки, дополнительно указав начало и конец (оба параметры необзательны)\n",
    "\n",
    "`<строка>.count(<подстрока>, [начало], [конец])` "
   ]
  },
  {
   "cell_type": "code",
   "execution_count": 23,
   "metadata": {},
   "outputs": [
    {
     "data": {
      "text/plain": [
       "2"
      ]
     },
     "execution_count": 23,
     "metadata": {},
     "output_type": "execute_result"
    }
   ],
   "source": [
    "stroka.count('о')"
   ]
  },
  {
   "cell_type": "markdown",
   "metadata": {},
   "source": [
    "### Работа с регистром  `lower` и `upper`, `swapcase`, `capitalize` и  `title`\n",
    "\n",
    "Метод `upper`заменяет строчные буквы в строке заглавными\n",
    "`<строка>.upper()`\n",
    "\n",
    "Метод `lower` заменяет заглавные буквы в строке строчными\n",
    "`<строка>.lower()`   \n",
    "\n",
    "Метод `swapcase` меняет регистр букв в строке на противоположный   \n",
    "`<строка>.swapcase()`  \n",
    "\n",
    "Метод `capitalize` меняет регистр первого символа строки на верхний, а все остальных - на нижний\n",
    "`<строка>.capitalize()`  \n",
    "\n",
    "\n",
    "Метод `title` меняет регистр первого символа каждого слова в строке на верхний, а все остальных - на нижний (включая предлоги, аббревиатуры, апострофы и т.д.)\n",
    "`<строка>.title()` "
   ]
  },
  {
   "cell_type": "code",
   "execution_count": 24,
   "metadata": {},
   "outputs": [
    {
     "data": {
      "text/plain": [
       "'ЭТО СТРОКА'"
      ]
     },
     "execution_count": 24,
     "metadata": {},
     "output_type": "execute_result"
    }
   ],
   "source": [
    "stroka.upper()"
   ]
  },
  {
   "cell_type": "code",
   "execution_count": 25,
   "metadata": {},
   "outputs": [
    {
     "data": {
      "text/plain": [
       "'это строка'"
      ]
     },
     "execution_count": 25,
     "metadata": {},
     "output_type": "execute_result"
    }
   ],
   "source": [
    "stroka.lower()"
   ]
  },
  {
   "cell_type": "code",
   "execution_count": 26,
   "metadata": {},
   "outputs": [
    {
     "data": {
      "text/plain": [
       "'эТО СТРОКА'"
      ]
     },
     "execution_count": 26,
     "metadata": {},
     "output_type": "execute_result"
    }
   ],
   "source": [
    "stroka.swapcase()"
   ]
  },
  {
   "cell_type": "code",
   "execution_count": 27,
   "metadata": {},
   "outputs": [
    {
     "data": {
      "text/plain": [
       "'Это строка'"
      ]
     },
     "execution_count": 27,
     "metadata": {},
     "output_type": "execute_result"
    }
   ],
   "source": [
    "stroka = 'эТо СтРоКа'\n",
    "stroka.capitalize()"
   ]
  },
  {
   "cell_type": "code",
   "execution_count": 28,
   "metadata": {},
   "outputs": [
    {
     "data": {
      "text/plain": [
       "\"The Top 50 Ceo'S In The World\""
      ]
     },
     "execution_count": 28,
     "metadata": {},
     "output_type": "execute_result"
    }
   ],
   "source": [
    "stroka = \"The Top 50 CEO's in The World\"\n",
    "stroka.title()"
   ]
  },
  {
   "cell_type": "markdown",
   "metadata": {},
   "source": [
    "### Работа с cимволами  \n",
    "Язык программирования Python — современный язык, поэтому он работает исключительно с Unicode-символами.\n",
    "\n",
    "Функция `ord` переводит символ в его код UTF-8\n",
    "`ord(<cимвол>)`\n",
    "\n",
    "Функция `chr` переводит код UTF-8 в символ\n",
    "`chr(<число>)`  "
   ]
  },
  {
   "cell_type": "code",
   "execution_count": 29,
   "metadata": {},
   "outputs": [
    {
     "data": {
      "text/plain": [
       "1040"
      ]
     },
     "execution_count": 29,
     "metadata": {},
     "output_type": "execute_result"
    }
   ],
   "source": [
    "ord('А')"
   ]
  },
  {
   "cell_type": "code",
   "execution_count": 30,
   "metadata": {},
   "outputs": [
    {
     "data": {
      "text/plain": [
       "'я'"
      ]
     },
     "execution_count": 30,
     "metadata": {},
     "output_type": "execute_result"
    }
   ],
   "source": [
    "chr(1103)"
   ]
  },
  {
   "cell_type": "markdown",
   "metadata": {},
   "source": [
    "### Классификация символов\n",
    "Метод `isalpha`проверяет состоит ли строка только из букв\n",
    "`<строка>.isalpha()`\n",
    "\n",
    "Метод `isdigit`проверяет состоит ли строка только из цифр\n",
    "`<строка>.isdigit()`\n",
    "\n",
    "Метод `isalnum` проверяет состоит ли строка только из букв и цифр\n",
    "`<строка>.isalnum()`\n",
    "\n",
    "Метод `islower`проверяет, являются ли все буквенные символы строки строчными\n",
    "`<строка>.islower()`\n",
    "\n",
    "Метод `isupper`проверяет, являются ли все буквенные символы строки заглавными\n",
    "`<строка>.islower()`\n",
    "\n",
    "Метод `isspace`проверяет, состоит ли строка только из служеюных символов-пробелов\n",
    "`<строка>.isspace()`"
   ]
  },
  {
   "cell_type": "code",
   "execution_count": 31,
   "metadata": {},
   "outputs": [
    {
     "data": {
      "text/plain": [
       "False"
      ]
     },
     "execution_count": 31,
     "metadata": {},
     "output_type": "execute_result"
    }
   ],
   "source": [
    "s='123'\n",
    "s.isalpha()"
   ]
  },
  {
   "cell_type": "code",
   "execution_count": 32,
   "metadata": {},
   "outputs": [
    {
     "data": {
      "text/plain": [
       "True"
      ]
     },
     "execution_count": 32,
     "metadata": {},
     "output_type": "execute_result"
    }
   ],
   "source": [
    "s='123'\n",
    "s.isdigit()"
   ]
  },
  {
   "cell_type": "code",
   "execution_count": 33,
   "metadata": {},
   "outputs": [
    {
     "data": {
      "text/plain": [
       "True"
      ]
     },
     "execution_count": 33,
     "metadata": {},
     "output_type": "execute_result"
    }
   ],
   "source": [
    "s='\\t    \\n    '\n",
    "s.isspace()"
   ]
  },
  {
   "cell_type": "markdown",
   "metadata": {},
   "source": [
    "## `f`-строки  (новейший стиль)\n",
    "На данный момент для форматирования строк рекомендуется использовать f-строки, которые появились в версии Python 3.6.\n",
    "Чтобы создать f-строку, нужно сделать следующее\n",
    "* ввести букву `f` или `F` перед первой кавычкой\n",
    "* поместить имена переменной или выражения в фигурные скобки `{}`, чтобы их значения попали в строку"
   ]
  },
  {
   "cell_type": "code",
   "execution_count": 34,
   "metadata": {},
   "outputs": [
    {
     "name": "stdout",
     "output_type": "stream",
     "text": [
      "При x = 3.14 и y = 2.7 значение функции равно 1.9665299031118333\n"
     ]
    }
   ],
   "source": [
    "import math\n",
    "x = 3.14\n",
    "y = 2.7\n",
    "z = math.log(x)+math.atan(y)**-1\n",
    "print(f'При x = {x} и y = {y} значение функции равно {z}')"
   ]
  },
  {
   "cell_type": "markdown",
   "metadata": {},
   "source": [
    "Для f-строк используется такой же язык форматирования (ширина, заполнитель, выравнивание), как и у метода format (подробнее в документации языка https://docs.python.org/3/library/string.html#custom-string-formatting)"
   ]
  },
  {
   "cell_type": "code",
   "execution_count": 35,
   "metadata": {},
   "outputs": [
    {
     "name": "stdout",
     "output_type": "stream",
     "text": [
      "При x = 3.14 и y = 2.7 значение функции равно 1.967\n"
     ]
    }
   ],
   "source": [
    "x = 3.14\n",
    "y = 2.7\n",
    "z = math.log(x)+math.atan(y)**-1\n",
    "print(f'При x = {x} и y = {y} значение функции равно {z:.3f}')"
   ]
  },
  {
   "cell_type": "markdown",
   "metadata": {},
   "source": [
    "Начиная с версии Python 3.8, f-строки позволяют выводить не только значения переменных, но и их имена. Для этого нужно поставить знак = после имени переменной, размещенного в фигурных скобках"
   ]
  },
  {
   "cell_type": "code",
   "execution_count": 36,
   "metadata": {},
   "outputs": [
    {
     "name": "stdout",
     "output_type": "stream",
     "text": [
      "При x = 3.14 и y = 2.7 значение функции равно z = 1.967\n"
     ]
    }
   ],
   "source": [
    "x = 3.14\n",
    "y = 2.7\n",
    "z = math.log(x)+math.atan(y)**-1\n",
    "print(f'При {x = } и {y = } значение функции равно {z = :.3f}')"
   ]
  }
 ],
 "metadata": {
  "kernelspec": {
   "display_name": "Python 3",
   "language": "python",
   "name": "python3"
  },
  "language_info": {
   "codemirror_mode": {
    "name": "ipython",
    "version": 3
   },
   "file_extension": ".py",
   "mimetype": "text/x-python",
   "name": "python",
   "nbconvert_exporter": "python",
   "pygments_lexer": "ipython3",
   "version": "3.8.5"
  }
 },
 "nbformat": 4,
 "nbformat_minor": 4
}
