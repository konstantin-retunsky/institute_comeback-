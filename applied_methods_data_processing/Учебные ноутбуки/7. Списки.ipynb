{
 "cells": [
  {
   "cell_type": "markdown",
   "metadata": {},
   "source": [
    "# Списки\n",
    "Список — структура данных, позволяющая хранить и обрабатывать множество однотипных и/или логически связанных данных.    \n",
    "Список представляет собой последовательность элементов. Элементами могут быть любые другие объекты Python.\n",
    "\n",
    "## Создание списка\n",
    "Для создания списка нужно перечислить его элементы через запятую в квадратных скобках:"
   ]
  },
  {
   "cell_type": "code",
   "execution_count": 1,
   "metadata": {},
   "outputs": [
    {
     "name": "stdout",
     "output_type": "stream",
     "text": [
      "[1, 2, 3, 4, 5, 6, 7, 8, 9, 10]\n",
      "['Python', 'C#', 'C++', 'Object Pascal']\n"
     ]
    }
   ],
   "source": [
    "numbers = [1, 2, 3, 4, 5, 6, 7, 8, 9, 10]\n",
    "print(numbers)\n",
    "\n",
    "languages = ['Python', 'C#', 'C++', 'Object Pascal']\n",
    "print(languages)"
   ]
  },
  {
   "cell_type": "markdown",
   "metadata": {},
   "source": [
    "Cписок может содержать и элементы разных типов (что редко бывает необходимо на практике):"
   ]
  },
  {
   "cell_type": "code",
   "execution_count": 2,
   "metadata": {},
   "outputs": [
    {
     "name": "stdout",
     "output_type": "stream",
     "text": [
      "[3.14, 'Python', True, 10]\n"
     ]
    }
   ],
   "source": [
    "my_list=[3.14, 'Python', True, 10]\n",
    "print(my_list)"
   ]
  },
  {
   "cell_type": "markdown",
   "metadata": {},
   "source": [
    "### Встроенная функция `list`\n",
    "Функция `list()` преобразует другие итерабельные типы данных (например, строки, кортежи, множества и словари) в списки:"
   ]
  },
  {
   "cell_type": "code",
   "execution_count": 3,
   "metadata": {},
   "outputs": [
    {
     "name": "stdout",
     "output_type": "stream",
     "text": [
      "['P', 'y', 't', 'h', 'o', 'n']\n"
     ]
    }
   ],
   "source": [
    "# список из букв слова\n",
    "language = 'Python'\n",
    "letter = list('Python')\n",
    "print(letter)"
   ]
  },
  {
   "cell_type": "code",
   "execution_count": 4,
   "metadata": {},
   "outputs": [
    {
     "name": "stdout",
     "output_type": "stream",
     "text": [
      "[0, 2, 4, 6, 8, 10, 12, 14, 16, 18, 20]\n"
     ]
    }
   ],
   "source": [
    "# список из чисел диапазона range\n",
    "even_numbers = list(range(0, 21, 2))\n",
    "print(even_numbers)"
   ]
  },
  {
   "cell_type": "markdown",
   "metadata": {},
   "source": [
    "### Пустой список\n",
    "Создать пустой список можно двумя способами:\n",
    "* использовать пустые квадратные скобки"
   ]
  },
  {
   "cell_type": "code",
   "execution_count": 5,
   "metadata": {},
   "outputs": [],
   "source": [
    "empty_list = []"
   ]
  },
  {
   "cell_type": "markdown",
   "metadata": {},
   "source": [
    "* использовать функцию `list()`"
   ]
  },
  {
   "cell_type": "code",
   "execution_count": 6,
   "metadata": {},
   "outputs": [],
   "source": [
    "another_empty_list = list()"
   ]
  },
  {
   "cell_type": "markdown",
   "metadata": {},
   "source": [
    "## Работа со списками\n",
    "Во многом работа со списками напоминает работу со строками.\n",
    "### Индексация\n",
    "Индексация элементов списка происходит аналогично индексации символов в строке: слева направо, начиная с 0 либо справа налево, начиная с -1.\n",
    "Для обращения к элементу списка используются квадратные скобки `[]`, в которых указывается индекс нужного элемента в списке."
   ]
  },
  {
   "cell_type": "code",
   "execution_count": 7,
   "metadata": {},
   "outputs": [
    {
     "name": "stdout",
     "output_type": "stream",
     "text": [
      "Python\n",
      "True\n"
     ]
    }
   ],
   "source": [
    "print(languages[0]) \n",
    "\n",
    "print(my_list[-2])"
   ]
  },
  {
   "cell_type": "markdown",
   "metadata": {},
   "source": [
    "Аналогично строкам, попытка обратиться к элементу списка по несуществующему индексу вызовет ошибку:"
   ]
  },
  {
   "cell_type": "code",
   "execution_count": 8,
   "metadata": {},
   "outputs": [
    {
     "ename": "IndexError",
     "evalue": "list index out of range",
     "output_type": "error",
     "traceback": [
      "\u001b[1;31m---------------------------------------------------------------------------\u001b[0m",
      "\u001b[1;31mIndexError\u001b[0m                                Traceback (most recent call last)",
      "\u001b[1;32m<ipython-input-8-5e5f0c280a09>\u001b[0m in \u001b[0;36m<module>\u001b[1;34m\u001b[0m\n\u001b[1;32m----> 1\u001b[1;33m \u001b[0mprint\u001b[0m\u001b[1;33m(\u001b[0m\u001b[0mnumbers\u001b[0m\u001b[1;33m[\u001b[0m\u001b[1;36m11\u001b[0m\u001b[1;33m]\u001b[0m\u001b[1;33m)\u001b[0m\u001b[1;33m\u001b[0m\u001b[1;33m\u001b[0m\u001b[0m\n\u001b[0m",
      "\u001b[1;31mIndexError\u001b[0m: list index out of range"
     ]
    }
   ],
   "source": [
    "print(numbers[11])"
   ]
  },
  {
   "cell_type": "markdown",
   "metadata": {},
   "source": [
    "### Cрезы\n",
    "Работа со срезами списков происходит аналогично срезам строк."
   ]
  },
  {
   "cell_type": "code",
   "execution_count": 9,
   "metadata": {},
   "outputs": [
    {
     "data": {
      "text/plain": [
       "[5, 6, 7]"
      ]
     },
     "execution_count": 9,
     "metadata": {},
     "output_type": "execute_result"
    }
   ],
   "source": [
    "# элементы списка с 4 по 7 невключительно (то есть 4, 5 и 6 элементы)\n",
    "numbers[4:7]"
   ]
  },
  {
   "cell_type": "code",
   "execution_count": 10,
   "metadata": {},
   "outputs": [
    {
     "data": {
      "text/plain": [
       "[2, 3, 4, 5, 6, 7, 8, 9]"
      ]
     },
     "execution_count": 10,
     "metadata": {},
     "output_type": "execute_result"
    }
   ],
   "source": [
    "# список без первого и последнего элемента\n",
    "numbers[1:-1]"
   ]
  },
  {
   "cell_type": "code",
   "execution_count": 11,
   "metadata": {},
   "outputs": [
    {
     "data": {
      "text/plain": [
       "[2, 3, 4, 5, 6, 7, 8, 9, 10]"
      ]
     },
     "execution_count": 11,
     "metadata": {},
     "output_type": "execute_result"
    }
   ],
   "source": [
    "# список без первого элемента (то есть со второго элемента и до конца списка)\n",
    "numbers[1:]"
   ]
  },
  {
   "cell_type": "code",
   "execution_count": 12,
   "metadata": {},
   "outputs": [
    {
     "data": {
      "text/plain": [
       "[1, 2, 3, 4, 5, 6, 7, 8, 9]"
      ]
     },
     "execution_count": 12,
     "metadata": {},
     "output_type": "execute_result"
    }
   ],
   "source": [
    "# список без последнего элемента\n",
    "numbers[:-1]"
   ]
  },
  {
   "cell_type": "code",
   "execution_count": 13,
   "metadata": {},
   "outputs": [
    {
     "data": {
      "text/plain": [
       "[2, 4, 6, 8]"
      ]
     },
     "execution_count": 13,
     "metadata": {},
     "output_type": "execute_result"
    }
   ],
   "source": [
    "# элементы списка, начиная со второго  и до предпоследнего с шагом 2, то есть каждый второй элемент\n",
    "numbers[1:-1:2]"
   ]
  },
  {
   "cell_type": "code",
   "execution_count": 14,
   "metadata": {},
   "outputs": [
    {
     "data": {
      "text/plain": [
       "[10, 9, 8, 7, 6, 5, 4, 3, 2, 1]"
      ]
     },
     "execution_count": 14,
     "metadata": {},
     "output_type": "execute_result"
    }
   ],
   "source": [
    "# все элемента списка в обратном порядке\n",
    "numbers[::-1]"
   ]
  },
  {
   "cell_type": "markdown",
   "metadata": {},
   "source": [
    "### Операция слияния `+` и умножения на число `*`\n",
    "Оператор `+` используется для слияния двух списков. При этом элементы второго списка добавляются в конец первого:"
   ]
  },
  {
   "cell_type": "code",
   "execution_count": 15,
   "metadata": {},
   "outputs": [
    {
     "data": {
      "text/plain": [
       "[1, 2, 3, 4, 5, 6, 7, 8, 9, 10, 'Python', 'C#', 'C++', 'Object Pascal']"
      ]
     },
     "execution_count": 15,
     "metadata": {},
     "output_type": "execute_result"
    }
   ],
   "source": [
    "numbers + languages"
   ]
  },
  {
   "cell_type": "markdown",
   "metadata": {},
   "source": [
    "При умножении списка на число, список дублируется соответствующее число раз:"
   ]
  },
  {
   "cell_type": "code",
   "execution_count": 16,
   "metadata": {},
   "outputs": [
    {
     "data": {
      "text/plain": [
       "[3.14, 'Python', True, 10, 3.14, 'Python', True, 10, 3.14, 'Python', True, 10]"
      ]
     },
     "execution_count": 16,
     "metadata": {},
     "output_type": "execute_result"
    }
   ],
   "source": [
    "my_list * 3"
   ]
  },
  {
   "cell_type": "markdown",
   "metadata": {},
   "source": [
    "Для генерации списков, состоящих строго из повторяющихся элементов, умножение на число — самый короткий и правильный метод:"
   ]
  },
  {
   "cell_type": "code",
   "execution_count": 17,
   "metadata": {},
   "outputs": [
    {
     "name": "stdout",
     "output_type": "stream",
     "text": [
      "[0, 0, 0, 0, 0, 0, 0, 0, 0, 0]\n"
     ]
    }
   ],
   "source": [
    "null_10 = [0] * 10\n",
    "print(null_10)"
   ]
  },
  {
   "cell_type": "markdown",
   "metadata": {},
   "source": [
    "При работе со списками также можно использовать расширенные операторы `+=` и `*=`:"
   ]
  },
  {
   "cell_type": "code",
   "execution_count": 18,
   "metadata": {},
   "outputs": [
    {
     "name": "stdout",
     "output_type": "stream",
     "text": [
      "[1, 2, 3, 4, 5, 6]\n",
      "[5, 6, 5, 6, 5, 6, 5, 6, 5, 6]\n"
     ]
    }
   ],
   "source": [
    "list_1 = [1, 2, 3, 4]\n",
    "list_2= [5, 6]\n",
    "\n",
    "# добавляем к первому списку второй список\n",
    "list_1 += list_2   \n",
    "print(list_1)\n",
    "\n",
    "# повторяем второй список 5 раз \n",
    "list_2 *= 5 \n",
    "print(list_2)"
   ]
  },
  {
   "cell_type": "markdown",
   "metadata": {},
   "source": [
    "### Оператор принадлежности `in`\n",
    "Наличие или отсутствие элемента в списке проверяется с помощью оператора `in`:\n",
    "\n",
    "`if <элемент> in <список>`\n",
    "\n",
    " `if <элемент> not in <имя списка>`  "
   ]
  },
  {
   "cell_type": "code",
   "execution_count": 19,
   "metadata": {},
   "outputs": [
    {
     "name": "stdout",
     "output_type": "stream",
     "text": [
      "5\n",
      "Число 5 есть в списке\n"
     ]
    }
   ],
   "source": [
    "num = int(input())\n",
    "if num in numbers:\n",
    "    print(f'Число {num} есть в списке')"
   ]
  },
  {
   "cell_type": "markdown",
   "metadata": {},
   "source": [
    "### Функции `len()`, `sum()`, `reversed()`, `min()`, `max()`, `sorted()`\n",
    "* функция `len()` вычисляет длину списка (то есть количество элементов в нем).  \n",
    "`len(<список>)`     \n",
    "\n",
    "\n",
    "* функция `sum()` вычисляет сумму элементов cписка.   \n",
    "`sum(<список>)`   \n",
    "\n",
    "\n",
    "* функция `reversed()` меняет порядок следования элементов в списке на противоположный (при этом первоначальный список **не** изменяется, а создается новый инвертированный список).     \n",
    "`reversed(<список>)`\n",
    "\n",
    "\n",
    "* функция `min()` находит минимальный элемент cписка.   \n",
    "`min(<список>)`   \n",
    "\n",
    "\n",
    "* функция `max()` находит максимальный элемент cписка.   \n",
    "`max(<список>)`\n",
    "\n",
    "\n",
    "* функция `sorted()` сортирует элементы cписка по возрастанию (при этом первоначальный список **не** изменяется, а создается новый отсортированный список).  \n",
    "`sorted(<список>)`"
   ]
  },
  {
   "cell_type": "code",
   "execution_count": 20,
   "metadata": {},
   "outputs": [
    {
     "name": "stdout",
     "output_type": "stream",
     "text": [
      "Длина: 10\n",
      "Сумма: -4\n",
      "В обратном направлении: 3 -4 8 -2 -9 9 -6 1 3 -7\n",
      "Минимум: -9\n",
      "Максимум: 9\n",
      "Сортировка: [-9, -7, -6, -4, -2, 1, 3, 3, 8, 9]\n"
     ]
    }
   ],
   "source": [
    "numbers = [-7, 3, 1, -6, 9, -9, -2, 8, -4, 3]\n",
    "\n",
    "print('Длина:', len(numbers))\n",
    "print('Сумма:', sum(numbers))\n",
    "\n",
    "srebmun = reversed(numbers)\n",
    "print('В обратном направлении:', *srebmun)\n",
    "\n",
    "print('Минимум:', min(numbers))\n",
    "print('Максимум:', max(numbers))\n",
    "print('Сортировка:', sorted(numbers))"
   ]
  },
  {
   "cell_type": "markdown",
   "metadata": {},
   "source": [
    "Функции `min()`, `max()`, `sorted()` можно использовать только для списков со сравнимыми элементами. При применении их к спискам с несравнимыми элементами произойдет ошибка."
   ]
  },
  {
   "cell_type": "markdown",
   "metadata": {},
   "source": [
    "### Методы `split()` и `join()`\n",
    "Метод `split()` разбивает строку по заданному разделителю на список слов, а метод `join()` собирает строку из списка слов через заданный разделитель:"
   ]
  },
  {
   "cell_type": "code",
   "execution_count": 21,
   "metadata": {},
   "outputs": [
    {
     "name": "stdout",
     "output_type": "stream",
     "text": [
      "['Simple', 'is', 'better', 'than', 'complex']\n"
     ]
    }
   ],
   "source": [
    "# список из слов в предложении\n",
    "stroka = 'Simple is better than complex'\n",
    "slovа = stroka.split() # разделитель по умолчанию - идущие подряд пробелы\n",
    "print(slovа)"
   ]
  },
  {
   "cell_type": "code",
   "execution_count": 22,
   "metadata": {},
   "outputs": [
    {
     "name": "stdout",
     "output_type": "stream",
     "text": [
      "Complex is better than complicated\n"
     ]
    }
   ],
   "source": [
    "slovа = ['Complex', 'is', 'better', 'than', 'complicated']\n",
    "stroka = ' '.join(slovа)\n",
    "print(stroka)"
   ]
  },
  {
   "cell_type": "markdown",
   "metadata": {},
   "source": [
    "## Работа с элементами списка\n",
    "### Изменение элементов списка\n",
    "В отличии от строк, список является **изменяемым** типом данных. Можно отдельному элементу списка присвоить новое значение:"
   ]
  },
  {
   "cell_type": "code",
   "execution_count": 23,
   "metadata": {},
   "outputs": [
    {
     "name": "stdout",
     "output_type": "stream",
     "text": [
      "[-7, 3, 1, 100, 9, -9, -2, 8, -4, 3]\n"
     ]
    }
   ],
   "source": [
    "numbers[3] = 100\n",
    "print(numbers)"
   ]
  },
  {
   "cell_type": "markdown",
   "metadata": {},
   "source": [
    "Для изменения целого диапазона элементов списка можно использовать срезы:"
   ]
  },
  {
   "cell_type": "code",
   "execution_count": 24,
   "metadata": {},
   "outputs": [
    {
     "name": "stdout",
     "output_type": "stream",
     "text": [
      "Длина списка до измененения: 10\n",
      "[-7, 3, 1, 100, 9, 102, 103, 3]\n",
      "Длина списка после измененения: 8\n"
     ]
    }
   ],
   "source": [
    "print('Длина списка до измененения:', len(numbers))\n",
    "\n",
    "numbers[5:9] = [102, 103]\n",
    "\n",
    "print(numbers)\n",
    "print('Длина списка после измененения:', len(numbers))"
   ]
  },
  {
   "cell_type": "markdown",
   "metadata": {},
   "source": [
    "При изменении срезов, нужно учитывать, что если *не непрерывному* срезу (то есть срезу с шагом $k\\ne 1$), присвоить новое значение, то количество элементов в старом и новом срезе обязательно должно совпадать, в противном случае произойдет ошибка `ValueError`."
   ]
  },
  {
   "cell_type": "markdown",
   "metadata": {},
   "source": [
    "### Удаление элементов списка. Оператор `del` \n",
    "С помощью оператора `del` можно удалять элементы списка (в том числе и срезами).\n",
    "\n",
    "`del <имя списка>[<индекс>]`"
   ]
  },
  {
   "cell_type": "markdown",
   "metadata": {},
   "source": [
    "Учитывайте, что `del` является оператором Python, а не cписковым методом — нельзя написать `numbers[5].del()`. Это своего рода обратное присваивание, так как `del` выполняет противоположную присваиванию `=` операцию: открепляет имя от объекта Python и может освободить место объекта в памяти, если это имя являлось последней ссылкой на него."
   ]
  },
  {
   "cell_type": "code",
   "execution_count": 25,
   "metadata": {},
   "outputs": [
    {
     "name": "stdout",
     "output_type": "stream",
     "text": [
      "[-7, 3, 1, -6, 9, -2, 8, -4, 3]\n",
      "[-7, 3, 1, -6, 9]\n"
     ]
    }
   ],
   "source": [
    "numbers = [-7, 3, 1, -6, 9, -9, -2, 8, -4, 3]\n",
    "\n",
    "# удаление элемента с индексом 5\n",
    "del numbers[5]\n",
    "print(numbers)\n",
    "\n",
    "numbers = [-7, 3, 1, -6, 9, -9, -2, 8, -4, 3]\n",
    "\n",
    "# удаление последних пяти элементов\n",
    "del numbers[-5:]\n",
    "print(numbers)"
   ]
  },
  {
   "cell_type": "markdown",
   "metadata": {},
   "source": [
    "### Работа с элементами списка в цикле `for`\n",
    "Для выполнения набора определенных действий с каждым элементом в списке используют цикл `for`:\n",
    "* если нужны только сами элементы, но не их индексы\n",
    "\n",
    "`for <элемент> in <список>:\n",
    "        <блок команд>`\n",
    "* если нужны и элементы, и их индексы\n",
    "\n",
    "`for <индекс> in range(<длина списка>:\n",
    "        <блок команд>`\n",
    "                \n",
    "        "
   ]
  },
  {
   "cell_type": "code",
   "execution_count": 26,
   "metadata": {},
   "outputs": [
    {
     "name": "stdout",
     "output_type": "stream",
     "text": [
      "-7\n",
      "3\n",
      "1\n",
      "-6\n",
      "9\n"
     ]
    }
   ],
   "source": [
    "# вывод элементов списка на печать, каждый на отдельной строке \n",
    "for num in numbers:\n",
    "    print(num)"
   ]
  },
  {
   "cell_type": "markdown",
   "metadata": {},
   "source": [
    "### Распаковка списка при печати\n",
    "Если нужно вывести на печать элементы списка, а не сам список, то помимо цикла `for`, можно использовать распаковку списка:  \n",
    "\n",
    "`print(*<список>)`"
   ]
  },
  {
   "cell_type": "code",
   "execution_count": 27,
   "metadata": {},
   "outputs": [
    {
     "name": "stdout",
     "output_type": "stream",
     "text": [
      "-7 3 1 -6 9\n"
     ]
    }
   ],
   "source": [
    "# по умолчанию при распаковке символы выводятся в одной строке через пробел\n",
    "print(*numbers)"
   ]
  },
  {
   "cell_type": "code",
   "execution_count": 28,
   "metadata": {},
   "outputs": [
    {
     "name": "stdout",
     "output_type": "stream",
     "text": [
      "-7\n",
      "3\n",
      "1\n",
      "-6\n",
      "9\n"
     ]
    }
   ],
   "source": [
    "# можно использовать аргументы функции print\n",
    "print(*numbers, sep = '\\n')"
   ]
  },
  {
   "attachments": {
    "%D0%A1%D0%BA%D1%80%D0%B8%D0%BD%D1%88%D0%BE%D1%82%2027-04-2021%2022.46.42.png": {
     "image/png": "[encoded data removed]"
    }
   },
   "cell_type": "markdown",
   "metadata": {},
   "source": [
    "## Особенность работы со списками в Python\n",
    "Каждый элемент списка является указателем (хранит адрес) объекта.\n",
    "![%D0%A1%D0%BA%D1%80%D0%B8%D0%BD%D1%88%D0%BE%D1%82%2027-04-2021%2022.46.42.png](attachment:%D0%A1%D0%BA%D1%80%D0%B8%D0%BD%D1%88%D0%BE%D1%82%2027-04-2021%2022.46.42.png)"
   ]
  },
  {
   "attachments": {
    "%D0%A1%D0%BA%D1%80%D0%B8%D0%BD%D1%88%D0%BE%D1%82%2027-04-2021%2022.51.40.png": {
     "image/png": "[encoded data removed]"
    }
   },
   "cell_type": "markdown",
   "metadata": {},
   "source": [
    "При обычном (*поверхностном*) копировании создается новый объект-список, но он будет заполнен ссылками на объекты, которые содержались в оригинале.\n",
    "![%D0%A1%D0%BA%D1%80%D0%B8%D0%BD%D1%88%D0%BE%D1%82%2027-04-2021%2022.51.40.png](attachment:%D0%A1%D0%BA%D1%80%D0%B8%D0%BD%D1%88%D0%BE%D1%82%2027-04-2021%2022.51.40.png)"
   ]
  },
  {
   "attachments": {
    "%D0%A1%D0%BA%D1%80%D0%B8%D0%BD%D1%88%D0%BE%D1%82%2027-04-2021%2022.49.52.png": {
     "image/png": "[encoded data removed]"
    }
   },
   "cell_type": "markdown",
   "metadata": {},
   "source": [
    "И **при изменении элементов исходного списка изменится и его копия и наоборот**, поскольку изменяются сами объекты, на которые введут хранящиеся в списках ссылки.\n",
    "![%D0%A1%D0%BA%D1%80%D0%B8%D0%BD%D1%88%D0%BE%D1%82%2027-04-2021%2022.49.52.png](attachment:%D0%A1%D0%BA%D1%80%D0%B8%D0%BD%D1%88%D0%BE%D1%82%2027-04-2021%2022.49.52.png)"
   ]
  },
  {
   "cell_type": "code",
   "execution_count": 29,
   "metadata": {},
   "outputs": [
    {
     "name": "stdout",
     "output_type": "stream",
     "text": [
      "Исходный список [1, 2, 3]\n",
      "Копия [1, 2, 3]\n",
      "Исходный список после изменения [0, 2, 3]\n",
      "Список-копия после изменения исходного списка [0, 2, 3]\n",
      "Исходный список после изменения списка-копии [0, 2, 5, 6]\n",
      "Список-копия после изменения [0, 2, 5, 6]\n"
     ]
    }
   ],
   "source": [
    "list_1 = [1, 2, 3]\n",
    "print('Исходный список', list_1)\n",
    "\n",
    "list_2 = list_1 # cоздается копия\n",
    "print('Копия', list_2)\n",
    "\n",
    "list_1[0] = 0 # меняем элемент исходного списка\n",
    "\n",
    "print('Исходный список после изменения', list_1)\n",
    "print('Список-копия после изменения исходного списка', list_2) # список-копия тоже изменился\n",
    "\n",
    "list_2[2] = 5 # меняем элемент исходного списка\n",
    "list_2.append(6) # добавляем элемент в список-копию\n",
    "\n",
    "print('Исходный список после изменения списка-копии', list_1) # исходный список тоже изменился\n",
    "print('Список-копия после изменения', list_2) "
   ]
  },
  {
   "cell_type": "markdown",
   "metadata": {},
   "source": [
    "Но если выполнить переприсвоение всему списку, то будет создан новый объект, и его дальнейшие изменения не отразятся на копии:"
   ]
  },
  {
   "cell_type": "code",
   "execution_count": 30,
   "metadata": {},
   "outputs": [
    {
     "name": "stdout",
     "output_type": "stream",
     "text": [
      "Исходный список после переписвоения [0, 1]\n",
      "Список-копия после переприсовоения исходного списка [0, 2, 5, 6]\n"
     ]
    }
   ],
   "source": [
    "list_1 = [0, 1] # переприсваиваем весь список (а не меняем его отдельные элементы)\n",
    "\n",
    "print('Исходный список после переприсвоения', list_1)\n",
    "print('Список-копия после переприсвоения исходного списка', list_2) # список-копия не изменился"
   ]
  },
  {
   "cell_type": "markdown",
   "metadata": {},
   "source": [
    "## Списковые методы"
   ]
  },
  {
   "cell_type": "markdown",
   "metadata": {},
   "source": [
    "### Добавление элементов списка\n",
    "### Метод `append()`\n",
    "Метод `append()` добавляет элемент в конец списка.\n",
    "\n",
    "`<список>.append(<элемент>)`"
   ]
  },
  {
   "cell_type": "code",
   "execution_count": 31,
   "metadata": {},
   "outputs": [
    {
     "name": "stdout",
     "output_type": "stream",
     "text": [
      "[-7, 3, 1, -6, 9, -9, -2, 8, -4, 3, 13]\n"
     ]
    }
   ],
   "source": [
    "numbers = [-7, 3, 1, -6, 9, -9, -2, 8, -4, 3]\n",
    "\n",
    "numbers.append(13)\n",
    "\n",
    "print(numbers)"
   ]
  },
  {
   "cell_type": "markdown",
   "metadata": {},
   "source": [
    "Для того чтобы использовать метод `append()`, нужно, чтобы список был создан (при этом он может быть пустым)."
   ]
  },
  {
   "cell_type": "code",
   "execution_count": 32,
   "metadata": {},
   "outputs": [
    {
     "name": "stdout",
     "output_type": "stream",
     "text": [
      "-3\n",
      "5\n",
      "0\n",
      "стоп\n",
      "[-3, 5, 0]\n"
     ]
    }
   ],
   "source": [
    "# Заполнение списка вводимыми пользователем числами, до тех пор, пока не будет введено слово \"стоп\"\n",
    "my_list = []\n",
    "num = input()\n",
    "\n",
    "while num != 'стоп':\n",
    "    my_list.append(int(num))\n",
    "    num = input()\n",
    "    \n",
    "print(my_list)"
   ]
  },
  {
   "cell_type": "markdown",
   "metadata": {},
   "source": [
    "Отличие между методом `append()` и оператором `+` проявляется, если добавляемый элемент тоже является списком: метод `append()` добавляет сам список, а оператор `+` - элементы списка."
   ]
  },
  {
   "cell_type": "code",
   "execution_count": 33,
   "metadata": {},
   "outputs": [
    {
     "name": "stdout",
     "output_type": "stream",
     "text": [
      "[-7, 3, 1, -6, 9, -9, -2, 8, -4, 3, [0, 1, 2]]\n",
      "[-7, 3, 1, -6, 9, -9, -2, 8, -4, 3, 0, 1, 2]\n"
     ]
    }
   ],
   "source": [
    "numbers = [-7, 3, 1, -6, 9, -9, -2, 8, -4, 3]\n",
    "numbers.append([0,1,2])\n",
    "print(numbers)\n",
    "\n",
    "numbers = [-7, 3, 1, -6, 9, -9, -2, 8, -4, 3]\n",
    "numbers += [0,1,2]\n",
    "print(numbers)"
   ]
  },
  {
   "cell_type": "markdown",
   "metadata": {},
   "source": [
    "### Метод `extend()`\n",
    "Метод `extend()` добавляет элементы второго списка в конец первого списка. \n",
    "\n",
    "`<первый список>.extend(<второй список>)`"
   ]
  },
  {
   "cell_type": "code",
   "execution_count": 34,
   "metadata": {},
   "outputs": [
    {
     "name": "stdout",
     "output_type": "stream",
     "text": [
      "[-7, 3, 1, -6, 9, -9, -2, 8, -4, 3, 0, 1, 2]\n"
     ]
    }
   ],
   "source": [
    "numbers = [-7, 3, 1, -6, 9, -9, -2, 8, -4, 3]\n",
    "another_numbers = [0,1,2]\n",
    "\n",
    "numbers.extend(another_numbers)\n",
    "\n",
    "print(numbers)"
   ]
  },
  {
   "cell_type": "markdown",
   "metadata": {},
   "source": [
    "Отличие между методами `append()` и `extend()` проявляется при добавлении строки к списку: метод `append()` добавляет строку целиком к списку, а метод `extend()` разбивает строку на  символы и их добавляет в качестве элементов списка."
   ]
  },
  {
   "cell_type": "code",
   "execution_count": 35,
   "metadata": {},
   "outputs": [
    {
     "name": "stdout",
     "output_type": "stream",
     "text": [
      "['Python', 'C#', 'C++', 'Object Pascal', 'Java']\n",
      "['Python', 'C#', 'C++', 'Object Pascal', 'J', 'a', 'v', 'a']\n"
     ]
    }
   ],
   "source": [
    "languages = ['Python', 'C#', 'C++', 'Object Pascal']\n",
    "languages.append('Java')\n",
    "print(languages)\n",
    "\n",
    "languages = ['Python', 'C#', 'C++', 'Object Pascal']\n",
    "languages.extend('Java')\n",
    "print(languages)"
   ]
  },
  {
   "cell_type": "markdown",
   "metadata": {},
   "source": [
    "### Метод `insert()`\n",
    "Метод `insert()` добавляет элемент в список на позицию с заданным индексом.\n",
    "\n",
    "`<список>.insert(<индекс>, <новый элемент>)`  \n",
    "\n",
    "При этом элементы списка, начиная с `<индекс>+1`, сдвигаются вправо."
   ]
  },
  {
   "cell_type": "code",
   "execution_count": 36,
   "metadata": {},
   "outputs": [
    {
     "name": "stdout",
     "output_type": "stream",
     "text": [
      "[-7, 3, 1, 100, -6, 9, -9, -2, 8, -4, 3]\n"
     ]
    }
   ],
   "source": [
    "numbers = [-7, 3, 1, -6, 9, -9, -2, 8, -4, 3]\n",
    "\n",
    "# добавляем число 100 на позицию с индексом 3\n",
    "numbers.insert(3, 100)\n",
    "\n",
    "print(numbers)"
   ]
  },
  {
   "cell_type": "markdown",
   "metadata": {},
   "source": [
    "Если указан недопустимый индекс, то ошибки не произойдет. Если задан индекс за пределами конца списка, то значение будет добавлено в конец списка. Если применен отрицательный индекс, который указывает на недопустимую позицию, то значение будет вставлено в начало списка."
   ]
  },
  {
   "cell_type": "markdown",
   "metadata": {},
   "source": [
    "### Удаление элементов списка\n",
    "### Метод `remove()`\n",
    "Метод `remove()` удаляет **первое вхождение** элемента, значение которого равняется указанному значению.\n",
    "\n",
    "`<список>.remove(<значение удаляемого элемента>)`"
   ]
  },
  {
   "cell_type": "code",
   "execution_count": 37,
   "metadata": {},
   "outputs": [
    {
     "name": "stdout",
     "output_type": "stream",
     "text": [
      "[-7, 3, 1, -6, -9, -2, 8, -4, 3]\n",
      "[-7, 3, 1, -6, 9, -2, 8, -4, 3]\n"
     ]
    }
   ],
   "source": [
    "numbers = [-7, 3, 1, -6, 9, -9, -2, 8, -4, 3] # в списке есть только одна 9\n",
    "\n",
    "# удаляем число 9\n",
    "numbers.remove(9)\n",
    "\n",
    "print(numbers)\n",
    "\n",
    "numbers = [-7, 3, 1, -6, 9, 9, -2, 8, -4, 3] # в списке есть две 9\n",
    "\n",
    "# удаляем число 9\n",
    "numbers.remove(9)\n",
    "\n",
    "print(numbers)"
   ]
  },
  {
   "cell_type": "markdown",
   "metadata": {},
   "source": [
    "Все элементы в списке после удаленного смещаются на одну позицию к началу списка. Если элемент в списке не найден, то во время выполнения метода происходит ошибка."
   ]
  },
  {
   "cell_type": "markdown",
   "metadata": {},
   "source": [
    "### Метод `pop()`\n",
    "Метод `pop()` удаляет элемента по указанному индексу и возвращает при этом сам элемент.\n",
    "\n",
    "`<список>.pop(<индекс удаляемого элемента>))`"
   ]
  },
  {
   "cell_type": "code",
   "execution_count": 38,
   "metadata": {},
   "outputs": [
    {
     "name": "stdout",
     "output_type": "stream",
     "text": [
      "Удаленное число: 9\n",
      "[-7, 3, 1, -6, -9, -2, 8, -4, 3]\n"
     ]
    }
   ],
   "source": [
    "numbers = [-7, 3, 1, -6, 9, -9, -2, 8, -4, 3]\n",
    "\n",
    "# удаляем элемент с индексом 4 (то есть число 9)\n",
    "num = numbers.pop(4)\n",
    "\n",
    "print('Удаленное число:', num)\n",
    "print(numbers)"
   ]
  },
  {
   "cell_type": "markdown",
   "metadata": {},
   "source": [
    "По умолчанию (если не указать индекс) метод `pop()` удалит последний элемент списка. Если список пуст или указан индекс за пределами диапазона, то во время выполнения метода происходит ошибка."
   ]
  },
  {
   "cell_type": "markdown",
   "metadata": {},
   "source": [
    "### Поиск индекса элемента по его значению. Метод `index()`\n",
    "Метод `index()` возвращает индекс **первого вхождения** элемента, значение которого равняется указанному значению       \n",
    "`<список>.index(<значение элемента>)`"
   ]
  },
  {
   "cell_type": "code",
   "execution_count": 39,
   "metadata": {},
   "outputs": [
    {
     "name": "stdout",
     "output_type": "stream",
     "text": [
      "Элемент с индексом 2\n"
     ]
    }
   ],
   "source": [
    "numbers = [-7, 3, 4, -6, 9, 4, -2, 8, 4, 3]\n",
    "\n",
    "# ищем первый элемент со значением 4\n",
    "num = numbers.index(4)\n",
    "\n",
    "print('Элемент с индексом',num)"
   ]
  },
  {
   "cell_type": "markdown",
   "metadata": {},
   "source": [
    "Если элемент в списке не найден, то во время выполнения происходит ошибка."
   ]
  },
  {
   "cell_type": "markdown",
   "metadata": {},
   "source": [
    "### Подсчет количества вхождений элемента по его значению. Метод `count()`\n",
    "Метод `count()` возвращает количество элементов в списке, значения которых равны указанному значению.\n",
    "\n",
    "`<список>.count(<значение элемента>)`"
   ]
  },
  {
   "cell_type": "code",
   "execution_count": 40,
   "metadata": {},
   "outputs": [
    {
     "name": "stdout",
     "output_type": "stream",
     "text": [
      "3\n"
     ]
    }
   ],
   "source": [
    "numbers = [-7, 3, 4, -6, 9, 4, -2, 8, 4, 3]\n",
    "\n",
    "# считаем количество 4\n",
    "num = numbers.count(4)\n",
    "\n",
    "print(num)"
   ]
  },
  {
   "cell_type": "markdown",
   "metadata": {},
   "source": [
    "Если значение в списке не найдено, то метод возвращает 0."
   ]
  },
  {
   "cell_type": "markdown",
   "metadata": {},
   "source": [
    "### Сортировка списка. Метод `sort()`\n",
    "Метод `sort()` сортирует элементы списка по возрастанию   \n",
    "\n",
    "`<список>.sort()`     \n",
    "\n",
    "или по убыванию    \n",
    "\n",
    "`<список>.sort(reverse = True)`"
   ]
  },
  {
   "cell_type": "code",
   "execution_count": 41,
   "metadata": {},
   "outputs": [
    {
     "name": "stdout",
     "output_type": "stream",
     "text": [
      "[-9, -7, -6, -4, -2, 1, 3, 3, 8, 9]\n",
      "[9, 8, 3, 3, 1, -2, -4, -6, -7, -9]\n"
     ]
    }
   ],
   "source": [
    "numbers = [-7, 3, 1, -6, 9, -9, -2, 8, -4, 3]\n",
    "\n",
    "numbers.sort()\n",
    "print(numbers)\n",
    "\n",
    "numbers.sort(reverse = True)\n",
    "print(numbers)"
   ]
  },
  {
   "cell_type": "markdown",
   "metadata": {},
   "source": [
    "Метод `sort()` использует алгоритм cортировки [Timsort](https://ru.wikipedia.org/wiki/Timsort).    \n",
    "\n",
    "Отличие между функцией `sorted()` и методом `sort()` состоит в том, что функция`sorted()` создает новый отсортированный список, не меняя исходный, а метод `sort()` сортирует сам исходный список, меняя его."
   ]
  },
  {
   "cell_type": "markdown",
   "metadata": {},
   "source": [
    "### Представление списка в обратном порядке. Метод `reverse()`\n",
    "Метод `reverse()` меняет порядок следования элементов в списке на противоположный.\n",
    "\n",
    "`<список>.reverse()`   "
   ]
  },
  {
   "cell_type": "code",
   "execution_count": 42,
   "metadata": {},
   "outputs": [
    {
     "name": "stdout",
     "output_type": "stream",
     "text": [
      "[3, -4, 8, -2, -9, 9, -6, 1, 3, -7]\n"
     ]
    }
   ],
   "source": [
    "numbers = [-7, 3, 1, -6, 9, -9, -2, 8, -4, 3]\n",
    "\n",
    "numbers.reverse()\n",
    "\n",
    "print(numbers)"
   ]
  },
  {
   "cell_type": "markdown",
   "metadata": {},
   "source": [
    "Отличие между функцией `reversed()` (или срезом `<список>[::-1]`) и методом `reverse()` состоит в том, что функция `reversed()` (срез `<список>[::-1]`) создает новый инвертированный список, не меняя исходный, а метод `reverse()` инвертирует сам исходный список, меняя его."
   ]
  },
  {
   "cell_type": "markdown",
   "metadata": {},
   "source": [
    "### Очистка списка. Метод `clear()`\n",
    "Метод `clear()` удаляет все элементы из списка.   \n",
    "\n",
    "`<список>.clear()` "
   ]
  },
  {
   "cell_type": "code",
   "execution_count": 43,
   "metadata": {},
   "outputs": [
    {
     "name": "stdout",
     "output_type": "stream",
     "text": [
      "[]\n"
     ]
    }
   ],
   "source": [
    "numbers = [-7, 3, 1, -6, 9, -9, -2, 8, -4, 3]\n",
    "\n",
    "numbers.clear()\n",
    "\n",
    "print(numbers)"
   ]
  },
  {
   "cell_type": "markdown",
   "metadata": {},
   "source": [
    "### Копирование списка\n",
    "### Метод `copy()`\n",
    "Метод `copy()` используется для создании копии списка.    \n",
    "\n",
    "`<список>.copy()` "
   ]
  },
  {
   "cell_type": "code",
   "execution_count": 44,
   "metadata": {},
   "outputs": [],
   "source": [
    "list_1 = [1, 2, 3]\n",
    "\n",
    "list_2 = list_1.copy()\n",
    "\n",
    "# вместо метода copy можно использовать функцию list или срез\n",
    "list_3 = list(list_1)\n",
    "list_4 = list_1[:]"
   ]
  },
  {
   "cell_type": "markdown",
   "metadata": {},
   "source": [
    "Метод `copy()` производит *поверхностное копирование*: если если все элементы списка являются `list_1` неизменяемыми, то `list_2`, `list_3` и `list_4` являются копиями `list_1` — новыми объектами со своими собственными значениями, **не связанными** с исходным списком объектов `[1, 2, 3]`, на который ссылается `list_1`. Изменение `list_1` не влияет на копии `list_2`, `list_3` и `list_4`:"
   ]
  },
  {
   "cell_type": "code",
   "execution_count": 45,
   "metadata": {},
   "outputs": [
    {
     "name": "stdout",
     "output_type": "stream",
     "text": [
      "[1, 0, 3]\n",
      "[1, 2, 3]\n",
      "[1, 2, 3]\n",
      "[1, 2, 3]\n"
     ]
    }
   ],
   "source": [
    "list_1[1]=0\n",
    "print(list_1)\n",
    "print(list_2) # копии не изменились\n",
    "print(list_3)\n",
    "print(list_4)"
   ]
  },
  {
   "cell_type": "markdown",
   "metadata": {},
   "source": [
    "Но если элемента списка будут изменяемыми значениями (например, списками, кортежами или словарями), то изменение оригинала или копии отразится на каждом из них. "
   ]
  },
  {
   "cell_type": "code",
   "execution_count": 46,
   "metadata": {},
   "outputs": [
    {
     "name": "stdout",
     "output_type": "stream",
     "text": [
      "[1, [2, 1], 3]\n",
      "[1, [2, 1], 3]\n",
      "[1, [2, 1], 3]\n",
      "[1, [2, 1], 3]\n"
     ]
    }
   ],
   "source": [
    "list_1 = [1, [0, 1], 3]\n",
    "\n",
    "list_2 = list_1.copy()\n",
    "list_3 = list(list_1)\n",
    "list_4 = list_1[:]\n",
    "\n",
    "list_1[1][0]=2\n",
    "\n",
    "print(list_1)\n",
    "print(list_2) # копии изменились\n",
    "print(list_3)\n",
    "print(list_4)"
   ]
  },
  {
   "cell_type": "markdown",
   "metadata": {},
   "source": [
    "### Функция `deepcopy()`\n",
    "Функция `deepcopy()` из модуля `copy` используется для создании копии списка, при этом происходит *глубокое* копирование. При глубоком копировании создается новый объект и рекурсивно создаются копии всех объектов, содержащихся в оригинал."
   ]
  },
  {
   "cell_type": "code",
   "execution_count": 47,
   "metadata": {},
   "outputs": [
    {
     "name": "stdout",
     "output_type": "stream",
     "text": [
      "[1, [2, 1], 3]\n",
      "[1, [0, 1], 3]\n"
     ]
    }
   ],
   "source": [
    "list_1 = [1, [0, 1], 3]\n",
    "\n",
    "import copy\n",
    "\n",
    "list_2 = copy.deepcopy(list_1)\n",
    "\n",
    "list_1[1][0]=2\n",
    "\n",
    "print(list_1)\n",
    "print(list_2) # копия не изменилась"
   ]
  },
  {
   "cell_type": "markdown",
   "metadata": {},
   "source": [
    "## Списки списков (\"матрицы\")\n",
    "Элементами списка также могут быть списки. За счет этого можно создавать и обрабатывать прямоугольные таблицы с данными (\"матрицы\")."
   ]
  },
  {
   "cell_type": "code",
   "execution_count": 48,
   "metadata": {},
   "outputs": [
    {
     "name": "stdout",
     "output_type": "stream",
     "text": [
      "[[1, 2, 3], [4, 5, 6]]\n"
     ]
    }
   ],
   "source": [
    "matrix = [[1, 2, 3], [4, 5, 6]]\n",
    "print(matrix)"
   ]
  },
  {
   "cell_type": "markdown",
   "metadata": {},
   "source": [
    "Обращение к элементу вложенного списка происходит через указание двух индексов: сначала - индекс элемента внешнего списка (\"строки\"), затем - индекс элемента вложенного списка (\"столбца\")."
   ]
  },
  {
   "cell_type": "code",
   "execution_count": 49,
   "metadata": {},
   "outputs": [
    {
     "name": "stdout",
     "output_type": "stream",
     "text": [
      "3\n",
      "4\n",
      "[4, 5, 6]\n"
     ]
    }
   ],
   "source": [
    "print(matrix[0][2]) # последний элемент в первой \"строке\"\n",
    "print(matrix[1][0]) # первый элемент во второй \"строке\"\n",
    "print(matrix[1]) # вторая \"строка\""
   ]
  },
  {
   "cell_type": "markdown",
   "metadata": {},
   "source": [
    "Для обработки и вывода такого списка, как правило, используют два вложенных цикла. Первый цикл перебирает \"строки\" (или индексы \"строк\"), второй цикл бежит по элементам внутри \"строки\" (или по индексам \"столбцов\")."
   ]
  },
  {
   "cell_type": "code",
   "execution_count": 50,
   "metadata": {},
   "outputs": [
    {
     "name": "stdout",
     "output_type": "stream",
     "text": [
      "1\t4\t9\t\n",
      "16\t25\t36\t\n"
     ]
    }
   ],
   "source": [
    "# считаем и выводим квадраты элементов \"матрицы\" в виде таблицы\n",
    "for row in matrix:\n",
    "    for element in row:\n",
    "        print(element ** 2, end = '\\t')\n",
    "    print()"
   ]
  },
  {
   "cell_type": "code",
   "execution_count": 51,
   "metadata": {},
   "outputs": [
    {
     "name": "stdout",
     "output_type": "stream",
     "text": [
      "1\t4\t9\t\n",
      "16\t25\t36\t\n"
     ]
    }
   ],
   "source": [
    "# считаем и выводим квадраты элементов \"матрицы\" в виде таблицы c использованием индексов\n",
    "for i in range(2):\n",
    "    for j in range(3):\n",
    "        print(matrix[i][j] ** 2, end = '\\t')\n",
    "    print()"
   ]
  },
  {
   "cell_type": "markdown",
   "metadata": {},
   "source": [
    "Для вывода списка списков также удобно использовать метод `join()`:"
   ]
  },
  {
   "cell_type": "code",
   "execution_count": 52,
   "metadata": {},
   "outputs": [
    {
     "name": "stdout",
     "output_type": "stream",
     "text": [
      "1\t2\t3\n",
      "4\t5\t6\n"
     ]
    }
   ],
   "source": [
    "# вывод \"матрицы\" в виде таблицы с использованием join\n",
    "for row in matrix:\n",
    "    print('\\t'.join([str(element) for element in row]))"
   ]
  },
  {
   "cell_type": "markdown",
   "metadata": {},
   "source": [
    "## Списковые включения (генераторы списков)\n",
    "Для создания списка могут быть использованы ранее рассмотренные способы, однако более характерным для Python является создание списка с помощью списковых включений. Простейшая форма такого включения выглядит следующим образом:\n",
    "\n",
    "`[<выражение> for <переменная> in <последовательность>]`\n",
    "\n",
    "где `переменная` — имя некоторой переменной, `последовательность` — последовательность значений, которые она принимает (список, строка или объект, полученный при помощи функции range), `выражение` — некоторое выражение (как правило, зависящее от использованной переменной) которым будут заполнены элементы списка."
   ]
  },
  {
   "cell_type": "code",
   "execution_count": 53,
   "metadata": {},
   "outputs": [
    {
     "name": "stdout",
     "output_type": "stream",
     "text": [
      "[-10, -9, -8, -7, -6, -5, -4, -3, -2, -1, 0, 1, 2, 3, 4, 5, 6, 7, 8, 9, 10]\n",
      "[100, 81, 64, 49, 36, 25, 16, 9, 4, 1, 0, 1, 4, 9, 16, 25, 36, 49, 64, 81, 100]\n",
      "[-5, -3, 7, -9, -10, -7, -4, -10, -4, -4, -2, -6, 9, -6, -2, 6, 6, -5, -2, -6]\n"
     ]
    }
   ],
   "source": [
    "# список из целых чисел от -10 до 10 включительно\n",
    "numbers_1 = [number for number in range(-10,11)]\n",
    "print(numbers_1)\n",
    "\n",
    "# список из квадратов целых чисел от -10 до 10 включительно\n",
    "numbers_2 = [number**2 for number in range(-10,11)]\n",
    "print(numbers_2)\n",
    "\n",
    "# список из 20 случайных целых чисел в диапазоне от -10 до 10 включительно\n",
    "from random import randrange\n",
    "numbers_3 = [randrange(-10, 11) for number in range(20)] # аргументы randrange аналогичны аргументам range \n",
    "print(numbers_3)"
   ]
  },
  {
   "cell_type": "markdown",
   "metadata": {},
   "source": [
    "В списковое включение можно добавить условное выражение:    \n",
    "\n",
    "`[<выражение> for <переменная> in <последовательность> if <условие>]`"
   ]
  },
  {
   "cell_type": "code",
   "execution_count": 54,
   "metadata": {},
   "outputs": [
    {
     "name": "stdout",
     "output_type": "stream",
     "text": [
      "[81, 64, 4, 1, 1, 4, 64, 81]\n"
     ]
    }
   ],
   "source": [
    "# список из квадратов целых чисел от -10 до 10 включительно, оканчивающихся на 1 или 4\n",
    "numbers_4 = [number**2 for number in range(-10,11) if number**2 % 10 == 1 or number**2 % 10 == 4]\n",
    "print(numbers_4)"
   ]
  },
  {
   "cell_type": "markdown",
   "metadata": {},
   "source": [
    "Точно так же, как и при работе с вложенными циклами, в списковом включении можно написать более чем один набор операторов `for` (для каждого из которых может быть дополнительно указан и `if`):"
   ]
  },
  {
   "cell_type": "code",
   "execution_count": 55,
   "metadata": {},
   "outputs": [
    {
     "name": "stdout",
     "output_type": "stream",
     "text": [
      "[(-2, 0), (-2, 1), (-2, 2), (-2, 3), (-1, 0), (-1, 1), (-1, 2), (-1, 3), (0, 0), (0, 1), (0, 2), (0, 3), (1, 0), (1, 1), (1, 2), (1, 3), (2, 0), (2, 1), (2, 2), (2, 3)]\n"
     ]
    }
   ],
   "source": [
    "# список из кортежей координат точек\n",
    "# где x принимает все целые значения от -2 до 2 включительно, а y - от 0 до 3 включительно\n",
    "coords = [(x, y) for x in range(-2,3) for y in range(4)]\n",
    "print(coords)"
   ]
  },
  {
   "cell_type": "markdown",
   "metadata": {},
   "source": [
    "В списковое включение можно вложить другое списковое включение, тем самым генерируя список списков (матрицу).\n",
    "\n",
    "`[[<выражение> for <переменная 2> in <последовательность 2>] for <переменная 1> in <последовательность 1>]`"
   ]
  },
  {
   "cell_type": "code",
   "execution_count": 57,
   "metadata": {},
   "outputs": [
    {
     "name": "stdout",
     "output_type": "stream",
     "text": [
      "1\t2\t3\t4\t5\t6\t\n",
      "2\t4\t6\t8\t10\t12\t\n",
      "3\t6\t9\t12\t15\t18\t\n",
      "4\t8\t12\t16\t20\t24\t\n"
     ]
    }
   ],
   "source": [
    "# матрица произведений всех целых чисел от 1 до 6 (включительно) на целые числа от 1 до 4 (включительно)\n",
    "times_table = [[i*j for j in range(1,7)] for i in range(1,5)]\n",
    "\n",
    "# вывод в виде таблицы\n",
    "for i in range(len(times_table)):\n",
    "    for j in range(len(times_table[0])): \n",
    "        print(times_table[i][j], end = '\\t')\n",
    "    print()"
   ]
  },
  {
   "cell_type": "markdown",
   "metadata": {},
   "source": [
    "Для генерации \"матрицы\" из повторяющихся значений используют списковое выражение вместе с оператором `*`:"
   ]
  },
  {
   "cell_type": "code",
   "execution_count": 58,
   "metadata": {},
   "outputs": [
    {
     "name": "stdout",
     "output_type": "stream",
     "text": [
      "[[0, 0], [0, 0], [0, 0]]\n"
     ]
    }
   ],
   "source": [
    "# \"матрица\" размером 3 на 2 из нулей\n",
    "null = [[0] * 2 for i in range(3)]\n",
    "print(null)"
   ]
  },
  {
   "cell_type": "markdown",
   "metadata": {},
   "source": [
    "Важно: код `[[0] * m] * n` приведет к изменению всех элементов при попытке измненить один из них, так как при этом `[0] * m` возвращает сcылку на список из `m` нулей и  последующее повторение этого элемента создает список из `n` элементов, которые являются ссылкой на один и тот же список (точно так же, как выполнение операции `b = a` для списков не создает новый список), поэтому все строки результирующего списка на самом деле являются одной и той же строкой."
   ]
  },
  {
   "cell_type": "markdown",
   "metadata": {},
   "source": [
    "#### Считывание входных данных\n",
    "Списковые включения можно использовать для заполнения списка вводимыми пользователем значениями:"
   ]
  },
  {
   "cell_type": "code",
   "execution_count": 59,
   "metadata": {},
   "outputs": [
    {
     "name": "stdout",
     "output_type": "stream",
     "text": [
      "-4\n",
      "5\n",
      "2\n",
      "-4\n",
      "7\n",
      "[-4, 5, 2, -4, 7]\n"
     ]
    }
   ],
   "source": [
    "# список из 5 целых чисел, вводимых построчно\n",
    "numbers_5 = [int(input()) for number in range(5)]\n",
    "print(numbers_5)"
   ]
  },
  {
   "cell_type": "markdown",
   "metadata": {},
   "source": [
    "Если переменная не используется в выражении, то ее можно упускать:"
   ]
  },
  {
   "cell_type": "code",
   "execution_count": 60,
   "metadata": {},
   "outputs": [
    {
     "name": "stdout",
     "output_type": "stream",
     "text": [
      "1\n",
      "2\n",
      "3\n",
      "4\n",
      "5\n",
      "[1, 2, 3, 4, 5]\n"
     ]
    }
   ],
   "source": [
    "numbers_5 = [int(input()) for _ in range(5)]\n",
    "print(numbers_5)"
   ]
  },
  {
   "cell_type": "code",
   "execution_count": 61,
   "metadata": {},
   "outputs": [
    {
     "name": "stdout",
     "output_type": "stream",
     "text": [
      "-3 5 0 -11 5 8\n",
      "[-3, 5, 0, -11, 5, 8]\n"
     ]
    }
   ],
   "source": [
    "# список из целых чисел, вводимых в одной строке\n",
    "# input() - считывается строка\n",
    "# input().split() - считанная строка разбивается на подстроки по пробелам\n",
    "# int(number) for number in - каждая подстрока в получившемся разбиении переводится в целое число\n",
    "\n",
    "numbers_5 = [int(number) for number in input().split()] \n",
    "print(numbers_5)"
   ]
  },
  {
   "cell_type": "code",
   "execution_count": 62,
   "metadata": {},
   "outputs": [
    {
     "name": "stdout",
     "output_type": "stream",
     "text": [
      "1 4 7 -2\n",
      "45 29 -3 5\n"
     ]
    }
   ],
   "source": [
    "# \"матрица\" из двух строк\n",
    "numbers_6 = [[int(j) for j in input().split()] for i in range(2)]"
   ]
  },
  {
   "cell_type": "markdown",
   "metadata": {},
   "source": [
    "## Функция `map()`\n",
    "Функция `map()`позволяет создавать новый список на основе существующего списка: она принимает в качестве аргументов имя функции (в том числе и написанной пользователем функции) и список (или строку, или другой иттерируемый объект). Каждый элемент списка подается на вход функции, и результат работы функции добавляется как элемент нового списка.\n",
    "\n",
    "`map(<функция>, <cписок>`)\n",
    "\n",
    "Получить результат вызова функции `map()` можно через цикл `for` или функцию `list()`."
   ]
  },
  {
   "cell_type": "code",
   "execution_count": 63,
   "metadata": {},
   "outputs": [
    {
     "name": "stdout",
     "output_type": "stream",
     "text": [
      "[1.0, 2.718281828459045, 7.38905609893065, 20.085536923187668]\n"
     ]
    }
   ],
   "source": [
    "import math\n",
    "x = [0, 1, 2, 3]\n",
    "\n",
    "exponenta = list(map(math.exp, x))\n",
    "\n",
    "print(exponenta)"
   ]
  },
  {
   "cell_type": "markdown",
   "metadata": {},
   "source": [
    "## Функция `zip()`\n",
    "Функция `zip()` позволяет параллельно перебирать элементы (с одинаковым индексом) из нескольких списков (или строк, или других иттерируемых объектов).\n",
    "\n",
    "`zip(<cписок 1>, <cписок 2>, ...`)      \n",
    "\n",
    "Функция прекратит свою работу, когда будет выполнена самая короткая последовательность. "
   ]
  },
  {
   "cell_type": "code",
   "execution_count": 64,
   "metadata": {},
   "outputs": [
    {
     "name": "stdout",
     "output_type": "stream",
     "text": [
      "1 * a\n",
      "2 & b\n",
      "3 ! c\n"
     ]
    }
   ],
   "source": [
    "list_1 = [1, 2, 3, 4]\n",
    "list_2 = ['a', 'b', 'c']\n",
    "list_3 = ['*', '&', '!', '#', '@']\n",
    "\n",
    "for number, letter, sign in zip(list_1, list_2, list_3): # второй список короче других, поэтому цикл пройдет только 3 иттерации\n",
    "    print(number, sign, letter)"
   ]
  },
  {
   "cell_type": "code",
   "execution_count": 65,
   "metadata": {},
   "outputs": [
    {
     "name": "stdout",
     "output_type": "stream",
     "text": [
      "[(1, 'a', '*'), (2, 'b', '&'), (3, 'c', '!')]\n"
     ]
    }
   ],
   "source": [
    "# список из кортежей троек попарных элементов каждого из списков\n",
    "list_4 = list(zip(list_1, list_2, list_3))\n",
    "print(list_4) "
   ]
  }
 ],
 "metadata": {
  "kernelspec": {
   "display_name": "Python 3",
   "language": "python",
   "name": "python3"
  },
  "language_info": {
   "codemirror_mode": {
    "name": "ipython",
    "version": 3
   },
   "file_extension": ".py",
   "mimetype": "text/x-python",
   "name": "python",
   "nbconvert_exporter": "python",
   "pygments_lexer": "ipython3",
   "version": "3.8.5"
  }
 },
 "nbformat": 4,
 "nbformat_minor": 4
}
