{
 "cells": [
  {
   "cell_type": "markdown",
   "metadata": {},
   "source": [
    "# Модуль math\n",
    "Математические функции и функций для работы с числовыми данными собраны в модуль math. Для использования этих функций в начале программы (или до первого обращения к функциям) необходимо подключить модуль.\n",
    "\n",
    "## Подключение модуля и вызов функций\n",
    "Подключить модуль можно несколькими способами. Самый простой - это импорт модуля с помощью команды `import`"
   ]
  },
  {
   "cell_type": "code",
   "execution_count": 1,
   "metadata": {},
   "outputs": [],
   "source": [
    "# основной способ подключения модуля\n",
    "import math "
   ]
  },
  {
   "cell_type": "markdown",
   "metadata": {},
   "source": [
    "После этого можно использовать функции из модуля. Для их вызова нужно использовать конструкцию\n",
    "<имя модуля>.<имя функции>(<параметры>)\n",
    "сперва указывая имя модуля, затем, через точку - имя функции. Например,"
   ]
  },
  {
   "cell_type": "code",
   "execution_count": 2,
   "metadata": {},
   "outputs": [
    {
     "data": {
      "text/plain": [
       "1.0"
      ]
     },
     "execution_count": 2,
     "metadata": {},
     "output_type": "execute_result"
    }
   ],
   "source": [
    "math.cos(0)"
   ]
  },
  {
   "cell_type": "markdown",
   "metadata": {},
   "source": [
    "Если название модуля (библиотеки) длинное, то, чтобы не писать его каждый раз польностью при вызове функции, можно использовать подключение модуля c заменой названия модуля   \n",
    "`import <имя модуля> as <псевдоним>`"
   ]
  },
  {
   "cell_type": "code",
   "execution_count": 3,
   "metadata": {},
   "outputs": [],
   "source": [
    "# подключение модуля c заменой названия модуля\n",
    "import math as m"
   ]
  },
  {
   "cell_type": "markdown",
   "metadata": {},
   "source": [
    "После этого вместо исходного название модуля при вызове функции нужно писать выбранный вами \"псевдоним\" модуля"
   ]
  },
  {
   "cell_type": "code",
   "execution_count": 4,
   "metadata": {},
   "outputs": [
    {
     "data": {
      "text/plain": [
       "1.0"
      ]
     },
     "execution_count": 4,
     "metadata": {},
     "output_type": "execute_result"
    }
   ],
   "source": [
    "m.cos(0)"
   ]
  },
  {
   "cell_type": "markdown",
   "metadata": {},
   "source": [
    "Другой способ использовать функции из модуля, при котором не нужно будет при каждом вызове функции указывать название этого модуля, это подключение не всего модуля, а только необходимых вам функций   \n",
    "`from <имя модуля> import <функция 1>, <функция 2>, ...`"
   ]
  },
  {
   "cell_type": "code",
   "execution_count": 5,
   "metadata": {},
   "outputs": [],
   "source": [
    "# подключение отдельных функций из модуля\n",
    "from math import sin, cos"
   ]
  },
  {
   "cell_type": "code",
   "execution_count": 6,
   "metadata": {},
   "outputs": [
    {
     "data": {
      "text/plain": [
       "1.0"
      ]
     },
     "execution_count": 6,
     "metadata": {},
     "output_type": "execute_result"
    }
   ],
   "source": [
    "cos(0)"
   ]
  },
  {
   "cell_type": "code",
   "execution_count": 7,
   "metadata": {},
   "outputs": [
    {
     "data": {
      "text/plain": [
       "0.0"
      ]
     },
     "execution_count": 7,
     "metadata": {},
     "output_type": "execute_result"
    }
   ],
   "source": [
    "sin(0)"
   ]
  },
  {
   "cell_type": "markdown",
   "metadata": {},
   "source": [
    "При необходимости можно во время подключения функций из модуля дать им \"псевдонимы\"   \n",
    "`from <имя модуля> import <имя функции в модуле> as <имя функции в программе>`"
   ]
  },
  {
   "cell_type": "code",
   "execution_count": 8,
   "metadata": {},
   "outputs": [],
   "source": [
    "# подключение отдельных функций из модуля с заменой названия функции\n",
    "from math import degrees as dg, radians as rd"
   ]
  },
  {
   "cell_type": "code",
   "execution_count": 9,
   "metadata": {},
   "outputs": [
    {
     "data": {
      "text/plain": [
       "3.141592653589793"
      ]
     },
     "execution_count": 9,
     "metadata": {},
     "output_type": "execute_result"
    }
   ],
   "source": [
    "rd(180)"
   ]
  },
  {
   "cell_type": "code",
   "execution_count": 10,
   "metadata": {},
   "outputs": [
    {
     "data": {
      "text/plain": [
       "179.99469134034814"
      ]
     },
     "execution_count": 10,
     "metadata": {},
     "output_type": "execute_result"
    }
   ],
   "source": [
    "dg(3.1415)"
   ]
  },
  {
   "cell_type": "markdown",
   "metadata": {},
   "source": [
    "Наконец, можно подлючить все функций из модуля (не рекомендуется использовать этот способ без необходимости, лучше подключать сам модуль)"
   ]
  },
  {
   "cell_type": "code",
   "execution_count": 11,
   "metadata": {},
   "outputs": [],
   "source": [
    "# подключение всех функций из модуля\n",
    "from math import *"
   ]
  },
  {
   "cell_type": "code",
   "execution_count": 12,
   "metadata": {},
   "outputs": [
    {
     "data": {
      "text/plain": [
       "0.0"
      ]
     },
     "execution_count": 12,
     "metadata": {},
     "output_type": "execute_result"
    }
   ],
   "source": [
    "tan(0)"
   ]
  },
  {
   "cell_type": "markdown",
   "metadata": {},
   "source": [
    "## Список основных функций модуля math\n",
    "Далее преполается, что был подключен модуль math (`import math`)\n",
    "\n",
    "**Важно**: почти всегда результат вычислений с использованием функций модуля math - это вещественное число\n",
    "\n",
    "### Константы\n",
    "* `pi` - число $\\pi$"
   ]
  },
  {
   "cell_type": "code",
   "execution_count": 13,
   "metadata": {},
   "outputs": [
    {
     "data": {
      "text/plain": [
       "3.141592653589793"
      ]
     },
     "execution_count": 13,
     "metadata": {},
     "output_type": "execute_result"
    }
   ],
   "source": [
    "math.pi"
   ]
  },
  {
   "cell_type": "markdown",
   "metadata": {},
   "source": [
    "* `e` - число $e$"
   ]
  },
  {
   "cell_type": "code",
   "execution_count": 14,
   "metadata": {},
   "outputs": [
    {
     "data": {
      "text/plain": [
       "2.718281828459045"
      ]
     },
     "execution_count": 14,
     "metadata": {},
     "output_type": "execute_result"
    }
   ],
   "source": [
    "math.e"
   ]
  },
  {
   "cell_type": "markdown",
   "metadata": {},
   "source": [
    "* `inf` - плюс бесконечность $+\\infty$. Для минус бесконечности используйте унарный минус   \n",
    "Также бесконечность можно получить при преобразовании в вещественный тип `float('inf')`"
   ]
  },
  {
   "cell_type": "markdown",
   "metadata": {},
   "source": [
    "### Функции для округления\n",
    "* `floor(x)` - округляет число `x` до ближайшего меньшего целого"
   ]
  },
  {
   "cell_type": "code",
   "execution_count": 15,
   "metadata": {},
   "outputs": [
    {
     "data": {
      "text/plain": [
       "1"
      ]
     },
     "execution_count": 15,
     "metadata": {},
     "output_type": "execute_result"
    }
   ],
   "source": [
    "# округление вниз\n",
    "math.floor(1.5)"
   ]
  },
  {
   "cell_type": "code",
   "execution_count": 16,
   "metadata": {},
   "outputs": [
    {
     "data": {
      "text/plain": [
       "-2"
      ]
     },
     "execution_count": 16,
     "metadata": {},
     "output_type": "execute_result"
    }
   ],
   "source": [
    "# округление вниз\n",
    "math.floor(-1.5)"
   ]
  },
  {
   "cell_type": "markdown",
   "metadata": {},
   "source": [
    "* `ceil(x)` - округляет число `x` до ближайшего большего целого"
   ]
  },
  {
   "cell_type": "code",
   "execution_count": 17,
   "metadata": {},
   "outputs": [
    {
     "data": {
      "text/plain": [
       "2"
      ]
     },
     "execution_count": 17,
     "metadata": {},
     "output_type": "execute_result"
    }
   ],
   "source": [
    "# округление вверх\n",
    "math.ceil(1.5)"
   ]
  },
  {
   "cell_type": "code",
   "execution_count": 18,
   "metadata": {},
   "outputs": [
    {
     "data": {
      "text/plain": [
       "-1"
      ]
     },
     "execution_count": 18,
     "metadata": {},
     "output_type": "execute_result"
    }
   ],
   "source": [
    "# округление вверх\n",
    "math.ceil(-1.5)"
   ]
  },
  {
   "cell_type": "markdown",
   "metadata": {},
   "source": [
    "### Степени и логарфимы\n",
    "* `exp(x)` - вычисляет $e^x$\n",
    "* `sqrt(x)` - вычисляет квадратный корень из `x`\n",
    "* `log(x)` - вычисляет натуральный логарифм $\\ln x$\n",
    "* `log2(x)` - вычисляет двоичный логарифм $ \\log_2 x$\n",
    "* `log10(x)` - вычисляет десятичный логарифм $ \\log_{10} x$\n",
    "* `log(x, base)` - вычисляет логарифм по основанию `base` $ \\log_{base} x$\n",
    "\n",
    "### Тригонометрические  и обратные тригонометрические функции\n",
    "* `cos(x)` - вычисляет косинус от `x`, заданного в радианах\n",
    "* `sin(x)` - вычисляет синус от `x`, заданного в радианах\n",
    "* `tan(x)` - вычисляет тангенс от `x`, заданного в радианах\n",
    "* `acos(x)` - вычисляет арккосинус от `x` (x в интервале от -1 до 1), результат  - значение в радианах\n",
    "* `asin(x)` - вычисляет арксинус от `x` (x в интервале от -1 до 1), результат  - значение в радианах\n",
    "* `atan(x)` - вычисляет арктангенс от `x` (x в интервале от -1 до 1), результат  - значение в радианах\n",
    "\n",
    "### Функции для работы с углами\n",
    "* `degrees(x)` - конвертирует радианы в градусы\n",
    "* `radians(x)` - конвертирует градусы в радианы"
   ]
  },
  {
   "cell_type": "markdown",
   "metadata": {},
   "source": [
    "Полный список функций и их описание - https://docs.python.org/3/library/math.html"
   ]
  },
  {
   "cell_type": "markdown",
   "metadata": {},
   "source": [
    "# Форматирование строк\n",
    "В случае, когда необходимо вывести текст, подставляя в него вычисленные данные, помимо варианта с перечеслением через запятую в методе `print`"
   ]
  },
  {
   "cell_type": "code",
   "execution_count": 19,
   "metadata": {},
   "outputs": [
    {
     "name": "stdout",
     "output_type": "stream",
     "text": [
      "При x = 3.14 и y = 2.7 значение функции равно 1.9665299031118333\n"
     ]
    }
   ],
   "source": [
    "x = 3.14\n",
    "y = 2.7\n",
    "z = math.log(x)+math.atan(y)**-1\n",
    "print('При x =', x, 'и y =', y, 'значение функции равно', z)"
   ]
  },
  {
   "cell_type": "markdown",
   "metadata": {},
   "source": [
    "и варианта с конкатенацией строк"
   ]
  },
  {
   "cell_type": "code",
   "execution_count": 20,
   "metadata": {},
   "outputs": [
    {
     "name": "stdout",
     "output_type": "stream",
     "text": [
      "При x = 3.14 и y = 2.7 значение функции равно 1.9665299031118333\n"
     ]
    }
   ],
   "source": [
    "x = 3.14\n",
    "y = 2.7\n",
    "z = math.log(x)+math.atan(y)**-1\n",
    "print('При x = ' + str(x) + ' и y = ' + str(y) + ' значение функции равно ' + str(z))"
   ]
  },
  {
   "cell_type": "markdown",
   "metadata": {},
   "source": [
    "более удобным бывает вариант с подстановкой данных за счет форматирования строк.\n",
    "\n",
    "## Метод `format`  (новый стиль)\n",
    "Метод `format()` выполняет подстановку аргументов в указанных местах строки, относительно которой он вызван:"
   ]
  },
  {
   "cell_type": "code",
   "execution_count": 21,
   "metadata": {},
   "outputs": [
    {
     "name": "stdout",
     "output_type": "stream",
     "text": [
      "При x = 3.14 и y = 2.7 значение функции равно 1.9665299031118333\n"
     ]
    }
   ],
   "source": [
    "x = 3.14\n",
    "y = 2.7\n",
    "z = math.log(x)+math.atan(y)**-1\n",
    "print('При x = {1} и y = {2} значение функции равно {0}'.format(z, x, y))"
   ]
  },
  {
   "cell_type": "markdown",
   "metadata": {},
   "source": [
    "Фигурными скобками обозначены те места, в которых необходимо выполнить подстановку данных.   \n",
    "Номера в фигурных скобках – это индексы позиционных аргументов метода `format`. Поскольку нумерация начинается с 0, то аргументы z, x, y имеют номера 0, 1 и 2 соотвественно.\n",
    "Если номера не будут указаны, то аргументы будут подставлены по порядку:"
   ]
  },
  {
   "cell_type": "code",
   "execution_count": 22,
   "metadata": {},
   "outputs": [
    {
     "name": "stdout",
     "output_type": "stream",
     "text": [
      "При x = 3.14 и y = 2.7 значение функции равно 1.9665299031118333\n"
     ]
    }
   ],
   "source": [
    "x = 3.14\n",
    "y = 2.7\n",
    "z = math.log(x)+math.atan(y)**-1\n",
    "print('При x = {} и y = {} значение функции равно {}'.format(x, y, z))"
   ]
  },
  {
   "cell_type": "markdown",
   "metadata": {},
   "source": [
    "Также можно использовать аргументы ключевые слова вместо (или вместе с) позиционными аргументами:"
   ]
  },
  {
   "cell_type": "code",
   "execution_count": 23,
   "metadata": {},
   "outputs": [
    {
     "name": "stdout",
     "output_type": "stream",
     "text": [
      "При x = 3.14 и y = 2.7 значение функции равно 1.9665299031118333\n"
     ]
    }
   ],
   "source": [
    "x = 3.14\n",
    "y = 2.7\n",
    "function = math.log(x)+math.atan(y)**-1\n",
    "print('При x = {X} и y = {Y} значение функции равно {z}'.format(X=x, Y=y, z=function))"
   ]
  },
  {
   "cell_type": "markdown",
   "metadata": {},
   "source": [
    "Метод `format` позволяет не только подставить данные в строку, но и с помощью спецификаторов формата выполнить при этом их форматирование:"
   ]
  },
  {
   "cell_type": "code",
   "execution_count": 24,
   "metadata": {},
   "outputs": [
    {
     "name": "stdout",
     "output_type": "stream",
     "text": [
      "При x = 3.14 и y = 2.7 значение функции равно 1.9665\n"
     ]
    }
   ],
   "source": [
    "x = 3.14\n",
    "y = 2.7\n",
    "z = math.log(x)+math.atan(y)**-1\n",
    "print('При x = {0} и y = {1} значение функции равно {2:.4f}'.format(x, y, z))"
   ]
  },
  {
   "cell_type": "markdown",
   "metadata": {},
   "source": [
    "Спецификатор формата указывается через двочеточие после имени или номера в фигурных скобках. Синтаксис спецификатора имеет вид    \n",
    "`[заполнитель][выравниванием][знак][ширина][.точность][тип]`    \n",
    "\n",
    "* заполнитель — один символ, выступающий в роли заполнителя\n",
    "* выравнивание — позволяет с помощью символов `<`, `>`, `=` и `^` указать выравнивание подставляемого значения\n",
    "* знак — с помощью символов `+`, `-` и ` ` управляет отображением знака числа\n",
    "* ширина — задает ширину подставляемого значения\n",
    "* точность — определяет точность подставляемого числового значения\n",
    "* тип — определяет тип подставляемого значения, с помощью одного из допустимых символов `b`, `c`, `d`, `e`, `E`, `f`, `F`, `g`, `G`, `n`, `o`, `s`, `x`, `X`, `%`\n",
    "\n",
    "Каждый из указанных параметров - не обязательный и может быть пропущен.   \n",
    "\n",
    "\n",
    "Более подробно прочитать про спецификаторы с примерами их использования можно на:\n",
    "* https://pythonru.com/osnovy/formatirovanie-v-python-s-pomoshhju-format\n",
    "* https://pyprog.pro/python/py/str/str_format_method.html - после заголовка \"Форматирование\"\n",
    "* https://pythonworld.ru/osnovy/formatirovanie-strok-metod-format.html"
   ]
  },
  {
   "cell_type": "markdown",
   "metadata": {},
   "source": [
    "Так, в примере `{2:.4f}` означает, что будет подставлен аргумент под номеров 2, с точностью до 4 знаков после запятой (`.3`) и это вещественное число (`f`)"
   ]
  },
  {
   "cell_type": "markdown",
   "metadata": {},
   "source": [
    "## `f`-строки  (новейший стиль)\n",
    "На данный момент для форматирования строк рекомендуется использовать f-строки, которые появились в версии Python 3.6.\n",
    "Чтобы создать f-строку, нужно сделать следующее\n",
    "* ввести букву `f` или `F` перед первой кавычкой\n",
    "* поместить имена переменной или выражения в фигурные скобки `{}`, чтобы их значения попали в строку"
   ]
  },
  {
   "cell_type": "code",
   "execution_count": 25,
   "metadata": {},
   "outputs": [
    {
     "name": "stdout",
     "output_type": "stream",
     "text": [
      "При x = 3.14 и y = 2.7 значение функции равно 1.9665299031118333\n"
     ]
    }
   ],
   "source": [
    "x = 3.14\n",
    "y = 2.7\n",
    "z = math.log(x)+math.atan(y)**-1\n",
    "print(f'При x = {x} и y = {y} значение функции равно {z}')"
   ]
  },
  {
   "cell_type": "markdown",
   "metadata": {},
   "source": [
    "Для f-строк используется такой же язык форматирования (ширина, заполнитель, выравнивание), как и у метода `format`"
   ]
  },
  {
   "cell_type": "code",
   "execution_count": 26,
   "metadata": {},
   "outputs": [
    {
     "name": "stdout",
     "output_type": "stream",
     "text": [
      "При x = 3.14 и y = 2.7 значение функции равно 1.967\n"
     ]
    }
   ],
   "source": [
    "x = 3.14\n",
    "y = 2.7\n",
    "z = math.log(x)+math.atan(y)**-1\n",
    "print(f'При x = {x} и y = {y} значение функции равно {z:.3f}')"
   ]
  },
  {
   "cell_type": "markdown",
   "metadata": {},
   "source": [
    "Начиная с версии Python 3.8, f-строки позволяют выводить не только значения переменных, но и их имена. Для этого нужно поставить знак = после имени переменной, размещенного в фигурных скобках"
   ]
  },
  {
   "cell_type": "code",
   "execution_count": 27,
   "metadata": {},
   "outputs": [
    {
     "name": "stdout",
     "output_type": "stream",
     "text": [
      "При x = 3.14 и y = 2.7 значение функции равно z = 1.967\n"
     ]
    }
   ],
   "source": [
    "x = 3.14\n",
    "y = 2.7\n",
    "z = math.log(x)+math.atan(y)**-1\n",
    "print(f'При {x = } и {y = } значение функции равно {z = :.3f}')"
   ]
  },
  {
   "cell_type": "markdown",
   "metadata": {},
   "source": [
    "## Оператор `%` (старый стиль)\n",
    "f-строки или метод `format` является наиболее правильным способом для подставления данных в тест, но также допустимо форматирование строк с помощью оператора `%`"
   ]
  },
  {
   "cell_type": "code",
   "execution_count": 28,
   "metadata": {},
   "outputs": [
    {
     "name": "stdout",
     "output_type": "stream",
     "text": [
      "Значение функции равно 1.966530\n"
     ]
    }
   ],
   "source": [
    "x = 3.14\n",
    "y = 2.7\n",
    "z = math.log(x)+math.atan(y)**-1\n",
    "print('Значение функции равно %f' % z)"
   ]
  },
  {
   "cell_type": "markdown",
   "metadata": {},
   "source": [
    "Старый стиль форматирования строк имеет форму `строка % данные`. Оператор `%` в самой строке обозначает место, в которых необходимо выполнить подстановку данных, буква в `%f` указывает на тип данных, которые должны быть отформатированы (в данном примере это означает, что подставляется вещественное число)\n",
    "\n",
    "Некоторые обозначения типов данных\n",
    "* `%d` - целое число в десятичной системе счисления\n",
    "* `%f` - число с плавающей точкой в десятичной системе счисления\n",
    "* `%s` - строка\n",
    "\n",
    "Если в строке используется знак процента, то следует указать %% "
   ]
  },
  {
   "cell_type": "code",
   "execution_count": 29,
   "metadata": {},
   "outputs": [
    {
     "name": "stdout",
     "output_type": "stream",
     "text": [
      "Цена товара с учетом 6% скидки\n"
     ]
    }
   ],
   "source": [
    "sale = 6\n",
    "print('Цена товара с учетом %d%% скидки' % sale)"
   ]
  },
  {
   "cell_type": "markdown",
   "metadata": {},
   "source": [
    "Если нужно подставить несколько значений, то их нужно поместить в кортеж (то есть указать в круглых скобках):"
   ]
  },
  {
   "cell_type": "code",
   "execution_count": 30,
   "metadata": {},
   "outputs": [
    {
     "name": "stdout",
     "output_type": "stream",
     "text": [
      "При x = 3.140000 и y = 2.700000 значение функции равно 1.966530\n"
     ]
    }
   ],
   "source": [
    "x = 3.14\n",
    "y = 2.7\n",
    "z = math.log(x)+math.atan(y)**-1\n",
    "print('При x = %f и y = %f значение функции равно %f' % (x, y, z))"
   ]
  },
  {
   "cell_type": "markdown",
   "metadata": {},
   "source": [
    "Аналогично, с помощью спецификаторов формата выполнить форматирование данных."
   ]
  },
  {
   "cell_type": "code",
   "execution_count": 31,
   "metadata": {},
   "outputs": [
    {
     "name": "stdout",
     "output_type": "stream",
     "text": [
      "При x = 3.14 и y = 2.7 значение функции равно 1.9665\n"
     ]
    }
   ],
   "source": [
    "x = 3.14\n",
    "y = 2.7\n",
    "z = math.log(x)+math.atan(y)**-1\n",
    "print('При x = %.2f и y = %.1f значение функции равно %.4f' % (x, y, z))"
   ]
  },
  {
   "cell_type": "markdown",
   "metadata": {},
   "source": [
    "Общий вид маркера:    \n",
    "`%[флаги][минразмер][.точность]тип`\n",
    "\n",
    "\n",
    "Более подробно прочитать про спецификаторы с примерами их использования можно на:\n",
    "* https://pythonworld.ru/osnovy/formatirovanie-strok-operator.html\n",
    "* https://pythonz.net/references/named/str-modulo/"
   ]
  }
 ],
 "metadata": {
  "kernelspec": {
   "display_name": "Python 3",
   "language": "python",
   "name": "python3"
  },
  "language_info": {
   "codemirror_mode": {
    "name": "ipython",
    "version": 3
   },
   "file_extension": ".py",
   "mimetype": "text/x-python",
   "name": "python",
   "nbconvert_exporter": "python",
   "pygments_lexer": "ipython3",
   "version": "3.8.5"
  }
 },
 "nbformat": 4,
 "nbformat_minor": 4
}
