{
 "cells": [
  {
   "cell_type": "markdown",
   "metadata": {},
   "source": [
    "# Работа с файлами\n",
    "## Открытие файла\n",
    "Прежде чем\n",
    "* прочитать существующий файл\n",
    "* записать данные в новый файл\n",
    "* добавить данные в существующий файл\n",
    "* перезаписать существующий файл\n",
    "сперва нужно его открыть с помощью функции `open()`\n",
    "\n",
    "`<переменная-имя файла> = open(<путь к файлу>, <режим>)`\n",
    "\n",
    "Режим — это строка, указывающая на тип файла и действия, которые вы хотите произвести над файлом:\n",
    "Первая буква строки указывает на операцию:\n",
    "* `'r'`\tоткрытие на чтение (является значением по умолчанию)\n",
    "* `'w'`\tоткрытие на запись, при этом если файл существовал, то его содержимое удаляется, если файла не существует, создается новый\n",
    "* `'x'`\tоткрытие на запись, но только если файл еще не существует\n",
    "* `'a'`\tоткрытие на дозапись, информация добавляется в конец файла\n",
    "* `'+'`\tоткрытие на чтение и запись\n",
    "Вторая буква строки указывает на тип открываемого файла:\n",
    "* `'b'`\tоткрытие в двоичном режиме.\n",
    "* `'t'`\tоткрытие в текстовом режиме (является значением по умолчанию)\n",
    "\n",
    "### Путь к файлу\n",
    "Если вы укажете только файл с кодом и открываемый файл находятся в одной папке, то достаточно указать имя файла. В остальных случаях надо указывать путь к файлу (пропуская общий для файла-кода и открываемого файла каталоги).\n",
    "\n",
    "При составлении пути одна точка `.` является сокращением для текущей папки, а две точки `..` — для родительской.\n",
    "\n",
    "Если приходится указывать абсолютный путь к файлу (чего следует по возможности избегать), то для обратного слэша `\\` нужно либо указывать символ `r` перед строкой адреса, либо использовать двойной `\\`."
   ]
  },
  {
   "cell_type": "code",
   "execution_count": 1,
   "metadata": {},
   "outputs": [],
   "source": [
    "# открываем файл с именем example.txt для последующего чтения\n",
    "# файл лежит в одной папке с файлом кода, поэтому можно не указывать полный путь к файлу\n",
    "f_txt = open('example.txt', 'r') "
   ]
  },
  {
   "cell_type": "code",
   "execution_count": 2,
   "metadata": {},
   "outputs": [],
   "source": [
    "# открываем файл с именем example.txt для последующего чтения\n",
    "# файл лежит в корневом каталоге диска С\n",
    "f_txt = open(r'C:\\example.txt', 'r') "
   ]
  },
  {
   "cell_type": "markdown",
   "metadata": {},
   "source": [
    "**Важно**: в переменную, которой присвоен возвращаемый функцией `open()` результат, не записывается само содержимое файла. Фактически это \"ссылка\" на файл.\n",
    "\n",
    "### Кодировка\n",
    "При работе с файлом может понадобиться указать кодировку при открытии файла. Для этого служит атрибут `encoding`:"
   ]
  },
  {
   "cell_type": "code",
   "execution_count": 3,
   "metadata": {},
   "outputs": [],
   "source": [
    "# открываем файл с именем example.txt, имеющего кодировку UTF-8, для последующего чтения\n",
    "f_txt = open('example.txt', 'r', encoding='utf-8') "
   ]
  },
  {
   "cell_type": "markdown",
   "metadata": {},
   "source": [
    "## Закрытие файла\n",
    "После окончания работы с файлом его необходимо закрыть, чтобы гарантировать, что все операции записи завершены, измнения в файле сохранены, а память освобождена. Для этого используется функция `close()`\n",
    "\n",
    "`<имя файла>.close()`"
   ]
  },
  {
   "cell_type": "code",
   "execution_count": 4,
   "metadata": {},
   "outputs": [],
   "source": [
    "# закрываем открытый ранее файл\n",
    "f_txt.close()"
   ]
  },
  {
   "cell_type": "markdown",
   "metadata": {},
   "source": [
    "## Чтение из файла\n",
    "После того как файл открыт на чтение, можно считать из него данные. \n",
    "\n",
    "**Важно**: чтение всегда происходит слева направо от текущего положения \"курсора\". Если к данному моменту уже была считана первая строка файла, то даже использование функции `read()` вернет только оставшиеся строки файла. Чтение \"назад\" невозможно.\n",
    "\n",
    "### Функция `read()` - чтение файла целиком    \n",
    "`<имя файла>.read()`    \n",
    "\n",
    "Функция возвращает всё содержимое файла, включая символы переноса строк"
   ]
  },
  {
   "cell_type": "code",
   "execution_count": 5,
   "metadata": {
    "scrolled": true
   },
   "outputs": [
    {
     "name": "stdout",
     "output_type": "stream",
     "text": [
      "Это первая строка текста в файле\n",
      "Это вторая строка текста в файле\n",
      "Это третья строка текста в файле\n"
     ]
    }
   ],
   "source": [
    "example_1 = open('example 1.txt', 'r') \n",
    "text = example_1.read()\n",
    "example_1.close()\n",
    "\n",
    "print(text)"
   ]
  },
  {
   "cell_type": "code",
   "execution_count": 6,
   "metadata": {},
   "outputs": [
    {
     "data": {
      "text/plain": [
       "'Это первая строка текста в файле\\nЭто вторая строка текста в файле\\nЭто третья строка текста в файле'"
      ]
     },
     "execution_count": 6,
     "metadata": {},
     "output_type": "execute_result"
    }
   ],
   "source": [
    "text"
   ]
  },
  {
   "cell_type": "markdown",
   "metadata": {},
   "source": [
    "### Функция `readline()` - чтение файла построчно\n",
    "`<имя файла>.readline()`  \n",
    "\n",
    "Каждый следующий вызов функции `readline()` прочитает следующую строку файла (и так до тех пор пока не кончится весь файл - когда весь файл будет считан, функция возвращает пустую строку)."
   ]
  },
  {
   "cell_type": "code",
   "execution_count": 7,
   "metadata": {},
   "outputs": [
    {
     "name": "stdout",
     "output_type": "stream",
     "text": [
      "Это первая строка текста в файле\n",
      "\n",
      "Это вторая строка текста в файле\n",
      "\n",
      "Это третья строка текста в файле\n"
     ]
    }
   ],
   "source": [
    "example_1 = open('example 1.txt', 'r') \n",
    "text_1 = example_1.readline()\n",
    "print(text_1)\n",
    "text_2 = example_1.readline()\n",
    "print(text_2)\n",
    "text_3 = example_1.readline()\n",
    "print(text_3)\n",
    "example_1.close()"
   ]
  },
  {
   "cell_type": "code",
   "execution_count": 8,
   "metadata": {},
   "outputs": [
    {
     "data": {
      "text/plain": [
       "'Это первая строка текста в файле\\n'"
      ]
     },
     "execution_count": 8,
     "metadata": {},
     "output_type": "execute_result"
    }
   ],
   "source": [
    "# readline() возвращает строку вместе с символом переноса строки\n",
    "text_1 "
   ]
  },
  {
   "cell_type": "markdown",
   "metadata": {},
   "source": [
    "### Функция `readlines()` - чтение файла построчно в список\n",
    "`<имя файла>.readlines()`  \n",
    "\n",
    "Функция возвращает список из строк файла (строки включают и символы переноса)"
   ]
  },
  {
   "cell_type": "code",
   "execution_count": 9,
   "metadata": {},
   "outputs": [
    {
     "name": "stdout",
     "output_type": "stream",
     "text": [
      "['Это первая строка текста в файле\\n', 'Это вторая строка текста в файле\\n', 'Это третья строка текста в файле']\n"
     ]
    }
   ],
   "source": [
    "example_1 = open('example 1.txt', 'r') \n",
    "text = example_1.readlines()\n",
    "example_1.close()\n",
    "\n",
    "print(text)"
   ]
  },
  {
   "cell_type": "markdown",
   "metadata": {},
   "source": [
    "### Построчное чтение файле в цикле `for`\n",
    "Самый простой способ считать текстовый файл в Python построчно - это использовать итератор\n",
    "\n",
    "`for <переменная-строка> in <имя файла>:\n",
    "    <блок команд>`"
   ]
  },
  {
   "cell_type": "code",
   "execution_count": 10,
   "metadata": {},
   "outputs": [
    {
     "name": "stdout",
     "output_type": "stream",
     "text": [
      "Это первая строка текста в файле\n",
      "\n",
      "Это вторая строка текста в файле\n",
      "\n",
      "Это третья строка текста в файле\n"
     ]
    }
   ],
   "source": [
    "example_1 = open('example 1.txt', 'r') \n",
    "\n",
    "for line in example_1:\n",
    "    print(line) # символы переноса строк также будут считаны\n",
    "    \n",
    "example_1.close()"
   ]
  },
  {
   "cell_type": "markdown",
   "metadata": {},
   "source": [
    "## Запись в файл\n",
    "После того как файл открыт на запись или изменение можно записать в него данные.\n",
    "### Функция `print()`\n",
    "`print(<данные>, file = <имя файла>`\n",
    "\n",
    "Аргумент `file` функция `print()` позволяет перенаправить запись данные из стандартого потока вывода (консоль) в указанный файл."
   ]
  },
  {
   "cell_type": "code",
   "execution_count": 11,
   "metadata": {},
   "outputs": [],
   "source": [
    "f_txt = open('example.txt', 'w')\n",
    "print('Один', 1, file=f_txt)\n",
    "print(2, 'Два', file=f_txt)\n",
    "f_txt.close()"
   ]
  },
  {
   "cell_type": "code",
   "execution_count": 12,
   "metadata": {},
   "outputs": [
    {
     "name": "stdout",
     "output_type": "stream",
     "text": [
      "Один 1\n",
      "2 Два\n",
      "\n"
     ]
    }
   ],
   "source": [
    "f_txt = open('example.txt', 'r')\n",
    "print(f_txt.read())    \n",
    "f_txt.close()"
   ]
  },
  {
   "cell_type": "markdown",
   "metadata": {},
   "source": [
    "### Функция `write()`\n",
    "`<имя файла>.write(<строка>)`\n",
    "\n",
    "Функция записывает строку в указанный файл.\n",
    "\n",
    "**Важно**: Функция `write()` не добавляет пробелов или символов переноса на новую строку. Каждую новую переданную строку она будет записывать в файл сразу после предыдущей, \"склеивая\" их."
   ]
  },
  {
   "cell_type": "code",
   "execution_count": 13,
   "metadata": {},
   "outputs": [],
   "source": [
    "f_txt = open('example.txt', 'w')\n",
    "f_txt.write('Один')\n",
    "f_txt.write('Два')\n",
    "f_txt.close()"
   ]
  },
  {
   "cell_type": "code",
   "execution_count": 14,
   "metadata": {},
   "outputs": [
    {
     "name": "stdout",
     "output_type": "stream",
     "text": [
      "ОдинДва\n"
     ]
    }
   ],
   "source": [
    "f_txt = open('example.txt', 'r')\n",
    "print(f_txt.read())    \n",
    "f_txt.close()"
   ]
  },
  {
   "cell_type": "markdown",
   "metadata": {},
   "source": [
    "### Функция `writelines()`\n",
    "`<имя файла>.writelines(<список>)`\n",
    "\n",
    "Функция `writelines()` позволяет записать в файл последовательно все строки из переданного в неё списка. \n",
    "\n",
    "**Важно**: Функция `writelines()` не добавляет пробелов символов переноса на новую строку. Каждый переданный элемент-строку списка она будет записывать в файл сразу после предыдущей, \"склеивая\" их. "
   ]
  },
  {
   "cell_type": "code",
   "execution_count": 15,
   "metadata": {},
   "outputs": [],
   "source": [
    "text = ['Один', 'Два', 'Три']\n",
    "\n",
    "f_txt = open('example.txt', 'w')\n",
    "f_txt.writelines(text)\n",
    "f_txt.close()"
   ]
  },
  {
   "cell_type": "code",
   "execution_count": 16,
   "metadata": {},
   "outputs": [
    {
     "name": "stdout",
     "output_type": "stream",
     "text": [
      "ОдинДваТри\n"
     ]
    }
   ],
   "source": [
    "f_txt = open('example.txt', 'r')\n",
    "print(f_txt.read())    \n",
    "f_txt.close()"
   ]
  },
  {
   "cell_type": "markdown",
   "metadata": {},
   "source": [
    "## `with` - менеджер контекста\n",
    "У Python имеются менеджеры контекста для автоматического закрытия открытых файлов\n",
    "\n",
    "`with open(<путь к файлу>, <режим>) as <переменная - имя файла>:\n",
    "    <блок команд>`\n",
    "\n",
    "При такой записи не требуется использовать `close()`. Как только закончится код, вложенный в `with` (что означает, что контекст закончился) интерпретатор автоматически закроет файл."
   ]
  },
  {
   "cell_type": "code",
   "execution_count": 17,
   "metadata": {},
   "outputs": [],
   "source": [
    "abc = [chr(i)+' ' for i in range(ord('А'),ord('я')+1)]\n",
    "\n",
    "with open('example.txt','w') as f_txt:\n",
    "    f_txt.writelines(abc)"
   ]
  },
  {
   "cell_type": "code",
   "execution_count": 18,
   "metadata": {
    "scrolled": true
   },
   "outputs": [
    {
     "name": "stdout",
     "output_type": "stream",
     "text": [
      "А Б В Г Д Е Ж З И Й К Л М Н О П Р С Т У Ф Х Ц Ч Ш Щ Ъ Ы Ь Э Ю Я а б в г д е ж з и й к л м н о п р с т у ф х ц ч ш щ ъ ы ь э ю я \n"
     ]
    }
   ],
   "source": [
    "with open('example.txt','r') as f_txt:\n",
    "    print(f_txt.read())  "
   ]
  }
 ],
 "metadata": {
  "kernelspec": {
   "display_name": "Python 3",
   "language": "python",
   "name": "python3"
  },
  "language_info": {
   "codemirror_mode": {
    "name": "ipython",
    "version": 3
   },
   "file_extension": ".py",
   "mimetype": "text/x-python",
   "name": "python",
   "nbconvert_exporter": "python",
   "pygments_lexer": "ipython3",
   "version": "3.8.5"
  }
 },
 "nbformat": 4,
 "nbformat_minor": 4
}
