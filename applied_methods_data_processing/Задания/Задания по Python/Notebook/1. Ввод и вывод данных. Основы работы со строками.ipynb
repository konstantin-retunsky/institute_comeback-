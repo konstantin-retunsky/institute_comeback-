{
 "cells": [
  {
   "cell_type": "markdown",
   "metadata": {},
   "source": [
    "# Ввод данных"
   ]
  },
  {
   "cell_type": "markdown",
   "metadata": {},
   "source": [
    "Для считывания вводимых с клавиатуре данных используют функцию `input()`. Она считывает введенные пользователем данные (до нажатия на Enter)"
   ]
  },
  {
   "cell_type": "code",
   "execution_count": 1,
   "metadata": {},
   "outputs": [
    {
     "name": "stdout",
     "output_type": "stream",
     "text": [
      "Python\n"
     ]
    },
    {
     "data": {
      "text/plain": [
       "'Python'"
      ]
     },
     "execution_count": 1,
     "metadata": {},
     "output_type": "execute_result"
    }
   ],
   "source": [
    "input()"
   ]
  },
  {
   "cell_type": "markdown",
   "metadata": {},
   "source": [
    "Функция input возвращает текстовую строку. Чтобы далее использовать ее, нужно \"поместить\" ее в переменную"
   ]
  },
  {
   "cell_type": "code",
   "execution_count": 2,
   "metadata": {},
   "outputs": [
    {
     "name": "stdout",
     "output_type": "stream",
     "text": [
      "Python\n"
     ]
    },
    {
     "data": {
      "text/plain": [
       "'Python'"
      ]
     },
     "execution_count": 2,
     "metadata": {},
     "output_type": "execute_result"
    }
   ],
   "source": [
    "stroka = input() # переменная с именем stroka будет \"помнить\" введенные пользователем данные\n",
    "stroka"
   ]
  },
  {
   "cell_type": "markdown",
   "metadata": {},
   "source": [
    "Дополнительно можно указать текст-приглашение\n",
    "\n",
    "`input('Пояснительный текст')`"
   ]
  },
  {
   "cell_type": "code",
   "execution_count": 3,
   "metadata": {},
   "outputs": [
    {
     "name": "stdout",
     "output_type": "stream",
     "text": [
      "Введите число 5\n"
     ]
    },
    {
     "data": {
      "text/plain": [
       "'5'"
      ]
     },
     "execution_count": 3,
     "metadata": {},
     "output_type": "execute_result"
    }
   ],
   "source": [
    "stroka =input('Введите число ')\n",
    "stroka"
   ]
  },
  {
   "cell_type": "markdown",
   "metadata": {},
   "source": [
    "# Вывод данных\n",
    "Для вывода данных на экран используется функция `print()`. Внутри круглых скобок пишутся данные или переменные, которые нужно вывести на экран."
   ]
  },
  {
   "cell_type": "code",
   "execution_count": 4,
   "metadata": {},
   "outputs": [
    {
     "name": "stdout",
     "output_type": "stream",
     "text": [
      "Привет\n",
      "4\n",
      "5\n"
     ]
    }
   ],
   "source": [
    "print('Привет')\n",
    "print(2+2)\n",
    "print(stroka)"
   ]
  },
  {
   "cell_type": "markdown",
   "metadata": {},
   "source": [
    "То, что мы пишем в круглых скобках у функции `print()`, называется аргументами или параметрами.Если нужно указывать несколько аргументов, в таком случае их надо отделять запятыми"
   ]
  },
  {
   "cell_type": "code",
   "execution_count": 5,
   "metadata": {},
   "outputs": [
    {
     "name": "stdout",
     "output_type": "stream",
     "text": [
      "Привет 4 5\n"
     ]
    }
   ],
   "source": [
    "print('Привет', 2+2, stroka)"
   ]
  },
  {
   "cell_type": "markdown",
   "metadata": {},
   "source": [
    "По умолчанию функция `print()` принимает несколько аргументов (параметров), выводит их через один пробел, после чего ставит перевод строки. Это поведение можно изменить, используя необязательные именованные параметры `sep` (от *separator*, разделитель) и `end` (окончание).\n",
    "`print(value, ..., sep='строка-разделитель', end='строка-окончание')`   \n",
    "`sep` - строка, которую необходимо вставлять между значениями   \n",
    "`end` - строка, которая добавляется после последнего значения"
   ]
  },
  {
   "cell_type": "code",
   "execution_count": 6,
   "metadata": {},
   "outputs": [
    {
     "name": "stdout",
     "output_type": "stream",
     "text": [
      "1+5+Привет\n"
     ]
    }
   ],
   "source": [
    "print(1, stroka, 'Привет', sep='+')"
   ]
  },
  {
   "cell_type": "code",
   "execution_count": 7,
   "metadata": {},
   "outputs": [
    {
     "name": "stdout",
     "output_type": "stream",
     "text": [
      "1 5 Привет***Python 2\n"
     ]
    }
   ],
   "source": [
    "print(1, stroka, 'Привет', end='***')\n",
    "print('Python', 2)"
   ]
  },
  {
   "cell_type": "code",
   "execution_count": 8,
   "metadata": {},
   "outputs": [
    {
     "name": "stdout",
     "output_type": "stream",
     "text": [
      "1_5_Привет->Python 2\n"
     ]
    }
   ],
   "source": [
    "print(1, stroka, 'Привет', sep='_', end='->')\n",
    "print('Python', 2)"
   ]
  },
  {
   "cell_type": "markdown",
   "metadata": {},
   "source": [
    "# Строки\n",
    "Строки в Python это упорядоченные последовательности символов, используемые для хранения и представления текстовой информации (кодировка UTF8). Всё что мы вводим с клавиатуры будет строками\n",
    "## Задание строк\n",
    "Для обозначения иначала и конца строки используются апострофы"
   ]
  },
  {
   "cell_type": "code",
   "execution_count": 9,
   "metadata": {},
   "outputs": [
    {
     "name": "stdout",
     "output_type": "stream",
     "text": [
      "Это текст\n"
     ]
    }
   ],
   "source": [
    "stroka = 'Это текст'\n",
    "print(stroka)"
   ]
  },
  {
   "cell_type": "markdown",
   "metadata": {},
   "source": [
    "либо двойные кавычки"
   ]
  },
  {
   "cell_type": "code",
   "execution_count": 10,
   "metadata": {},
   "outputs": [
    {
     "name": "stdout",
     "output_type": "stream",
     "text": [
      "Это текст\n"
     ]
    }
   ],
   "source": [
    "stroka = \"Это текст\"\n",
    "print(stroka)"
   ]
  },
  {
   "cell_type": "markdown",
   "metadata": {},
   "source": [
    "При необходимости записать \"многострочный\" блок текста можно использовать тройные кавычки или апострофы"
   ]
  },
  {
   "cell_type": "code",
   "execution_count": 11,
   "metadata": {},
   "outputs": [
    {
     "name": "stdout",
     "output_type": "stream",
     "text": [
      "Первая строка\n",
      "Вторая строка\n",
      "Третья строка\n"
     ]
    }
   ],
   "source": [
    "text_1 = '''Первая строка\n",
    "Вторая строка\n",
    "Третья строка'''\n",
    "\n",
    "print(text_1)"
   ]
  },
  {
   "cell_type": "code",
   "execution_count": 12,
   "metadata": {},
   "outputs": [
    {
     "name": "stdout",
     "output_type": "stream",
     "text": [
      "Первая строка\n",
      "Вторая строка\n",
      "Третья строка\n"
     ]
    }
   ],
   "source": [
    "text_2 = \"\"\"Первая строка\n",
    "Вторая строка\n",
    "Третья строка\"\"\"\n",
    "\n",
    "print(text_2)"
   ]
  },
  {
   "cell_type": "markdown",
   "metadata": {},
   "source": [
    "Апострофы и двойные кавычки взаимозаменяемы, обе формы работают одинаково. Например, следующие две строки идентичны:"
   ]
  },
  {
   "cell_type": "code",
   "execution_count": 13,
   "metadata": {},
   "outputs": [
    {
     "name": "stdout",
     "output_type": "stream",
     "text": [
      "Python\n",
      "Python\n"
     ]
    }
   ],
   "source": [
    "print('Python')\n",
    "print(\"Python\")"
   ]
  },
  {
   "cell_type": "markdown",
   "metadata": {},
   "source": [
    "В целом предпочтение отдается применению апострофов для задания строк, так как их чуть легче читать. Главное использовать один и тот же вид кавычек в начале и в конце строки"
   ]
  },
  {
   "cell_type": "code",
   "execution_count": 14,
   "metadata": {},
   "outputs": [
    {
     "ename": "SyntaxError",
     "evalue": "EOL while scanning string literal (<ipython-input-14-8a1ab0f04c54>, line 2)",
     "output_type": "error",
     "traceback": [
      "\u001b[1;36m  File \u001b[1;32m\"<ipython-input-14-8a1ab0f04c54>\"\u001b[1;36m, line \u001b[1;32m2\u001b[0m\n\u001b[1;33m    print('Текст\")\u001b[0m\n\u001b[1;37m                  ^\u001b[0m\n\u001b[1;31mSyntaxError\u001b[0m\u001b[1;31m:\u001b[0m EOL while scanning string literal\n"
     ]
    }
   ],
   "source": [
    "# пример ошибки\n",
    "print('Текст\")"
   ]
  },
  {
   "cell_type": "markdown",
   "metadata": {},
   "source": [
    "Разные типы кавычек можно использовать для задания строки-текста, в котором уже есть кавычки"
   ]
  },
  {
   "cell_type": "code",
   "execution_count": null,
   "metadata": {},
   "outputs": [],
   "source": [
    "print(\"Символ ' это апостроф\")\n",
    "print('Поэма \"Руслан и Людмила\"')"
   ]
  },
  {
   "cell_type": "markdown",
   "metadata": {},
   "source": [
    "## Базовые операции со строками\n",
    "Конкатенация (соединение) строк выполняется операцией `+`. Ее можно применять непосредственно к строкам"
   ]
  },
  {
   "cell_type": "code",
   "execution_count": null,
   "metadata": {},
   "outputs": [],
   "source": [
    "print('Первая строка' + \"Вторая строка\")"
   ]
  },
  {
   "cell_type": "markdown",
   "metadata": {},
   "source": [
    "и к переменным, ссылающимся на строки"
   ]
  },
  {
   "cell_type": "code",
   "execution_count": null,
   "metadata": {},
   "outputs": [],
   "source": [
    "stroka ='Python'\n",
    "print('Этот код написан на ' + stroka)"
   ]
  },
  {
   "cell_type": "markdown",
   "metadata": {},
   "source": [
    "Дублирование строки выполняется операцией `*`"
   ]
  },
  {
   "cell_type": "code",
   "execution_count": null,
   "metadata": {},
   "outputs": [],
   "source": [
    "print('Python' * 3)"
   ]
  },
  {
   "cell_type": "code",
   "execution_count": null,
   "metadata": {},
   "outputs": [],
   "source": [
    "stroka = 'Python'\n",
    "print(stroka * 100)"
   ]
  },
  {
   "cell_type": "markdown",
   "metadata": {},
   "source": [
    "### Экранированные последовательности\n",
    "Для экранирования символов используется `\\`:\n",
    "* когда необходимо в текстовой строке использовать символ, который без экранирования будет понят неверно   \n",
    "`\\'` - апостроф (сохраняет ')  \n",
    "`\\\"` - двойная кавычка (сохраняет \")  \n",
    "`\\\\` - обратная косая черта (сохраняет \\\\)"
   ]
  },
  {
   "cell_type": "code",
   "execution_count": null,
   "metadata": {},
   "outputs": [],
   "source": [
    "print('Символ \\' это апостроф')"
   ]
  },
  {
   "cell_type": "markdown",
   "metadata": {},
   "source": [
    "* когда нужно вставить символы, которые сложно ввести с клавиатуры"
   ]
  },
  {
   "cell_type": "code",
   "execution_count": null,
   "metadata": {},
   "outputs": [],
   "source": [
    "print('\\u00A9')"
   ]
  },
  {
   "cell_type": "markdown",
   "metadata": {},
   "source": [
    "* для некоторых спец-символов, например   \n",
    "`\\n` - перевод строки (новая строка)   \n",
    "`\\t` - горизонтальная табуляция"
   ]
  },
  {
   "cell_type": "code",
   "execution_count": null,
   "metadata": {},
   "outputs": [],
   "source": [
    "print('Первая строка\\nВторая строка\\nТретья строка')"
   ]
  },
  {
   "cell_type": "code",
   "execution_count": null,
   "metadata": {},
   "outputs": [],
   "source": [
    "print('1\\t2\\t3\\nОдин\\tДва\\tТри')"
   ]
  },
  {
   "cell_type": "markdown",
   "metadata": {},
   "source": [
    "Экранированные последовательности это тоже строки, поэтому они могут или писаться непосредственно внутри строки или добавляться конкатенацией к строковым переменным"
   ]
  },
  {
   "cell_type": "code",
   "execution_count": null,
   "metadata": {},
   "outputs": [],
   "source": [
    "stroka = input('На каком языке вы пишите код?\\n')\n",
    "print((stroka + '\\t'+ stroka+'\\n') * 5)"
   ]
  },
  {
   "cell_type": "markdown",
   "metadata": {},
   "source": [
    "Вместо использования экранированных последовательностей в случае с символами, которые должны быть частью строки, а не управляющими символами (обратный слэш) можно также использовать r-строки. Если строка начинается с буквы r или R, то она будет воспринята как необработанная строка и механизм экранирования для нее отключается"
   ]
  },
  {
   "cell_type": "code",
   "execution_count": null,
   "metadata": {},
   "outputs": [],
   "source": [
    "print('C:\\\\new.txt') # с использованием экранированной последоветельности\n",
    "print(r'C:\\new.txt') # c использованием r-строки"
   ]
  },
  {
   "cell_type": "markdown",
   "metadata": {},
   "source": [
    "# Синтаксис Python (одно из правил)\n",
    "\n",
    "**Конец строки является концом инструкции** (для тех, кто знаком с другими языками программирования - точка с запятой не требуется)   \n",
    "Но иногда возможно записать несколько инструкций в одной строке, разделяя их точкой с запятой:"
   ]
  },
  {
   "cell_type": "code",
   "execution_count": null,
   "metadata": {},
   "outputs": [],
   "source": [
    "# так делать возможно, но крайне не рекомендуется!\n",
    "a = 1; b = 2; print(a, b) "
   ]
  },
  {
   "cell_type": "code",
   "execution_count": null,
   "metadata": {},
   "outputs": [],
   "source": [
    "# удобочитаемый код предпочтительнее\n",
    "a = 1\n",
    "b = 2\n",
    "print(a, b)"
   ]
  },
  {
   "cell_type": "markdown",
   "metadata": {},
   "source": [
    "# Комментарии\n",
    "Комментарии в Python начинаются со знака `#` и могут появляться в любом месте программы. Комментарий может занимать всю строчку. Комментарий также может находиться на строчке после какого-нибудь кода. Если одной строчки мало, то можно создать несколько комментариев"
   ]
  },
  {
   "cell_type": "code",
   "execution_count": null,
   "metadata": {},
   "outputs": [],
   "source": [
    "# Это однострочный комментарий\n",
    "print('Пример однострочного комментария')   # и это тоже однострочный комментарий\n",
    "# Еще комментарий\n",
    "# и его продолжение"
   ]
  },
  {
   "cell_type": "markdown",
   "metadata": {},
   "source": [
    "Для многострочных комментариев также используют тройные апострофы"
   ]
  },
  {
   "cell_type": "code",
   "execution_count": null,
   "metadata": {},
   "outputs": [],
   "source": [
    "'''\n",
    "Это первая строка многострочного комментария,\n",
    "это вторая строка многострочного комментария,\n",
    "это третья строка многострочного комментария\n",
    "'''\n",
    "print('Пример многострочного комментария')"
   ]
  },
  {
   "cell_type": "markdown",
   "metadata": {},
   "source": [
    "# О принципах написания кода\n",
    "Большинство решений о том, как и что должно делаться в мире Python, закреплено в так называемых **PEP** (**P**ython **E**nhancement **P**roposals, предложениях по улучшению языка Python)"
   ]
  },
  {
   "cell_type": "markdown",
   "metadata": {},
   "source": [
    "## PEP 20 - The Zen of Python\n",
    "Разработчики языка Python придерживаются определённой философии программирования, называемой *The Zen of Python*\n",
    "\n",
    "Ознакомьтесь с PEP20:\n",
    "* на английском - https://www.python.org/dev/peps/pep-0020/\n",
    "* перевод на русский - https://pythonchik.ru/osnovy/dzen-python-pep20"
   ]
  },
  {
   "cell_type": "markdown",
   "metadata": {},
   "source": [
    "## PEP 8 - руководство по написанию кода на Python\n",
    "\n",
    "Один из наиболее важных PEP это PEP8. Этот документ содержит правила, которых стоит придерживаться при написании кода на Python.\n",
    "\n",
    "Ознакомьтесь с PEP8:\n",
    "* на английском - https://www.python.org/dev/peps/pep-0008/\n",
    "* перевод на русский - https://pythonworld.ru/osnovy/pep-8-rukovodstvo-po-napisaniyu-koda-na-python.html\n",
    "\n",
    "Также для знакомства с PEP8 полезно посмотреть список ошибок в линтере (специальный инструмент, которым проверяют код на соответствие определенным стандартам) **flake8** (один из линтеров, проверяющих Python-код на соответствие стандартам PEP8) c примерами:\n",
    "* https://lintlyci.github.io/Flake8Rules/"
   ]
  }
 ],
 "metadata": {
  "kernelspec": {
   "display_name": "Python 3",
   "language": "python",
   "name": "python3"
  },
  "language_info": {
   "codemirror_mode": {
    "name": "ipython",
    "version": 3
   },
   "file_extension": ".py",
   "mimetype": "text/x-python",
   "name": "python",
   "nbconvert_exporter": "python",
   "pygments_lexer": "ipython3",
   "version": "3.8.5"
  }
 },
 "nbformat": 4,
 "nbformat_minor": 4
}
