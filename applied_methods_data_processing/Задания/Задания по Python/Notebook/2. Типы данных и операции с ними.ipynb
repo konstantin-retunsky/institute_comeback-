{
 "cells": [
  {
   "cell_type": "markdown",
   "metadata": {},
   "source": [
    "# Переменные\n",
    "Переменные - это имена, которые ссылаются (указывают) на данные (**объекты**) определенного типа, который определяется динамически, из контекста присваивания.\n",
    "* переменные создаются, когда им впервые присваиваются значения\n",
    "Для создания переменной нужно присвоить некоторому имени-*идентификатору* значение при помощи *оператора присваивания* `=` "
   ]
  },
  {
   "cell_type": "code",
   "execution_count": 1,
   "metadata": {},
   "outputs": [],
   "source": [
    "name = 'Python' # name - имя ссылки, связывающей с объектом типа str и значением Python\n",
    "x = 5 # x - имя ссылки, связывающей с объектом типа int и значением 5 "
   ]
  },
  {
   "cell_type": "markdown",
   "metadata": {},
   "source": [
    "* тип данных автоматически определяется по значению объекта\n",
    "* переменные заменяются своими значениями, когда используются в выражениях\n",
    "* поэтому переменным должны быть присвоены значения (**инициализация** переменной) до того, как их можно будет применять в выражениях"
   ]
  },
  {
   "cell_type": "markdown",
   "metadata": {},
   "source": [
    "Существует несколько правил для выбора имен переменных:\n",
    "1.\tВ имени переменной используйте только латинские буквы a-z, A-Z, цифры и символ нижнего подчеркивания _\n",
    "2. Имя переменной не может начинаться с цифры\n",
    "3. Пробелы в именах переменных запрещены, а для разделения слов в именах переменных используются символы подчеркивания\n",
    "4.\tPython — **регистрочувствительный** язык, переменная `name` и `Name` — две разные переменные.    \n",
    "Для именования переменных лучше использовать стиль lower_case_with_underscores (слова из маленьких букв с подчеркиваниями)\n",
    "3. Имена переменных должны быть короткими, но при этом содержательными - имя переменной должно максимально точно соответствовать хранимым в ней данным. Избегайте использования имен только с одним символом.   \n",
    "Например, если вы ищите максимальную цифру числа, то лучше назвать переменную `max_digit`, а не `m`\n",
    "4. Не используйте имена функций и ключевые слова Python в качестве имен переменных.\n"
   ]
  },
  {
   "cell_type": "code",
   "execution_count": 2,
   "metadata": {},
   "outputs": [
    {
     "name": "stdout",
     "output_type": "stream",
     "text": [
      "['False', 'None', 'True', 'and', 'as', 'assert', 'async', 'await', 'break', 'class', 'continue', 'def', 'del', 'elif', 'else', 'except', 'finally', 'for', 'from', 'global', 'if', 'import', 'in', 'is', 'lambda', 'nonlocal', 'not', 'or', 'pass', 'raise', 'return', 'try', 'while', 'with', 'yield']\n"
     ]
    }
   ],
   "source": [
    "# эти имена запрещены к использованию в качестве имен переменных\n",
    "import keyword\n",
    "print(keyword.kwlist)"
   ]
  },
  {
   "cell_type": "code",
   "execution_count": 3,
   "metadata": {},
   "outputs": [
    {
     "name": "stdout",
     "output_type": "stream",
     "text": [
      "['ArithmeticError', 'AssertionError', 'AttributeError', 'BaseException', 'BlockingIOError', 'BrokenPipeError', 'BufferError', 'BytesWarning', 'ChildProcessError', 'ConnectionAbortedError', 'ConnectionError', 'ConnectionRefusedError', 'ConnectionResetError', 'DeprecationWarning', 'EOFError', 'Ellipsis', 'EnvironmentError', 'Exception', 'False', 'FileExistsError', 'FileNotFoundError', 'FloatingPointError', 'FutureWarning', 'GeneratorExit', 'IOError', 'ImportError', 'ImportWarning', 'IndentationError', 'IndexError', 'InterruptedError', 'IsADirectoryError', 'KeyError', 'KeyboardInterrupt', 'LookupError', 'MemoryError', 'ModuleNotFoundError', 'NameError', 'None', 'NotADirectoryError', 'NotImplemented', 'NotImplementedError', 'OSError', 'OverflowError', 'PendingDeprecationWarning', 'PermissionError', 'ProcessLookupError', 'RecursionError', 'ReferenceError', 'ResourceWarning', 'RuntimeError', 'RuntimeWarning', 'StopAsyncIteration', 'StopIteration', 'SyntaxError', 'SyntaxWarning', 'SystemError', 'SystemExit', 'TabError', 'TimeoutError', 'True', 'TypeError', 'UnboundLocalError', 'UnicodeDecodeError', 'UnicodeEncodeError', 'UnicodeError', 'UnicodeTranslateError', 'UnicodeWarning', 'UserWarning', 'ValueError', 'Warning', 'WindowsError', 'ZeroDivisionError', '__IPYTHON__', '__build_class__', '__debug__', '__doc__', '__import__', '__loader__', '__name__', '__package__', '__spec__', 'abs', 'all', 'any', 'ascii', 'bin', 'bool', 'breakpoint', 'bytearray', 'bytes', 'callable', 'chr', 'classmethod', 'compile', 'complex', 'copyright', 'credits', 'delattr', 'dict', 'dir', 'display', 'divmod', 'enumerate', 'eval', 'exec', 'filter', 'float', 'format', 'frozenset', 'get_ipython', 'getattr', 'globals', 'hasattr', 'hash', 'help', 'hex', 'id', 'input', 'int', 'isinstance', 'issubclass', 'iter', 'len', 'license', 'list', 'locals', 'map', 'max', 'memoryview', 'min', 'next', 'object', 'oct', 'open', 'ord', 'pow', 'print', 'property', 'range', 'repr', 'reversed', 'round', 'set', 'setattr', 'slice', 'sorted', 'staticmethod', 'str', 'sum', 'super', 'tuple', 'type', 'vars', 'zip']\n"
     ]
    }
   ],
   "source": [
    "# эти имена запрещены к использованию в качестве имен переменных\n",
    "import builtins\n",
    "print(dir(builtins))"
   ]
  },
  {
   "cell_type": "markdown",
   "metadata": {},
   "source": [
    "### Множественное присваивание\n",
    "В языке Python можно одним оператором присваивания задавать значение сразу нескольких переменных."
   ]
  },
  {
   "cell_type": "code",
   "execution_count": 4,
   "metadata": {},
   "outputs": [
    {
     "name": "stdout",
     "output_type": "stream",
     "text": [
      "Имя: Иван \n",
      "Возраcт: 20\n"
     ]
    }
   ],
   "source": [
    "name, age = 'Иван', 20\n",
    "print('Имя:', name, '\\nВозраcт:', age)"
   ]
  },
  {
   "cell_type": "markdown",
   "metadata": {},
   "source": [
    "Если требуется считать текст с клавиатуры и присвоить его в качестве значения переменным, то можно написать так:"
   ]
  },
  {
   "cell_type": "code",
   "execution_count": 5,
   "metadata": {},
   "outputs": [
    {
     "name": "stdout",
     "output_type": "stream",
     "text": [
      "Иван\n",
      "20\n",
      "Имя: Иван \n",
      "Возраcт: 20\n"
     ]
    }
   ],
   "source": [
    "name, age = input(), input()\n",
    "print('Имя:', name, '\\nВозраcт:', age)"
   ]
  },
  {
   "cell_type": "markdown",
   "metadata": {},
   "source": [
    "Множественное присваивание удобно использовать, когда нужно обменять значения двух переменных:"
   ]
  },
  {
   "cell_type": "code",
   "execution_count": 6,
   "metadata": {},
   "outputs": [
    {
     "name": "stdout",
     "output_type": "stream",
     "text": [
      "x = -5 y = 10\n"
     ]
    }
   ],
   "source": [
    "x = 10\n",
    "y = -5\n",
    "x, y = y, x\n",
    "print('x =', x, 'y =', y)"
   ]
  },
  {
   "cell_type": "markdown",
   "metadata": {},
   "source": [
    "# Типы данных\n",
    "* целый `int`\n",
    "* вещественный `float`\n",
    "* логический `bool`\n",
    "* строковый `str` \n",
    "\n",
    "\n",
    "## Целые числа \n",
    "Целое число в Python имеет тип `int`"
   ]
  },
  {
   "cell_type": "code",
   "execution_count": 7,
   "metadata": {},
   "outputs": [
    {
     "name": "stdout",
     "output_type": "stream",
     "text": [
      "<class 'int'>\n",
      "<class 'int'>\n"
     ]
    }
   ],
   "source": [
    "print(type(5))\n",
    "\n",
    "count = -100\n",
    "print(type(count))"
   ]
  },
  {
   "cell_type": "markdown",
   "metadata": {},
   "source": [
    "##  Числа с плавающей точкой (вещественные)\n",
    "Вещественное число в Python имеет тип `float`. В качестве разделителя целой и дробной части используется точка:"
   ]
  },
  {
   "cell_type": "code",
   "execution_count": 8,
   "metadata": {},
   "outputs": [
    {
     "name": "stdout",
     "output_type": "stream",
     "text": [
      "<class 'float'>\n",
      "<class 'float'>\n",
      "<class 'float'>\n"
     ]
    }
   ],
   "source": [
    "number_1 = 2.78   \n",
    "print(type(number_1))\n",
    "\n",
    "number_2 = 2.0 # можно в таком случае писать 2.\n",
    "print(type(number_2))\n",
    "\n",
    "number_3 = 0.78  # можно в таком случае писать .78  \n",
    "print(type(number_3))"
   ]
  },
  {
   "cell_type": "markdown",
   "metadata": {},
   "source": [
    "Также может использоваться запись числа в формате с плавающей запятой:"
   ]
  },
  {
   "cell_type": "code",
   "execution_count": 9,
   "metadata": {},
   "outputs": [
    {
     "name": "stdout",
     "output_type": "stream",
     "text": [
      "<class 'float'>\n",
      "<class 'float'>\n",
      "<class 'float'>\n"
     ]
    }
   ],
   "source": [
    "number_1 = 2.78e-1   \n",
    "print(type(number_1))\n",
    "\n",
    "number_2 = 2e+10 # можно в таком случае писать 2e10\n",
    "print(type(number_2))\n",
    "\n",
    "number_3 = 2e-10\n",
    "print(type(number_3))"
   ]
  },
  {
   "cell_type": "markdown",
   "metadata": {},
   "source": [
    "**Важно**: для хранения данных типа float используется формат double (8 байт), что приводит к накоплению ошибки при многих операциях"
   ]
  },
  {
   "cell_type": "code",
   "execution_count": 10,
   "metadata": {},
   "outputs": [
    {
     "name": "stdout",
     "output_type": "stream",
     "text": [
      "0.9999999999999999\n"
     ]
    }
   ],
   "source": [
    "# суммируем 0.1 десять раз, ожидаемый результат - ровно 1.0\n",
    "print(0.1 + 0.1 + 0.1 + 0.1 + 0.1 + 0.1 + 0.1 + 0.1 + 0.1 + 0.1)"
   ]
  },
  {
   "cell_type": "markdown",
   "metadata": {},
   "source": [
    "Поэтому плохой идеей будет сравнивать числа типа float друг с другом. Более разумным будет сравнивать модуль разности чисел с неким небольшим числом, которое будет соответствовать точности вычислений"
   ]
  },
  {
   "cell_type": "markdown",
   "metadata": {},
   "source": [
    "## Логический тип\n",
    "Тип данных `bool` имеет только две *литералы* (значения): `True` (истина) и `False` (ложь)."
   ]
  },
  {
   "cell_type": "code",
   "execution_count": 11,
   "metadata": {},
   "outputs": [
    {
     "name": "stdout",
     "output_type": "stream",
     "text": [
      "<class 'bool'>\n",
      "<class 'bool'>\n"
     ]
    }
   ],
   "source": [
    "number_1 = True\n",
    "print(type(number_1))\n",
    "\n",
    "number_2 = False\n",
    "print(type(number_2))"
   ]
  },
  {
   "cell_type": "markdown",
   "metadata": {},
   "source": [
    "Логический тип данных представляет собой подкласс (в объектно-ориентированном смысле) встроенного целого типа int с особым представлением. Если рассматривать значения `True` и `False`в числовом контексте (например, когда они используются как аргументы в арифметической операции), то ведут они себя как целые 1 и 0 соответственно."
   ]
  },
  {
   "cell_type": "code",
   "execution_count": 12,
   "metadata": {},
   "outputs": [
    {
     "name": "stdout",
     "output_type": "stream",
     "text": [
      "5\n",
      "4.0\n"
     ]
    }
   ],
   "source": [
    "print(True + 4)\n",
    "print(False + 4.0)"
   ]
  },
  {
   "cell_type": "markdown",
   "metadata": {},
   "source": [
    "## Строковый тип\n",
    "Строки в Python имеют тип 'str'"
   ]
  },
  {
   "cell_type": "code",
   "execution_count": 13,
   "metadata": {},
   "outputs": [
    {
     "name": "stdout",
     "output_type": "stream",
     "text": [
      "<class 'str'>\n",
      "<class 'str'>\n"
     ]
    }
   ],
   "source": [
    "name = 'Иван'\n",
    "print(type(name))\n",
    "\n",
    "surname = \"Иванов\"\n",
    "print(type(surname))"
   ]
  },
  {
   "cell_type": "markdown",
   "metadata": {},
   "source": [
    "## Преобразование типов\n",
    "Метод `int(x)` - преобразует `x` к целому типу (если это возможно)\n",
    "Для вещественного числа работает как округление к 0 (отбрасывание дробной части):"
   ]
  },
  {
   "cell_type": "code",
   "execution_count": 14,
   "metadata": {},
   "outputs": [
    {
     "name": "stdout",
     "output_type": "stream",
     "text": [
      "4\n",
      "-4\n"
     ]
    }
   ],
   "source": [
    "number_1 = 4.55\n",
    "print (int(number_1))\n",
    "\n",
    "number_2 = - 4.55\n",
    "print (int(number_2))"
   ]
  },
  {
   "cell_type": "markdown",
   "metadata": {},
   "source": [
    "Метод 'int' используется для перевода строки-\"числа\" в целое число:"
   ]
  },
  {
   "cell_type": "code",
   "execution_count": 15,
   "metadata": {},
   "outputs": [
    {
     "name": "stdout",
     "output_type": "stream",
     "text": [
      "Введите целое число: 19\n",
      "20\n"
     ]
    }
   ],
   "source": [
    "age = int(input('Введите целое число: '))\n",
    "print(age + 1)"
   ]
  },
  {
   "cell_type": "code",
   "execution_count": 16,
   "metadata": {},
   "outputs": [
    {
     "name": "stdout",
     "output_type": "stream",
     "text": [
      "1\n",
      "0\n"
     ]
    }
   ],
   "source": [
    "number_1 = True\n",
    "print(int(number_1))\n",
    "\n",
    "number_2 = False\n",
    "print(int(number_2))"
   ]
  },
  {
   "cell_type": "markdown",
   "metadata": {},
   "source": [
    "Метод `float(x)` - преобразует `x` к вещественному типу (если это возможно)"
   ]
  },
  {
   "cell_type": "code",
   "execution_count": 17,
   "metadata": {},
   "outputs": [
    {
     "name": "stdout",
     "output_type": "stream",
     "text": [
      "10.0\n",
      "1.0\n",
      "0.0\n",
      "-12.5\n"
     ]
    }
   ],
   "source": [
    "print(float(10))\n",
    "print(float(True))\n",
    "print(float(False))\n",
    "print(float('-12.5'))"
   ]
  },
  {
   "cell_type": "markdown",
   "metadata": {},
   "source": [
    "Метод `bool(x)` - преобразует `x` к логическому типу (если это возможно).\n",
    "Любое число, кроме 0, после применения к нему команды bool(), вернёт значение True"
   ]
  },
  {
   "cell_type": "code",
   "execution_count": 18,
   "metadata": {},
   "outputs": [
    {
     "name": "stdout",
     "output_type": "stream",
     "text": [
      "True\n",
      "True\n",
      "True\n",
      "True\n",
      "False\n",
      "False\n",
      "False\n"
     ]
    }
   ],
   "source": [
    "print(bool(10))\n",
    "print(bool(-10))\n",
    "print(bool(1))\n",
    "print(bool(1.5))\n",
    "print(bool(0))\n",
    "print(bool(0.0))\n",
    "print(bool(''))"
   ]
  },
  {
   "cell_type": "markdown",
   "metadata": {},
   "source": [
    "Метод `str(x)` - преобразует `x` к строковому типу"
   ]
  },
  {
   "cell_type": "code",
   "execution_count": 19,
   "metadata": {},
   "outputs": [
    {
     "name": "stdout",
     "output_type": "stream",
     "text": [
      "Число 123.5\n"
     ]
    }
   ],
   "source": [
    "number = 123.5\n",
    "print('Число ' + str(number))"
   ]
  },
  {
   "cell_type": "markdown",
   "metadata": {},
   "source": [
    "# Основные операции"
   ]
  },
  {
   "cell_type": "markdown",
   "metadata": {},
   "source": [
    "* **Оператор** – представление (обозначение) операции *с данными определенного типа*  \n",
    "Например, оператор `+` создает операцию сложения.\n",
    "* **Операнд** — объект, который участвует в операции  \n",
    "`3 * 6`: здесь `3` и `6` — операнды.\n",
    "* **Унарная операция** — операция с одним операндом   \n",
    "Например, `-3` — унарная операция для получения числа, противоположного числу три.\n",
    "* **Бинарная операция** — операция с двумя операндами  \n",
    "Например, `3 + 9`.\n"
   ]
  },
  {
   "cell_type": "markdown",
   "metadata": {},
   "source": [
    "## Операции с числовыми данными\n",
    "* сложение `x + y`\n",
    "* вычитание `x - y`\n",
    "* умножение `x * y`\n",
    "* деление `x / y`   \n",
    "Результат деления всегда является вещественными числом, даже если деление было нацело"
   ]
  },
  {
   "cell_type": "code",
   "execution_count": 20,
   "metadata": {},
   "outputs": [
    {
     "name": "stdout",
     "output_type": "stream",
     "text": [
      "0.3333333333333333\n",
      "2.1\n",
      "5.0\n"
     ]
    }
   ],
   "source": [
    "print(1 / 3)\n",
    "print(6.3 / 3)\n",
    "print(15 / 3)"
   ]
  },
  {
   "cell_type": "markdown",
   "metadata": {},
   "source": [
    "* целочисленное деление `//`  \n",
    "Целая часть от деления (дробная отбрасывается). Результат целочисленного деления не превосходит частное, поэтому при делении отрицательных чисел округление берётся в меньшую сторону"
   ]
  },
  {
   "cell_type": "code",
   "execution_count": 21,
   "metadata": {},
   "outputs": [
    {
     "name": "stdout",
     "output_type": "stream",
     "text": [
      "3.3333333333333335\n",
      "3\n",
      "-3.3333333333333335\n",
      "-4\n"
     ]
    }
   ],
   "source": [
    "print(10 / 3)\n",
    "print(10 // 3)\n",
    "\n",
    "print(-10 / 3)\n",
    "print(-10 // 3)"
   ]
  },
  {
   "cell_type": "markdown",
   "metadata": {},
   "source": [
    "* остаток от деления `x % y`\n",
    "Ее результат -  тоже целое число"
   ]
  },
  {
   "cell_type": "code",
   "execution_count": 22,
   "metadata": {},
   "outputs": [
    {
     "name": "stdout",
     "output_type": "stream",
     "text": [
      "1\n",
      "2\n"
     ]
    }
   ],
   "source": [
    "print(10 % 3)\n",
    "print(-10 % 3)"
   ]
  },
  {
   "cell_type": "markdown",
   "metadata": {},
   "source": [
    "* возведение в степень `x ** y`"
   ]
  },
  {
   "cell_type": "code",
   "execution_count": 23,
   "metadata": {},
   "outputs": [
    {
     "name": "stdout",
     "output_type": "stream",
     "text": [
      "8\n",
      "2.0\n",
      "0.25\n"
     ]
    }
   ],
   "source": [
    "print(2 ** 3)\n",
    "print(4 ** 0.5)\n",
    "print(2 ** -2)"
   ]
  },
  {
   "cell_type": "markdown",
   "metadata": {},
   "source": [
    "В Python реализована так называемая длинная арифметика, то есть, по сути, переменная целого типа не имеет ограничений:"
   ]
  },
  {
   "cell_type": "code",
   "execution_count": 24,
   "metadata": {},
   "outputs": [
    {
     "name": "stdout",
     "output_type": "stream",
     "text": [
      "3602726977026426580275309498860013564228319797754536072421176615288172408389984668306549220271670061833344305682733546589776605804088602867318976471029726508839682686981451905344698473575693716009498975476102749648609937970092875882421339808460821562447314350412517911298518453494358805097594840101338221439368663903502133031782001\n"
     ]
    }
   ],
   "source": [
    "print(2021 ** 100)"
   ]
  },
  {
   "cell_type": "markdown",
   "metadata": {},
   "source": [
    "* декремент `x += y`   \n",
    "Краткая запись действия `x = x + y`. Увеличивает число `x` на значение `y`"
   ]
  },
  {
   "cell_type": "code",
   "execution_count": 25,
   "metadata": {},
   "outputs": [
    {
     "name": "stdout",
     "output_type": "stream",
     "text": [
      "11\n"
     ]
    }
   ],
   "source": [
    "x = 10\n",
    "x += 1\n",
    "print(x)"
   ]
  },
  {
   "cell_type": "markdown",
   "metadata": {},
   "source": [
    "* инкремент `x -= y`   \n",
    "Краткая запись действия `x = x - y`. Уменьшает число `x` на значение `y`"
   ]
  },
  {
   "cell_type": "code",
   "execution_count": 26,
   "metadata": {},
   "outputs": [
    {
     "name": "stdout",
     "output_type": "stream",
     "text": [
      "9\n"
     ]
    }
   ],
   "source": [
    "x = 10\n",
    "x -= 1\n",
    "print(x)"
   ]
  },
  {
   "cell_type": "markdown",
   "metadata": {},
   "source": [
    "* аналогично работают `x \\= y`, `x \\\\= y`, `x %= y`, `x **= y`"
   ]
  },
  {
   "cell_type": "markdown",
   "metadata": {},
   "source": [
    "## Основные логические операции\n",
    "* логическое НЕ `not`\n",
    "* логическое И `and`\n",
    "* логическое ИЛИ `or`\n",
    "\n",
    "## Операции сравнения\n",
    "* проверка на равенство `==`\n",
    "* проверка на неравенство `!=`\n",
    "* меньше `<`, больше `>`, меньше или равно `<=`, больше или равно `>=`\n",
    "* проверка идентичности объектов `is`   \n",
    "выполняет сравнение ссылок, представленных именами (переменными). Возвращает `True`, если переменные ссылаются на один и тот же объект и `False` в противном случае\n",
    "* проверка неидентичности объектов `is not`   \n",
    "\n",
    "## Некоторые функции\n",
    "* `abs(x)` - модуль (абсолютное значение) числа `x`\n",
    "* `pow(x, y)` - возводит число `x` в степень `y`. Аналогично `x ** y`\n",
    "* `round (x, n)` - округляет число `x` до `n`-ного знака после запятой. Если `n` не задано, то округляет до целого   \n",
    " **Важно**: `round()` это не математическое округление. Этот метод округляет по \"банковским\" правилам, т.е. к ближайшему чётному"
   ]
  },
  {
   "cell_type": "code",
   "execution_count": 27,
   "metadata": {},
   "outputs": [
    {
     "name": "stdout",
     "output_type": "stream",
     "text": [
      "2\n",
      "2\n",
      "2.8\n",
      "2.6\n"
     ]
    }
   ],
   "source": [
    "print(round(1.5))\n",
    "print(round(2.5)) # обратите внимание на результат, округляает к 2 вместо ожидаемого 3\n",
    "print(round(2.75, 1)) # вместо ожидаемого 2.7 будет 2.6, т.к. это ближайший четный знак - 6, а не 7\n",
    "print(round(2.65, 1))"
   ]
  },
  {
   "cell_type": "markdown",
   "metadata": {},
   "source": [
    "## Приоритет операций \n",
    "Приоритет операторов – естественный, слева направо, с  учетом скобок. Исключение – возведение в степень (справа налево: выражения `x**y**z` и `x**(y**z)` вычисляются в одном и том же порядке) \n",
    "1.\tСначала выполняется возведение в степень (если их несколько подряд, то операции выполняются справа налево)\n",
    "2.\tЗатем унарный минус.\n",
    "3.\tЗатем умножение, деление, целочисленное деление, остаток от деления\n",
    "4.\tЗатем сложение и вычитание\n",
    "5. Затем операции сравнения\n",
    "6. Затем логические операции\n",
    "7. В последнюю очередь операция присваивания"
   ]
  },
  {
   "cell_type": "markdown",
   "metadata": {},
   "source": [
    "#  Объектная модель\n",
    "* Все данные в программе представлены или непосредственно объектами (переменные), или отношениями между объектами \n",
    "* Под объектом (или объектом данных) понимается представление в памяти значения определенного типа данных\n",
    "* Каждый объект характеризуется ID, типом и значением \n",
    "* Переменная – просто имя ссылки (на объект) \n",
    "* Функция `id()` возвращает целочисленное представление ID"
   ]
  },
  {
   "cell_type": "code",
   "execution_count": 28,
   "metadata": {},
   "outputs": [
    {
     "data": {
      "text/plain": [
       "8791074613024"
      ]
     },
     "execution_count": 28,
     "metadata": {},
     "output_type": "execute_result"
    }
   ],
   "source": [
    "a = 1 # a – имя ссылки, связывающей с объектом типа int и значением 1 \n",
    "b = a # еще одно имя для той же ссылки \n",
    "id(a) # функция id() возвращает целочисленное представление ID"
   ]
  },
  {
   "cell_type": "code",
   "execution_count": 29,
   "metadata": {},
   "outputs": [
    {
     "data": {
      "text/plain": [
       "8791074613024"
      ]
     },
     "execution_count": 29,
     "metadata": {},
     "output_type": "execute_result"
    }
   ],
   "source": [
    "id(b) "
   ]
  },
  {
   "cell_type": "code",
   "execution_count": 30,
   "metadata": {},
   "outputs": [
    {
     "data": {
      "text/plain": [
       "8791074613056"
      ]
     },
     "execution_count": 30,
     "metadata": {},
     "output_type": "execute_result"
    }
   ],
   "source": [
    "b = 2 # b - имя ссылки, связывающей с объектом типа int и значением 2 \n",
    "id(b)"
   ]
  },
  {
   "cell_type": "code",
   "execution_count": 31,
   "metadata": {},
   "outputs": [
    {
     "data": {
      "text/plain": [
       "False"
      ]
     },
     "execution_count": 31,
     "metadata": {},
     "output_type": "execute_result"
    }
   ],
   "source": [
    "a is b"
   ]
  },
  {
   "cell_type": "code",
   "execution_count": 32,
   "metadata": {},
   "outputs": [
    {
     "data": {
      "text/plain": [
       "True"
      ]
     },
     "execution_count": 32,
     "metadata": {},
     "output_type": "execute_result"
    }
   ],
   "source": [
    "c = a \n",
    "c is a"
   ]
  },
  {
   "cell_type": "code",
   "execution_count": 33,
   "metadata": {},
   "outputs": [
    {
     "data": {
      "text/plain": [
       "8791074613024"
      ]
     },
     "execution_count": 33,
     "metadata": {},
     "output_type": "execute_result"
    }
   ],
   "source": [
    "id(c)"
   ]
  },
  {
   "cell_type": "code",
   "execution_count": 34,
   "metadata": {},
   "outputs": [
    {
     "data": {
      "text/plain": [
       "False"
      ]
     },
     "execution_count": 34,
     "metadata": {},
     "output_type": "execute_result"
    }
   ],
   "source": [
    "a is b "
   ]
  },
  {
   "cell_type": "code",
   "execution_count": 35,
   "metadata": {},
   "outputs": [
    {
     "data": {
      "text/plain": [
       "1"
      ]
     },
     "execution_count": 35,
     "metadata": {},
     "output_type": "execute_result"
    }
   ],
   "source": [
    "c"
   ]
  },
  {
   "cell_type": "code",
   "execution_count": 36,
   "metadata": {},
   "outputs": [
    {
     "data": {
      "text/plain": [
       "True"
      ]
     },
     "execution_count": 36,
     "metadata": {},
     "output_type": "execute_result"
    }
   ],
   "source": [
    "a = 3\n",
    "b = 3\n",
    "a == b"
   ]
  },
  {
   "cell_type": "code",
   "execution_count": 37,
   "metadata": {},
   "outputs": [
    {
     "data": {
      "text/plain": [
       "True"
      ]
     },
     "execution_count": 37,
     "metadata": {},
     "output_type": "execute_result"
    }
   ],
   "source": [
    "a is b"
   ]
  },
  {
   "cell_type": "code",
   "execution_count": 38,
   "metadata": {},
   "outputs": [
    {
     "data": {
      "text/plain": [
       "True"
      ]
     },
     "execution_count": 38,
     "metadata": {},
     "output_type": "execute_result"
    }
   ],
   "source": [
    "a = True\n",
    "b = 1\n",
    "a == b"
   ]
  },
  {
   "cell_type": "code",
   "execution_count": 39,
   "metadata": {},
   "outputs": [
    {
     "data": {
      "text/plain": [
       "False"
      ]
     },
     "execution_count": 39,
     "metadata": {},
     "output_type": "execute_result"
    }
   ],
   "source": [
    "a is b"
   ]
  },
  {
   "cell_type": "markdown",
   "metadata": {},
   "source": [
    "# Типизация в Python\n",
    "## Динамическая типизация\n",
    "Переменная (также называемая в Python именем), создается при первом присваивании ей значения в коде. Переменная никогда не располагает какой-либо информацией о типе или о связанных с ним ограничениях. Понятие типа обитает в объектах, не в именах. Переменные являются обобщенными по своей природе; они всегда просто ссылаются на определенный объект в конкретный момент времени. Когда переменная встречается в выражении, она тотчас же заменяется объектом, на который в текущий момент ссылается, каким бы он ни был. \n",
    "Одна и та же переменная может последовательно ссылаться на объекты разных типов. Python которая отслеживает типы данных автоматически, не требуя их объявления."
   ]
  },
  {
   "cell_type": "code",
   "execution_count": 40,
   "metadata": {},
   "outputs": [
    {
     "name": "stdout",
     "output_type": "stream",
     "text": [
      "<class 'int'>\n",
      "<class 'str'>\n",
      "<class 'float'>\n"
     ]
    }
   ],
   "source": [
    "x = 5\n",
    "print(type(x))\n",
    "x = 'Привет'\n",
    "print(type(x))\n",
    "x = 5.55\n",
    "print(type(x))"
   ]
  },
  {
   "cell_type": "markdown",
   "metadata": {},
   "source": [
    "## Строгая типизация\n",
    "Ограничение, обусловливающее возможность выполнения на объекте только допустимых для его типа операций"
   ]
  },
  {
   "cell_type": "code",
   "execution_count": 41,
   "metadata": {},
   "outputs": [
    {
     "ename": "TypeError",
     "evalue": "can only concatenate str (not \"int\") to str",
     "output_type": "error",
     "traceback": [
      "\u001b[1;31m---------------------------------------------------------------------------\u001b[0m",
      "\u001b[1;31mTypeError\u001b[0m                                 Traceback (most recent call last)",
      "\u001b[1;32m<ipython-input-41-9ed9ba3dad30>\u001b[0m in \u001b[0;36m<module>\u001b[1;34m\u001b[0m\n\u001b[1;32m----> 1\u001b[1;33m \u001b[1;34m'7'\u001b[0m\u001b[1;33m+\u001b[0m\u001b[1;36m1\u001b[0m \u001b[1;31m# нельзя складывать, потому что это значения разных типов - строка и целое число\u001b[0m\u001b[1;33m\u001b[0m\u001b[1;33m\u001b[0m\u001b[0m\n\u001b[0m",
      "\u001b[1;31mTypeError\u001b[0m: can only concatenate str (not \"int\") to str"
     ]
    }
   ],
   "source": [
    "'7'+1 # нельзя складывать, потому что это значения разных типов - строка и целое число"
   ]
  },
  {
   "cell_type": "markdown",
   "metadata": {},
   "source": [
    "# Рекомендации по написанию кода (PEP8)\n",
    "* Всегда отбивайте арифметические операторы пробелами от своих операндов\n",
    "* Отбивайте пробелами знак равно, кроме тех случаев когда он употребляется для обозначения значения параметра\n",
    "* После запятой нужен пробел\n"
   ]
  }
 ],
 "metadata": {
  "kernelspec": {
   "display_name": "Python 3",
   "language": "python",
   "name": "python3"
  },
  "language_info": {
   "codemirror_mode": {
    "name": "ipython",
    "version": 3
   },
   "file_extension": ".py",
   "mimetype": "text/x-python",
   "name": "python",
   "nbconvert_exporter": "python",
   "pygments_lexer": "ipython3",
   "version": "3.8.5"
  }
 },
 "nbformat": 4,
 "nbformat_minor": 4
}
