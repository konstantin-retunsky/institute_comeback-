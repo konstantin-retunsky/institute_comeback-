{
 "cells": [
  {
   "cell_type": "markdown",
   "metadata": {},
   "source": [
    "# Множества\n",
    "Множество в Python, как и списки, представляют собой последовательность элементов.\n",
    "\n",
    "Основные отличия множества от списка:\n",
    "* элементами множества могут быть любые другие **неизменяемые** объекты Python (числа, строки, кортежи и т.д.)        \n",
    "Изменяемые типы данных не могут быть элементами множества, в частности, *нельзя сделать элементом множества список или другое множество*. Требование неизменяемости элементов множества накладывается особенностями представления множества в памяти.\n",
    "* множество содержит **только уникальные** объекты\n",
    "* множество - это **неупорядоченная** коллекция    \n",
    "Элементы множества могут быть выведены не в том порядке, в каком были введены. Множества *не поддерживают обращение к элементу по его индексу и взятие срезов*.\n",
    "\n",
    "## Создание множества\n",
    "Множество может быть задано перечислением входящих в него элементов через запятую в фигурных скобках"
   ]
  },
  {
   "cell_type": "code",
   "execution_count": 1,
   "metadata": {},
   "outputs": [],
   "source": [
    "# сравните порядок элементов при задании множества и при его отображении\n",
    "numbers = {-10, 0, 15, -20, 25}\n",
    "print(numbers)"
   ]
  },
  {
   "cell_type": "markdown",
   "metadata": {},
   "source": [
    "Для преобразования другого иттерационного объекта (строки, списка, кортежа и т.д.) в множество используется функция `set`"
   ]
  },
  {
   "cell_type": "code",
   "execution_count": 2,
   "metadata": {},
   "outputs": [],
   "source": [
    "# в множество войдут только уникальные элементы списка\n",
    "list_numbers = [i**2 for i in range(-5, 6)]\n",
    "numbers = set(list_numbers)\n",
    "print('Список:', list_numbers)\n",
    "print('Множество:', numbers)"
   ]
  },
  {
   "cell_type": "code",
   "execution_count": 3,
   "metadata": {},
   "outputs": [
    {
     "name": "stdout",
     "output_type": "stream",
     "text": [
      "Строка: Множество в Python\n",
      "Множество: {'y', ' ', 'с', 'n', 'е', 'o', 'т', 'h', 't', 'о', 'М', 'ж', 'P', 'н', 'в'}\n"
     ]
    }
   ],
   "source": [
    "# в множество войдут только уникальные символы строки\n",
    "string = 'Множество в Python'\n",
    "symbol = set(string)\n",
    "print('Строка:', string)\n",
    "print('Множество:', symbol)"
   ]
  },
  {
   "cell_type": "markdown",
   "metadata": {},
   "source": [
    "Для создания пустого множества также используется функция `set`"
   ]
  },
  {
   "cell_type": "code",
   "execution_count": 4,
   "metadata": {},
   "outputs": [],
   "source": [
    "empty_set = set()"
   ]
  },
  {
   "cell_type": "markdown",
   "metadata": {},
   "source": [
    "**Важно**: пустые фигурные скобки создают пустой словарь, но не множество"
   ]
  },
  {
   "cell_type": "code",
   "execution_count": 5,
   "metadata": {
    "scrolled": true
   },
   "outputs": [
    {
     "name": "stdout",
     "output_type": "stream",
     "text": [
      "<class 'set'>\n",
      "<class 'dict'>\n"
     ]
    }
   ],
   "source": [
    "print(type(empty_set))\n",
    "empty_no_set = {}\n",
    "print(type(empty_no_set))"
   ]
  },
  {
   "cell_type": "markdown",
   "metadata": {},
   "source": [
    "Для создания множеств, аналогично спискам, могут использоваться *генераторы множеств*. Принцип их работы тот же, что и у генераторов списков, только для множеств генератор заключается не в прямоугольные, а в фигурные скобки:\n",
    "\n",
    "`{<выражение> for <переменная> in <последовательность>}`\n",
    "\n",
    "В генаратор множества  также можно добавить условное выражение:    \n",
    "\n",
    "`{<выражение> for <переменная> in <последовательность> if <условие>}`"
   ]
  },
  {
   "cell_type": "code",
   "execution_count": 6,
   "metadata": {},
   "outputs": [
    {
     "name": "stdout",
     "output_type": "stream",
     "text": [
      "{3, 6, 9, 12, 15}\n"
     ]
    }
   ],
   "source": [
    "А = {i for i in range(1,16) if i % 3 == 0}\n",
    "print(А) "
   ]
  },
  {
   "cell_type": "markdown",
   "metadata": {},
   "source": [
    "Если необходимо создать неизменяемое множество, то используют функцию `frozenset()` для любого итерабельного аргумента (список, строка, кортеж и т.д.)"
   ]
  },
  {
   "cell_type": "markdown",
   "metadata": {},
   "source": [
    "## Работа с множеством\n",
    "### Оператор принадлежности `in`\n",
    "Наличие или отсутствие элемента в множестве проверяется с помощью оператора `in`:\n",
    "\n",
    "`if <элемент> in <множество>`\n",
    "\n",
    " `if <элемент> not in <множество>`  "
   ]
  },
  {
   "cell_type": "markdown",
   "metadata": {},
   "source": [
    "### Размер множества - функция `len()`\n",
    "* функция `len()` вычисляет размер множества (то есть количество элементов в нем).  \n",
    "`len(<множество>)`     "
   ]
  },
  {
   "cell_type": "markdown",
   "metadata": {},
   "source": [
    "## Работа с элементами множества\n",
    "### Добавление элемента в множество\n",
    "Для добавления одного элемента в множество служит метод `add()`.\n",
    "\n",
    "`<множество>.add(<элемент>)`"
   ]
  },
  {
   "cell_type": "code",
   "execution_count": 7,
   "metadata": {},
   "outputs": [
    {
     "name": "stdout",
     "output_type": "stream",
     "text": [
      "{0, -20, 15, -10, 25, 30}\n"
     ]
    }
   ],
   "source": [
    "numbers = {-10, 0, 15, -20, 25}\n",
    "\n",
    "numbers.add(30)\n",
    "print(numbers)"
   ]
  },
  {
   "cell_type": "markdown",
   "metadata": {},
   "source": [
    "Для добавления всех элементов из другой коллекции объектов (списка, строки, множества, кортежа и т.д.) в множество используется метод `update()`"
   ]
  },
  {
   "cell_type": "code",
   "execution_count": 8,
   "metadata": {},
   "outputs": [
    {
     "name": "stdout",
     "output_type": "stream",
     "text": [
      "{0, 1, 3, -20, 15, -10, 25, -3}\n"
     ]
    }
   ],
   "source": [
    "numbers = {-10, 0, 15, -20, 25}\n",
    "list_numbers = [-3, 1, 3]\n",
    "\n",
    "numbers.update(list_numbers)\n",
    "print(numbers)"
   ]
  },
  {
   "cell_type": "markdown",
   "metadata": {},
   "source": [
    "### Удаление элемента из множества\n",
    "Для удаления элемента из множество используются методы `discard()` и `remove()`. \n",
    "\n",
    "`<множество>.discard(<элемент>)`\n",
    "\n",
    "`<множество>.remove(<элемент>)`"
   ]
  },
  {
   "cell_type": "code",
   "execution_count": 9,
   "metadata": {},
   "outputs": [
    {
     "name": "stdout",
     "output_type": "stream",
     "text": [
      "{0, 15, -10, 25}\n",
      "{15, -10, 25}\n"
     ]
    }
   ],
   "source": [
    "numbers = {-10, 0, 15, -20, 25}\n",
    "\n",
    "numbers.discard(-20)\n",
    "print(numbers)\n",
    "\n",
    "numbers.remove(0)\n",
    "print(numbers)"
   ]
  },
  {
   "cell_type": "markdown",
   "metadata": {},
   "source": [
    "Работа методов различается только в случае, когда удаляемый элемент отсутствует в множестве. В этом случае метод `discard()` не делает ничего, а метод `remove()` генерирует исключение `KeyError`."
   ]
  },
  {
   "cell_type": "code",
   "execution_count": 10,
   "metadata": {},
   "outputs": [
    {
     "name": "stdout",
     "output_type": "stream",
     "text": [
      "{0, -20, 15, -10, 25}\n"
     ]
    },
    {
     "ename": "KeyError",
     "evalue": "13",
     "output_type": "error",
     "traceback": [
      "\u001b[1;31m---------------------------------------------------------------------------\u001b[0m",
      "\u001b[1;31mKeyError\u001b[0m                                  Traceback (most recent call last)",
      "\u001b[1;32m<ipython-input-10-1d282bdd7cec>\u001b[0m in \u001b[0;36m<module>\u001b[1;34m\u001b[0m\n\u001b[0;32m      4\u001b[0m \u001b[0mprint\u001b[0m\u001b[1;33m(\u001b[0m\u001b[0mnumbers\u001b[0m\u001b[1;33m)\u001b[0m\u001b[1;33m\u001b[0m\u001b[1;33m\u001b[0m\u001b[0m\n\u001b[0;32m      5\u001b[0m \u001b[1;33m\u001b[0m\u001b[0m\n\u001b[1;32m----> 6\u001b[1;33m \u001b[0mnumbers\u001b[0m\u001b[1;33m.\u001b[0m\u001b[0mremove\u001b[0m\u001b[1;33m(\u001b[0m\u001b[1;36m13\u001b[0m\u001b[1;33m)\u001b[0m\u001b[1;33m\u001b[0m\u001b[1;33m\u001b[0m\u001b[0m\n\u001b[0m\u001b[0;32m      7\u001b[0m \u001b[0mprint\u001b[0m\u001b[1;33m(\u001b[0m\u001b[0mnumbers\u001b[0m\u001b[1;33m)\u001b[0m\u001b[1;33m\u001b[0m\u001b[1;33m\u001b[0m\u001b[0m\n",
      "\u001b[1;31mKeyError\u001b[0m: 13"
     ]
    }
   ],
   "source": [
    "numbers = {-10, 0, 15, -20, 25}\n",
    "\n",
    "numbers.discard(13)\n",
    "print(numbers)\n",
    "\n",
    "numbers.remove(13)\n",
    "print(numbers)"
   ]
  },
  {
   "cell_type": "markdown",
   "metadata": {},
   "source": [
    "Для удаления случайного элемента из множества используется метод `pop()`, сам метод при этом  возвращает удаленный элемент:"
   ]
  },
  {
   "cell_type": "code",
   "execution_count": 11,
   "metadata": {},
   "outputs": [
    {
     "name": "stdout",
     "output_type": "stream",
     "text": [
      "Множество: {-20, 15, -10, 25}\n",
      "Удаленный элемент: 0\n"
     ]
    }
   ],
   "source": [
    "numbers = {-10, 0, 15, -20, 25}\n",
    "\n",
    "delete_number = numbers.pop()\n",
    "print('Множество:', numbers)\n",
    "print('Удаленный элемент:', delete_number)"
   ]
  },
  {
   "cell_type": "markdown",
   "metadata": {},
   "source": [
    "Для удаления всех элементов из множества служит метод `clear()`:"
   ]
  },
  {
   "cell_type": "code",
   "execution_count": 12,
   "metadata": {},
   "outputs": [
    {
     "name": "stdout",
     "output_type": "stream",
     "text": [
      "Множество: set()\n"
     ]
    }
   ],
   "source": [
    "numbers = {-10, 0, 15, -20, 25}\n",
    "\n",
    "numbers.clear()\n",
    "print('Множество:', numbers)"
   ]
  },
  {
   "cell_type": "markdown",
   "metadata": {},
   "source": [
    "### Работа с элементами множества в цикле `for`\n",
    "Для выполнения набора определенных действий с каждым элементом в множестве используют цикл `for`:\n",
    "\n",
    "`for <элемент> in <множество>:\n",
    "        <блок команд>`   "
   ]
  },
  {
   "attachments": {
    "Python-Set-Operatioons.png": {
     "image/png": "[encoded data removed]"
    }
   },
   "cell_type": "markdown",
   "metadata": {},
   "source": [
    "## Операции над множествами\n",
    "С множествами в Python можно выполнять обычные для математики операции над множествами.\n",
    "\n",
    "![Python-Set-Operatioons.png](attachment:Python-Set-Operatioons.png)\n",
    "### Объединение множеств\n",
    "Для вычисления обьединения множеств используется метод `union()` или оператор `|` \n",
    "\n",
    "`A.union(B)` \n",
    "\n",
    "`A | B`\n",
    "\n",
    "Сами множества `А` и `В` при этом не изменяются, а результатом является новое множество, состоящее из элементов множеств `А` и `B`."
   ]
  },
  {
   "cell_type": "code",
   "execution_count": 13,
   "metadata": {},
   "outputs": [
    {
     "name": "stdout",
     "output_type": "stream",
     "text": [
      "{1, 2, 3, 4, 6, 9, 10, 12, 14, 15}\n",
      "{1, 2, 3, 4, 6, 9, 10, 12, 14, 15}\n"
     ]
    }
   ],
   "source": [
    "A = {1, 3, 6, 9, 12, 15}\n",
    "B = {2, 4, 6, 10, 12, 14}\n",
    "\n",
    "C = A.union(B)\n",
    "print(C)\n",
    "\n",
    "D = A | B\n",
    "print(D)"
   ]
  },
  {
   "cell_type": "markdown",
   "metadata": {},
   "source": [
    "Если нужно в результате объединения множеств не создавать новое множество, а вместо этого \"расширить\", например, множество `А` за счет элементов множества `В`, то можно использовать метод `update()` или расширенный оператор `|`"
   ]
  },
  {
   "cell_type": "code",
   "execution_count": 14,
   "metadata": {},
   "outputs": [
    {
     "name": "stdout",
     "output_type": "stream",
     "text": [
      "{1, 2, 3, 4, 6, 9, 10, 12, 14, 15}\n"
     ]
    }
   ],
   "source": [
    "A = {1, 3, 6, 9, 12, 15}\n",
    "B = {2, 4, 6, 10, 12, 14}\n",
    "\n",
    "A.update(B)\n",
    "print(A)"
   ]
  },
  {
   "cell_type": "code",
   "execution_count": 15,
   "metadata": {},
   "outputs": [
    {
     "name": "stdout",
     "output_type": "stream",
     "text": [
      "{1, 2, 3, 4, 6, 9, 10, 12, 14, 15}\n"
     ]
    }
   ],
   "source": [
    "A = {1, 3, 6, 9, 12, 15}\n",
    "B = {2, 4, 6, 10, 12, 14}\n",
    "\n",
    "A |= B\n",
    "print(A)"
   ]
  },
  {
   "cell_type": "markdown",
   "metadata": {},
   "source": [
    "### Пересечение множеств\n",
    "Для вычисления пересечения множеств используется метод `intersection()` или оператор `&` \n",
    "\n",
    "`A.intersection(B)`\n",
    "\n",
    "`A & B`\n",
    "\n",
    "Сами множества `А` и `В` при этом не изменяются, а результатом является новое множество, состоящее из общих для множеств `А` и `B` элементов ."
   ]
  },
  {
   "cell_type": "code",
   "execution_count": 16,
   "metadata": {},
   "outputs": [
    {
     "name": "stdout",
     "output_type": "stream",
     "text": [
      "{12, 6}\n",
      "{12, 6}\n"
     ]
    }
   ],
   "source": [
    "A = {1, 3, 6, 9, 12, 15}\n",
    "B = {2, 4, 6, 10, 12, 14}\n",
    "\n",
    "C = A.intersection(B)\n",
    "print(C)\n",
    "\n",
    "D = A & B\n",
    "print(D)"
   ]
  },
  {
   "cell_type": "markdown",
   "metadata": {},
   "source": [
    "Если нужно в результате пересечения множеств не создавать новое множество, а записывать результат в одно из исходных множеств, то можно использовать метод `intersection_update()` или расширенный оператор `&`"
   ]
  },
  {
   "cell_type": "code",
   "execution_count": 17,
   "metadata": {},
   "outputs": [
    {
     "name": "stdout",
     "output_type": "stream",
     "text": [
      "{12, 6}\n"
     ]
    }
   ],
   "source": [
    "A = {1, 3, 6, 9, 12, 15}\n",
    "B = {2, 4, 6, 10, 12, 14}\n",
    "\n",
    "A.intersection_update(B)\n",
    "print(A)"
   ]
  },
  {
   "cell_type": "code",
   "execution_count": 18,
   "metadata": {},
   "outputs": [
    {
     "name": "stdout",
     "output_type": "stream",
     "text": [
      "{12, 6}\n"
     ]
    }
   ],
   "source": [
    "A = {1, 3, 6, 9, 12, 15}\n",
    "B = {2, 4, 6, 10, 12, 14}\n",
    "\n",
    "A &= B\n",
    "print(A)"
   ]
  },
  {
   "cell_type": "markdown",
   "metadata": {},
   "source": [
    "### Разность множеств\n",
    "Для вычисления разности множеств используется метод `difference()` или оператор `-` \n",
    "\n",
    "`A.difference(B)`\n",
    "\n",
    "`A - B`\n",
    "\n",
    "Сами множества `А` и `В` при этом не изменяются, а результатом является новое множество, состоящее из элементов множества `А`, не входящих в множество `B` (очевидно, что в данном случае имеет значение порядок указания множеств)."
   ]
  },
  {
   "cell_type": "code",
   "execution_count": 19,
   "metadata": {},
   "outputs": [
    {
     "name": "stdout",
     "output_type": "stream",
     "text": [
      "{1, 3, 9, 15}\n",
      "{1, 3, 9, 15}\n"
     ]
    }
   ],
   "source": [
    "A = {1, 3, 6, 9, 12, 15}\n",
    "B = {2, 4, 6, 10, 12, 14}\n",
    "\n",
    "C = A.difference(B)\n",
    "print(C)\n",
    "\n",
    "D = A - B\n",
    "print(D)"
   ]
  },
  {
   "cell_type": "markdown",
   "metadata": {},
   "source": [
    "Если нужно в результате пересечения множеств не создавать новое множество, а записывать результат в исходное множество `А`, то можно использовать метод `difference_update()` или расширенный оператор `-`"
   ]
  },
  {
   "cell_type": "code",
   "execution_count": 20,
   "metadata": {},
   "outputs": [
    {
     "name": "stdout",
     "output_type": "stream",
     "text": [
      "{1, 3, 9, 15}\n"
     ]
    }
   ],
   "source": [
    "B = {2, 4, 6, 10, 12, 14}\n",
    "\n",
    "A.difference_update(B)\n",
    "print(A)"
   ]
  },
  {
   "cell_type": "code",
   "execution_count": 21,
   "metadata": {},
   "outputs": [
    {
     "name": "stdout",
     "output_type": "stream",
     "text": [
      "{1, 3, 9, 15}\n"
     ]
    }
   ],
   "source": [
    "A = {1, 3, 6, 9, 12, 15}\n",
    "B = {2, 4, 6, 10, 12, 14}\n",
    "\n",
    "A -= B\n",
    "print(A)"
   ]
  },
  {
   "cell_type": "markdown",
   "metadata": {},
   "source": [
    "### Симметрическая разность множеств\n",
    "Для вычисления симметрической разности множеств используются метод `symmetric_difference()` или оператор `^` \n",
    "\n",
    "`A.symmetric_difference(B)`\n",
    "\n",
    "`A - B`\n",
    "\n",
    "Сами множества `А` и `В` при этом не изменяются, а результатом является новое множество, состоящее из элементов, входящие в множество `A` или в множество `B`, но не в оба из них одновременно."
   ]
  },
  {
   "cell_type": "code",
   "execution_count": 22,
   "metadata": {},
   "outputs": [
    {
     "name": "stdout",
     "output_type": "stream",
     "text": [
      "{1, 2, 3, 4, 9, 10, 14, 15}\n",
      "{1, 2, 3, 4, 9, 10, 14, 15}\n"
     ]
    }
   ],
   "source": [
    "A = {1, 3, 6, 9, 12, 15}\n",
    "B = {2, 4, 6, 10, 12, 14}\n",
    "\n",
    "C = A.symmetric_difference(B)\n",
    "print(C)\n",
    "\n",
    "D = A ^ B\n",
    "print(D)"
   ]
  },
  {
   "cell_type": "markdown",
   "metadata": {},
   "source": [
    "Если нужно в результате пересечения множеств не создавать новое множество, а записывать результат в исходное множество `А`, то можно использовать метод `symmetric_difference_update()` или расширенный оператор `^`"
   ]
  },
  {
   "cell_type": "code",
   "execution_count": 23,
   "metadata": {},
   "outputs": [
    {
     "name": "stdout",
     "output_type": "stream",
     "text": [
      "{1, 2, 3, 4, 9, 10, 14, 15}\n"
     ]
    }
   ],
   "source": [
    "B = {2, 4, 6, 10, 12, 14}\n",
    "\n",
    "A.symmetric_difference_update(B)\n",
    "print(A)"
   ]
  },
  {
   "cell_type": "code",
   "execution_count": 24,
   "metadata": {},
   "outputs": [
    {
     "name": "stdout",
     "output_type": "stream",
     "text": [
      "{1, 2, 3, 4, 9, 10, 14, 15}\n"
     ]
    }
   ],
   "source": [
    "A = {1, 3, 6, 9, 12, 15}\n",
    "B = {2, 4, 6, 10, 12, 14}\n",
    "\n",
    "A ^= B\n",
    "print(A)"
   ]
  },
  {
   "cell_type": "markdown",
   "metadata": {},
   "source": [
    "### Отношение включения\n",
    "Для проверки, является ли одно множество подмножеством другого (когда все элементы первого множества являются одновременно и элементами второго множества), используются метод `issubset()` или оператор `<=`\n",
    "\n",
    "`A.issubset(B)`\n",
    "\n",
    "`A <= B`"
   ]
  },
  {
   "cell_type": "code",
   "execution_count": 25,
   "metadata": {},
   "outputs": [
    {
     "data": {
      "text/plain": [
       "False"
      ]
     },
     "execution_count": 25,
     "metadata": {},
     "output_type": "execute_result"
    }
   ],
   "source": [
    "A = {1, 3, 6, 9, 12, 15}\n",
    "B = {2, 4, 6, 10, 12, 14}\n",
    "\n",
    "A.issubset(B)"
   ]
  },
  {
   "cell_type": "code",
   "execution_count": 26,
   "metadata": {},
   "outputs": [
    {
     "data": {
      "text/plain": [
       "True"
      ]
     },
     "execution_count": 26,
     "metadata": {},
     "output_type": "execute_result"
    }
   ],
   "source": [
    "C = {3, 9}\n",
    "\n",
    "C.issubset(A)"
   ]
  },
  {
   "cell_type": "code",
   "execution_count": 27,
   "metadata": {},
   "outputs": [
    {
     "data": {
      "text/plain": [
       "True"
      ]
     },
     "execution_count": 27,
     "metadata": {},
     "output_type": "execute_result"
    }
   ],
   "source": [
    "C<=A"
   ]
  },
  {
   "cell_type": "code",
   "execution_count": 28,
   "metadata": {
    "scrolled": true
   },
   "outputs": [
    {
     "data": {
      "text/plain": [
       "True"
      ]
     },
     "execution_count": 28,
     "metadata": {},
     "output_type": "execute_result"
    }
   ],
   "source": [
    "# любое множество является подмножеством самого себя\n",
    "A.issubset(A)"
   ]
  },
  {
   "cell_type": "markdown",
   "metadata": {},
   "source": [
    "Для проверки, является ли одно множество собственным подмножеством другого (когда это исходное множество содержит другие элементы, кроме как элементы подмножества), используется оператор `<`\n",
    "\n",
    "`A < B`\n",
    "(эквивалентно `A <= B` and `A != В`)"
   ]
  },
  {
   "cell_type": "code",
   "execution_count": 29,
   "metadata": {},
   "outputs": [
    {
     "data": {
      "text/plain": [
       "True"
      ]
     },
     "execution_count": 29,
     "metadata": {},
     "output_type": "execute_result"
    }
   ],
   "source": [
    "A = {1, 3, 6, 9, 12, 15}\n",
    "C = {3, 9}\n",
    "\n",
    "C<A"
   ]
  },
  {
   "cell_type": "code",
   "execution_count": 30,
   "metadata": {},
   "outputs": [
    {
     "data": {
      "text/plain": [
       "False"
      ]
     },
     "execution_count": 30,
     "metadata": {},
     "output_type": "execute_result"
    }
   ],
   "source": [
    "A<A"
   ]
  },
  {
   "cell_type": "markdown",
   "metadata": {},
   "source": [
    "Для проверки, является ли одно множество надмножеством другого, используются метод `issuperset()` или оператор `>=`\n",
    "\n",
    "`A.issuperset(B)`\n",
    "\n",
    "`A >= B`\n",
    "\n",
    "и оператор `>` для правильного надмножества\n",
    "\n",
    "`A > B`"
   ]
  },
  {
   "cell_type": "code",
   "execution_count": 31,
   "metadata": {},
   "outputs": [
    {
     "name": "stdout",
     "output_type": "stream",
     "text": [
      "False\n",
      "True\n",
      "True\n",
      "True\n",
      "False\n"
     ]
    }
   ],
   "source": [
    "A = {1, 3, 6, 9, 12, 15}\n",
    "B = {2, 4, 6, 10, 12, 14}\n",
    "C = {3, 9}\n",
    "\n",
    "print(A.issuperset(B))\n",
    "print(A.issuperset(C))\n",
    "print(A.issuperset(A)) # множество не является правильным надмножеством самого себя\n",
    "print(A>C)\n",
    "print(A>A)"
   ]
  },
  {
   "cell_type": "markdown",
   "metadata": {},
   "source": [
    "# Кортежи\n",
    "Кортежи в Python, как и списки, представляют собой последовательность элементов.\n",
    "\n",
    "Основное отличие кортежа от списка состоит в том, что кортеж это **неизменяемый** тип данных.\n",
    "\n",
    "Общее у кортежа и списка:\n",
    "* это коллекция **произвольных** объектов, то есть кортежи могут содержать объекты любых видов\n",
    "* это **упорядоченная** коллекция, то есть кортежи поддерживают индексацию и срезы\n",
    "* представляют собой **массивы ссылок** на объекты\n",
    "\n",
    "Преимущество кортежей (в некоторых задачах) состоит в том они занимают меньше места, чем списки, и обеспечивают определенную степень целостности (кортеж не изменится через ссылку где-то в другом месте программы).\n",
    "\n",
    "## Создание кортежа\n",
    "Кортеж может быть задан перечеслением входящих в него элементов через запятую"
   ]
  },
  {
   "cell_type": "code",
   "execution_count": 32,
   "metadata": {},
   "outputs": [
    {
     "name": "stdout",
     "output_type": "stream",
     "text": [
      "(3.14, 'Python', True, 10)\n"
     ]
    }
   ],
   "source": [
    "my_tuple = 3.14, 'Python', True, 10\n",
    "print(my_tuple)"
   ]
  },
  {
   "cell_type": "markdown",
   "metadata": {},
   "source": [
    "При отображении кортежа Python выводит на экран его элементы в круглых скобки. Как правило, они не нужны для определения кортежа, но с ними более безопасно, так как они делают кортеж более заметным. В тех случаях, когда у запятой могут быть и другие варианты использования, также рекомендуется ставить круглые скобки при задании кортежа."
   ]
  },
  {
   "cell_type": "code",
   "execution_count": 33,
   "metadata": {},
   "outputs": [
    {
     "name": "stdout",
     "output_type": "stream",
     "text": [
      "([1, 2, 3], [0.1, 0.2, 0.3])\n",
      "('Python', 'C#', 'C++', 'Object Pascal')\n"
     ]
    }
   ],
   "source": [
    "numbers = ([1,2,3],[0.1,0.2,0.3])\n",
    "print(numbers)\n",
    "\n",
    "languages = ('Python', 'C#', 'C++', 'Object Pascal')\n",
    "print(languages)"
   ]
  },
  {
   "cell_type": "markdown",
   "metadata": {},
   "source": [
    "Чтобы создать кортеж, содержащий один элемент, после этого элемента надо ставить запятую."
   ]
  },
  {
   "cell_type": "code",
   "execution_count": 34,
   "metadata": {},
   "outputs": [
    {
     "name": "stdout",
     "output_type": "stream",
     "text": [
      "('Python',)\n"
     ]
    }
   ],
   "source": [
    "languages = 'Python',\n",
    "print(languages)"
   ]
  },
  {
   "cell_type": "code",
   "execution_count": 35,
   "metadata": {},
   "outputs": [
    {
     "name": "stdout",
     "output_type": "stream",
     "text": [
      "<class 'tuple'>\n",
      "<class 'int'>\n"
     ]
    }
   ],
   "source": [
    "# если забыть о запятой, кортеж не будет создан\n",
    "numbers = (3,)\n",
    "print(type(numbers))\n",
    "\n",
    "other_numbers = (3)\n",
    "print(type(other_numbers))"
   ]
  },
  {
   "cell_type": "markdown",
   "metadata": {},
   "source": [
    "Для создания пустого кортежа используются круглые скобки"
   ]
  },
  {
   "cell_type": "code",
   "execution_count": 36,
   "metadata": {},
   "outputs": [],
   "source": [
    "empty_tuple = ()"
   ]
  },
  {
   "cell_type": "markdown",
   "metadata": {},
   "source": [
    "Для преобразования другого иттерационного объекта (строки, списка, множества и т.д.) в множество используется функция `tuple()`"
   ]
  },
  {
   "cell_type": "code",
   "execution_count": 37,
   "metadata": {},
   "outputs": [
    {
     "name": "stdout",
     "output_type": "stream",
     "text": [
      "Список: [9, 4, 1, 0, 1, 4, 9]\n",
      "Кортеж: (9, 4, 1, 0, 1, 4, 9)\n"
     ]
    }
   ],
   "source": [
    "list_numbers = [i**2 for i in range(-3, 4)]\n",
    "numbers = tuple(list_numbers)\n",
    "print('Список:', list_numbers)\n",
    "print('Кортеж:', numbers)"
   ]
  },
  {
   "cell_type": "code",
   "execution_count": 38,
   "metadata": {},
   "outputs": [
    {
     "name": "stdout",
     "output_type": "stream",
     "text": [
      "Строка: Множество в Python\n",
      "Кортеж: ('М', 'н', 'о', 'ж', 'е', 'с', 'т', 'в', 'о', ' ', 'в', ' ', 'P', 'y', 't', 'h', 'o', 'n')\n"
     ]
    }
   ],
   "source": [
    "string = 'Множество в Python'\n",
    "symbol = tuple(string)\n",
    "print('Строка:', string)\n",
    "print('Кортеж:', symbol)"
   ]
  },
  {
   "cell_type": "markdown",
   "metadata": {},
   "source": [
    "Генераторов кортежей не существует.\n",
    "\n",
    "## Работа с кортежем\n",
    "Работа с кортежем во многом похожа на работу со списками. Аналогичным образом осуществляется обращение к элементу по индесу, взятие среза, используются цикл `for` и оператор `in` для выполнения набора определенных действий с каждым элементом в кортеже. С котрежами также работают функция `len`, методы `index()` и `count()`. "
   ]
  },
  {
   "cell_type": "code",
   "execution_count": 39,
   "metadata": {},
   "outputs": [
    {
     "name": "stdout",
     "output_type": "stream",
     "text": [
      "3\n",
      "(5, 0, 7)\n",
      "(0, 9, 0, 7, 0, 5, 0, 3, 0, 1)\n"
     ]
    }
   ],
   "source": [
    "numbers = (1, 0, 3, 0, 5, 0, 7, 0, 9, 0)\n",
    "print(numbers[2])\n",
    "print(numbers[4:7]) # cрез кортежа - это тоже кортеж\n",
    "print(numbers[::-1])"
   ]
  },
  {
   "cell_type": "code",
   "execution_count": 40,
   "metadata": {},
   "outputs": [
    {
     "name": "stdout",
     "output_type": "stream",
     "text": [
      "5\n",
      "Число 5 есть в кортеже\n"
     ]
    }
   ],
   "source": [
    "num = int(input())\n",
    "if num in numbers:\n",
    "    print(f'Число {num} есть в кортеже')"
   ]
  },
  {
   "cell_type": "code",
   "execution_count": 41,
   "metadata": {},
   "outputs": [
    {
     "name": "stdout",
     "output_type": "stream",
     "text": [
      "10\n",
      "6\n",
      "5\n"
     ]
    }
   ],
   "source": [
    "print(len(numbers))\n",
    "print(numbers.index(7))\n",
    "print(numbers.count(0))"
   ]
  },
  {
   "cell_type": "markdown",
   "metadata": {},
   "source": [
    "### Распаковка кортежа\n",
    "Кортежи позволяют присваивать значение нескольким переменным одновременно"
   ]
  },
  {
   "cell_type": "code",
   "execution_count": 42,
   "metadata": {},
   "outputs": [
    {
     "name": "stdout",
     "output_type": "stream",
     "text": [
      "Python\n",
      "C#\n",
      "C++\n",
      "Object Pascal\n"
     ]
    }
   ],
   "source": [
    "a, b, c, d = 'Python', 'C#', 'C++', 'Object Pascal'\n",
    "print(a)\n",
    "print(b)\n",
    "print(c)\n",
    "print(d)"
   ]
  },
  {
   "cell_type": "markdown",
   "metadata": {},
   "source": [
    "Именно распаковка кортежа лежит в основе обмена значений между переменными"
   ]
  },
  {
   "cell_type": "code",
   "execution_count": 43,
   "metadata": {},
   "outputs": [
    {
     "name": "stdout",
     "output_type": "stream",
     "text": [
      "x\n",
      "3\n"
     ]
    }
   ],
   "source": [
    "a = 3\n",
    "b = 'x'\n",
    "a, b = b, a\n",
    "print(a)\n",
    "print(b)"
   ]
  },
  {
   "cell_type": "markdown",
   "metadata": {},
   "source": [
    "### Операция слияния `+` и умножения на число `*`\n",
    "Оператор `+` используется для слияния двух кортежей. При этом создается *новый* кортеж из элементов первого и второго кортежа, но сами они остаются неизменными:"
   ]
  },
  {
   "cell_type": "code",
   "execution_count": 44,
   "metadata": {},
   "outputs": [
    {
     "data": {
      "text/plain": [
       "(1, 0, 3, 0, 5, 0, 7, 0, 9, 0, 'Python')"
      ]
     },
     "execution_count": 44,
     "metadata": {},
     "output_type": "execute_result"
    }
   ],
   "source": [
    "numbers + languages"
   ]
  },
  {
   "cell_type": "markdown",
   "metadata": {},
   "source": [
    "При умножении кортежа на число, создается *новый* кортеж из продублированных соответствующее число раз элементов:"
   ]
  },
  {
   "cell_type": "code",
   "execution_count": 45,
   "metadata": {},
   "outputs": [
    {
     "data": {
      "text/plain": [
       "(3.14, 'Python', True, 10, 3.14, 'Python', True, 10, 3.14, 'Python', True, 10)"
      ]
     },
     "execution_count": 45,
     "metadata": {},
     "output_type": "execute_result"
    }
   ],
   "source": [
    "my_tuple * 3"
   ]
  },
  {
   "cell_type": "markdown",
   "metadata": {},
   "source": [
    "# Словари\n",
    "Словари в это неупорядоченные коллекции, в которой каждый элемент представляет собой пару *значение* и сопоставленный ему *ключ*.\n",
    "По своим особенностям словарь это нечто \"среднее\" между множеством и списком:\n",
    "* словарь это **неупорядоченная** коллекция произвольных объектов (как и множество)\n",
    "* доступ к элементам словаря осуществляется **по ключу** (то есть ключ это аналог индекса у списков, но ключи не обязательно должны быть целыми числами)\n",
    "* словарь это таблица ссылок (тогда как список - массив ссылок)\n",
    "\n",
    "## Создание словаря\n",
    "Чтобы создать словарь, нужно заключить в фигурные скобки `{}` разделенные запятыми пары `ключ : значение`.\n",
    "\n",
    "**Важно**:\n",
    "* Все ключи должны быть **различны**: при добавлении в словарь нового элемента с тем же ключом старое значение затирается    \n",
    "* Ключами могут быть только **неизменяемые** объекты Python (числа, строки, кортежи и т.д.)  \n",
    "* Одному ключу может быть сопоставлен список значений  \n",
    "* Значения ключей в одном словаре могут быть разных типов"
   ]
  },
  {
   "cell_type": "code",
   "execution_count": 46,
   "metadata": {},
   "outputs": [
    {
     "name": "stdout",
     "output_type": "stream",
     "text": [
      "{'Ag': ['Серебро', 47, 107.86], 'Se': ['Селен', 34, 78.971], 'Xe': ['Ксенон', 54, 131.29]}\n"
     ]
    }
   ],
   "source": [
    "# словарь содержит обозначения химических элементов и данные о них (название, атомный номер и атомную массу)\n",
    "# обозначения элементов - ключи\n",
    "# списки с данными об элементах - значения ключей\n",
    "elements = {'Ag' : ['Серебро', 47, 107.86], 'Se' : ['Селен', 34, 78.971], 'Xe': ['Ксенон', 54, 131.29]}\n",
    "print(elements)"
   ]
  },
  {
   "cell_type": "markdown",
   "metadata": {},
   "source": [
    "Также создать словарь можно с использованием функции `dict()`, перечислив в качестве ее аргументов пары `ключ = значение`. Но в этом случае имена ключей должны представлять собой корректные имена переменных (не начинаться с цифры, не содержать пробелов и т.д.)"
   ]
  },
  {
   "cell_type": "code",
   "execution_count": 47,
   "metadata": {},
   "outputs": [
    {
     "name": "stdout",
     "output_type": "stream",
     "text": [
      "{'Pb': ['Свинец', 82, 207.2], 'Cs': ['Цезий', 55, 132.9], 'B': ['Бор', 5, 10.81]}\n"
     ]
    }
   ],
   "source": [
    "other_elements = dict(Pb = ['Свинец', 82, 207.2], Cs = ['Цезий', 55, 132.9], B = ['Бор', 5, 10.81])\n",
    "print(other_elements)"
   ]
  },
  {
   "cell_type": "markdown",
   "metadata": {},
   "source": [
    "Для создания пустого слова нужно использовать пустые фигурные скобки либо функцию `dict()`."
   ]
  },
  {
   "cell_type": "code",
   "execution_count": 48,
   "metadata": {},
   "outputs": [],
   "source": [
    "empty_dict = {}"
   ]
  },
  {
   "cell_type": "code",
   "execution_count": 49,
   "metadata": {},
   "outputs": [],
   "source": [
    "empty_dict = dict()"
   ]
  },
  {
   "cell_type": "markdown",
   "metadata": {},
   "source": [
    "С помощью функции `dict()` можно преобразовывать двузначные последовательности в словари. Для создания двузначные последовательностей удобно использовать функцию `zip()`"
   ]
  },
  {
   "cell_type": "code",
   "execution_count": 50,
   "metadata": {},
   "outputs": [
    {
     "data": {
      "text/plain": [
       "{1: 2, 3: 4, 5: 6}"
      ]
     },
     "execution_count": 50,
     "metadata": {},
     "output_type": "execute_result"
    }
   ],
   "source": [
    "# список, состоящий из двухэлементных списков\n",
    "my_list = [[1, 2], [3, 4], [5, 6]]\n",
    "dict(my_list)"
   ]
  },
  {
   "cell_type": "code",
   "execution_count": 51,
   "metadata": {
    "scrolled": true
   },
   "outputs": [
    {
     "ename": "SyntaxError",
     "evalue": "cannot assign to function call (<ipython-input-51-256513a5418c>, line 3)",
     "output_type": "error",
     "traceback": [
      "\u001b[1;36m  File \u001b[1;32m\"<ipython-input-51-256513a5418c>\"\u001b[1;36m, line \u001b[1;32m3\u001b[0m\n\u001b[1;33m    dict(my_tuple)='Python Dictionaries'\u001b[0m\n\u001b[1;37m    ^\u001b[0m\n\u001b[1;31mSyntaxError\u001b[0m\u001b[1;31m:\u001b[0m cannot assign to function call\n"
     ]
    }
   ],
   "source": [
    "# кортеж, состоящий из двухсимвольных строк\n",
    "my_tuple = ('12', '34', '56')\n",
    "dict(my_tuple)='Python Dictionaries'"
   ]
  },
  {
   "cell_type": "code",
   "execution_count": 52,
   "metadata": {},
   "outputs": [
    {
     "data": {
      "text/plain": [
       "{1: 'Python', 2: 'C#', 3: 'C++', 4: 'Object Pascal'}"
      ]
     },
     "execution_count": 52,
     "metadata": {},
     "output_type": "execute_result"
    }
   ],
   "source": [
    "numbers = [1, 2, 3, 4]\n",
    "languages = ['Python', 'C#', 'C++', 'Object Pascal']\n",
    "my_list = list(zip(numbers, languages)) # cоздается список из кортежей двое попарных элементов каждого из списков\n",
    "dict(my_list)"
   ]
  },
  {
   "cell_type": "markdown",
   "metadata": {},
   "source": [
    "У словарей, как и у списков, есть включения (генераторы)\n",
    "\n",
    "`[<выражение для ключа>: <выражение для значения> for <переменная> in <последовательность>]`"
   ]
  },
  {
   "cell_type": "code",
   "execution_count": 53,
   "metadata": {},
   "outputs": [
    {
     "name": "stdout",
     "output_type": "stream",
     "text": [
      "{'c': 1, 'y': 1, ' ': 1, 'e': 1, 'n': 2, 'a': 1, 'o': 2, 'h': 1, 't': 2, 'r': 1, 'D': 1, 's': 1, 'i': 3, 'P': 1}\n"
     ]
    }
   ],
   "source": [
    "# словарь символов и сколько раз они встречаются в тексте\n",
    "text = 'Python Dictionaries'\n",
    "letter_counts = {letter: text.count(letter) for letter in set(text)}\n",
    "print(letter_counts)"
   ]
  },
  {
   "cell_type": "markdown",
   "metadata": {},
   "source": [
    "По аналогии со списковыми включениями для генератора словарей также можно использовать оператор `if` и более одного блока `for`\n",
    "\n",
    "`{<выражение для ключа>: <выражение для значения> for <переменная> in <последовательность> if <условие>}`"
   ]
  },
  {
   "cell_type": "code",
   "execution_count": 54,
   "metadata": {},
   "outputs": [
    {
     "name": "stdout",
     "output_type": "stream",
     "text": [
      "{'e': 1, 'a': 1, 'o': 2, 'i': 3}\n"
     ]
    }
   ],
   "source": [
    "# словарь гласных букв и сколько раз они встречаются в тексте\n",
    "vowels = 'aeiou'\n",
    "text = 'Python Dictionaries'\n",
    "letter_counts = {letter: text.count(letter) for letter in set(text) if letter in vowels}\n",
    "print(letter_counts)"
   ]
  },
  {
   "cell_type": "markdown",
   "metadata": {},
   "source": [
    "## Работа со словарем\n",
    "### Обращение к элементу словаря по его ключу\n",
    "Обращение к элементу словаря по его ключу аналогично обращению к элементу списка по его индексу     \n",
    "`<имя словаря>[<ключ>]`"
   ]
  },
  {
   "cell_type": "code",
   "execution_count": 55,
   "metadata": {},
   "outputs": [
    {
     "data": {
      "text/plain": [
       "['Серебро', 47, 107.86]"
      ]
     },
     "execution_count": 55,
     "metadata": {},
     "output_type": "execute_result"
    }
   ],
   "source": [
    "elements = {'Ag' : ['Серебро', 47, 107.86], 'Se' : ['Селен', 34, 78.971], 'Xe': ['Ксенон', 54, 131.29]}\n",
    "elements['Ag']"
   ]
  },
  {
   "cell_type": "markdown",
   "metadata": {},
   "source": [
    "Если ключа в словаре нет, будет сгенерировано исключение `KeyError`:"
   ]
  },
  {
   "cell_type": "code",
   "execution_count": 56,
   "metadata": {
    "scrolled": true
   },
   "outputs": [
    {
     "ename": "KeyError",
     "evalue": "'Na'",
     "output_type": "error",
     "traceback": [
      "\u001b[1;31m---------------------------------------------------------------------------\u001b[0m",
      "\u001b[1;31mKeyError\u001b[0m                                  Traceback (most recent call last)",
      "\u001b[1;32m<ipython-input-56-95554330bebe>\u001b[0m in \u001b[0;36m<module>\u001b[1;34m\u001b[0m\n\u001b[1;32m----> 1\u001b[1;33m \u001b[0melements\u001b[0m\u001b[1;33m[\u001b[0m\u001b[1;34m'Na'\u001b[0m\u001b[1;33m]\u001b[0m\u001b[1;33m\u001b[0m\u001b[1;33m\u001b[0m\u001b[0m\n\u001b[0m",
      "\u001b[1;31mKeyError\u001b[0m: 'Na'"
     ]
    }
   ],
   "source": [
    "elements['Na']"
   ]
  },
  {
   "cell_type": "markdown",
   "metadata": {},
   "source": [
    "### Добавление или изменение элемента по ключу\n",
    "Если при обращении к элементу словаря присвоить ему значение  \n",
    "`<имя словаря>[<ключ>] = <значение>`    \n",
    "то:\n",
    "* если ключ уже существует в словаре, имеющееся значение будет заменено новым       \n",
    "Помните, что ключи в словаре должны быть уникальными, попытка добавить значение по уже имеющемуся ключу приведут к потери прежнего значения\n",
    "\n",
    "* если ключ новый, он и указанное значение будут добавлено в словарь"
   ]
  },
  {
   "cell_type": "code",
   "execution_count": 57,
   "metadata": {},
   "outputs": [
    {
     "name": "stdout",
     "output_type": "stream",
     "text": [
      "{'Ag': ['Серебро', 47, 107.86], 'Se': ['Селен', 34, 78.971], 'Xe': ['Ксенон', 54, 131.29], 'Er': ['Эрбий', 68, 167.25]}\n"
     ]
    }
   ],
   "source": [
    "elements = {'Ag' : ['Серебро', 47, 107.86], 'Se' : ['Селен', 34, 78.971], 'Xe': ['Ксенон', 54, 131.29]}\n",
    "\n",
    "# добавляем новый ключ и значение, ему соответствующее\n",
    "elements['Er'] = ['Эрбий', 68, 167.25]\n",
    "print(elements)"
   ]
  },
  {
   "cell_type": "code",
   "execution_count": 58,
   "metadata": {
    "scrolled": true
   },
   "outputs": [
    {
     "name": "stdout",
     "output_type": "stream",
     "text": [
      "{'Ag': ['Серебро', 47, 107.868], 'Se': ['Селен', 34, 78.971], 'Xe': ['Ксенон', 54, 131.29], 'Er': ['Эрбий', 68, 167.25]}\n"
     ]
    }
   ],
   "source": [
    "# изменяем значение по уже имеющемуся ключу\n",
    "# так что значение список, а нужно измненить только последнее число в нем, то дополнительно обращаемся к элементу списка\n",
    "elements['Ag'][-1] = 107.868\n",
    "print(elements)"
   ]
  },
  {
   "cell_type": "markdown",
   "metadata": {},
   "source": [
    "В некоторых ситуациях полезен метод `setdefault`, который возвращает значение по указанному ключу, если данный ключ есть в словаре, а иначе добавляет в словарь новую пару ключа и значения и возвращает это значение.\n",
    "\n",
    "`<имя словаря>.setdefault(<ключ>, <значение>)`\n",
    "\n",
    "При этом значение может быть и пустым"
   ]
  },
  {
   "cell_type": "code",
   "execution_count": 59,
   "metadata": {},
   "outputs": [
    {
     "data": {
      "text/plain": [
       "1"
      ]
     },
     "execution_count": 59,
     "metadata": {},
     "output_type": "execute_result"
    }
   ],
   "source": [
    "dict_1 = {'a': 1, 'b': 2}\n",
    "\n",
    "dict_1.setdefault('a', 0) # ключ есть в словаре"
   ]
  },
  {
   "cell_type": "code",
   "execution_count": 60,
   "metadata": {},
   "outputs": [
    {
     "name": "stdout",
     "output_type": "stream",
     "text": [
      "{'a': 1, 'b': 2, 'e': 0}\n"
     ]
    }
   ],
   "source": [
    "dict_1.setdefault('e', 0) # ключа нет в словаре\n",
    "\n",
    "print(dict_1)"
   ]
  },
  {
   "cell_type": "markdown",
   "metadata": {},
   "source": [
    "Если значения для ключа заданы в виде списка, то при добавление в список значений уже существующего ключа нового значения дополнительно нужно использовать соотвествующий оператор   \n",
    "`<имя словаря>[<ключ>] += [<значение>]`  \n",
    "или метод     \n",
    "`<имя словаря>[<ключ>].append[<значение>]`"
   ]
  },
  {
   "cell_type": "code",
   "execution_count": 61,
   "metadata": {},
   "outputs": [
    {
     "name": "stdout",
     "output_type": "stream",
     "text": [
      "{'Ag': ['Серебро', 47, 107.868, 'металл'], 'Se': ['Селен', 34, 78.971], 'Xe': ['Ксенон', 54, 131.29], 'Er': ['Эрбий', 68, 167.25]}\n"
     ]
    }
   ],
   "source": [
    "elements['Ag'].append('металл')\n",
    "print(elements)"
   ]
  },
  {
   "cell_type": "markdown",
   "metadata": {},
   "source": [
    "### Поиск значения по ключу\n",
    "Метод `get()` извлекает из словаря значение по указанному ключу. \n",
    "\n",
    "`<имя словаря>.get(<ключ>)`     \n",
    "при этом если указанномго ключа нет в словаре, то метод возвращает значение `None`\n",
    "\n",
    "`<имя словаря>.get(<ключ>,<значение, если нет>)`       \n",
    "при этом если указанномго ключа нет в словаре, то метод возвращает указанное значение."
   ]
  },
  {
   "cell_type": "code",
   "execution_count": 62,
   "metadata": {},
   "outputs": [
    {
     "data": {
      "text/plain": [
       "['Селен', 34, 78.971]"
      ]
     },
     "execution_count": 62,
     "metadata": {},
     "output_type": "execute_result"
    }
   ],
   "source": [
    "elements = {'Ag' : ['Серебро', 47, 107.86], 'Se' : ['Селен', 34, 78.971], 'Xe': ['Ксенон', 54, 131.29]}\n",
    "\n",
    "elements.get('Se')"
   ]
  },
  {
   "cell_type": "code",
   "execution_count": 63,
   "metadata": {},
   "outputs": [
    {
     "name": "stdout",
     "output_type": "stream",
     "text": [
      "None\n"
     ]
    }
   ],
   "source": [
    "print(elements.get('Na'))"
   ]
  },
  {
   "cell_type": "code",
   "execution_count": 64,
   "metadata": {},
   "outputs": [
    {
     "data": {
      "text/plain": [
       "'не внесен в словарь'"
      ]
     },
     "execution_count": 64,
     "metadata": {},
     "output_type": "execute_result"
    }
   ],
   "source": [
    "elements.get('Na','не внесен в словарь')"
   ]
  },
  {
   "cell_type": "markdown",
   "metadata": {},
   "source": [
    "### Извлечение из словаря всех ключей и/или всех значений\n",
    "Для получения всех ключи словаря используется метод `keys()`. \n",
    "\n",
    "`<имя словаря>.keys()`\n",
    "\n",
    "Этот метод возвращает `dict_keys` — итерабельное представление ключей, оно подобно множествам и поддерживает распространенные операции над множествами (пересечение, объединение и т.д.). Но при необходимости можно дополнительно преобразовывать результат (в список и т.п.)"
   ]
  },
  {
   "cell_type": "code",
   "execution_count": 65,
   "metadata": {},
   "outputs": [
    {
     "data": {
      "text/plain": [
       "['Ag', 'Se', 'Xe']"
      ]
     },
     "execution_count": 65,
     "metadata": {},
     "output_type": "execute_result"
    }
   ],
   "source": [
    "elements = {'Ag' : ['Серебро', 47, 107.86], 'Se' : ['Селен', 34, 78.971], 'Xe': ['Ксенон', 54, 131.29]}\n",
    "\n",
    "list(elements.keys())"
   ]
  },
  {
   "cell_type": "code",
   "execution_count": 66,
   "metadata": {},
   "outputs": [
    {
     "data": {
      "text/plain": [
       "{'a', 'b', 'c'}"
      ]
     },
     "execution_count": 66,
     "metadata": {},
     "output_type": "execute_result"
    }
   ],
   "source": [
    "dict_1 = {'a': 1, 'b': 2}\n",
    "dict_2 = {'b': 3, 'c': 4}\n",
    "\n",
    "dict_1.keys() | dict_2.keys() # объединение ключей"
   ]
  },
  {
   "cell_type": "markdown",
   "metadata": {},
   "source": [
    "Для получения всех значений словаря используется метод `values()`.\n",
    "\n",
    "`<имя словаря>.values()`\n",
    "\n",
    "Аналогично, этот метод возвращает `dict_values` (оно не оно подобно множествам, в отличии от `dict_keys`), при необходимости можно дополнительно преобразовывать результат (в список и т.п.)"
   ]
  },
  {
   "cell_type": "code",
   "execution_count": 67,
   "metadata": {},
   "outputs": [
    {
     "data": {
      "text/plain": [
       "[['Серебро', 47, 107.86], ['Селен', 34, 78.971], ['Ксенон', 54, 131.29]]"
      ]
     },
     "execution_count": 67,
     "metadata": {},
     "output_type": "execute_result"
    }
   ],
   "source": [
    "elements = {'Ag' : ['Серебро', 47, 107.86], 'Se' : ['Селен', 34, 78.971], 'Xe': ['Ксенон', 54, 131.29]}\n",
    "\n",
    "list(elements.values())"
   ]
  },
  {
   "cell_type": "markdown",
   "metadata": {},
   "source": [
    "Для получения всех к пары «ключ — значение» используется метод `items()`\n",
    "\n",
    "`<имя словаря>.items()`\n",
    "\n",
    "Аналогично, этот метод возвращает `dict_items`. Оно подобно множествам, если входящие в кортеж `(ключ, значение)` значения уникальны и хешируемы (неизменяемы). При необходимости Мужно дополнительно преобразовывать результат (в список и т.п.)"
   ]
  },
  {
   "cell_type": "code",
   "execution_count": 68,
   "metadata": {},
   "outputs": [
    {
     "data": {
      "text/plain": [
       "[('Ag', ['Серебро', 47, 107.86]),\n",
       " ('Se', ['Селен', 34, 78.971]),\n",
       " ('Xe', ['Ксенон', 54, 131.29])]"
      ]
     },
     "execution_count": 68,
     "metadata": {},
     "output_type": "execute_result"
    }
   ],
   "source": [
    "elements = {'Ag' : ['Серебро', 47, 107.86], 'Se' : ['Селен', 34, 78.971], 'Xe': ['Ксенон', 54, 131.29]}\n",
    "\n",
    "list(elements.items())"
   ]
  },
  {
   "cell_type": "code",
   "execution_count": 69,
   "metadata": {},
   "outputs": [
    {
     "data": {
      "text/plain": [
       "{('a', 1), ('b', 2), ('b', 3), ('c', 4)}"
      ]
     },
     "execution_count": 69,
     "metadata": {},
     "output_type": "execute_result"
    }
   ],
   "source": [
    "dict_1 = {'a': 1, 'b': 2}\n",
    "dict_2 = {'b': 3, 'c': 4}\n",
    "\n",
    "dict_1.items() | dict_2.items() # объединение кортежей (ключ, значение)"
   ]
  },
  {
   "cell_type": "markdown",
   "metadata": {},
   "source": [
    "### Оператор принадлежности `in`\n",
    "Наличие или отсутствие ключа в словаре проверяется с помощью оператора `in`:\n",
    "\n",
    "`if <ключ> in <словарь>`\n",
    "\n",
    "`if <ключ> not in <словарь>`\n",
    "\n",
    "### Поэлементная обработка словаря в цикле `for`\n",
    "\n",
    "* по ключам  \n",
    "\n",
    "`for <ключ> in <имя словаря>:\n",
    "        <блок команд>` \n",
    "        \n",
    "или  \n",
    "     \n",
    "`for <ключ> in <имя словаря>.keys():\n",
    "        <блок команд>`\n",
    "    \n",
    "    \n",
    "* по значениям \n",
    "\n",
    "`for <значение>  in <имя словаря>.values():\n",
    "        <блок команд>`\n",
    "    \n",
    "    \n",
    "* по парам  \n",
    "\n",
    "`for <ключ>, <значение>  in <имя словаря>.items():\n",
    "        <блок команд>`"
   ]
  },
  {
   "cell_type": "markdown",
   "metadata": {},
   "source": [
    "### \"Длина\" словаря\n",
    "функция `len()` вычисляет количество пар «ключ — значение» в словаре.  \n",
    "\n",
    "`len(<словарь>)` "
   ]
  },
  {
   "cell_type": "code",
   "execution_count": 70,
   "metadata": {},
   "outputs": [
    {
     "data": {
      "text/plain": [
       "3"
      ]
     },
     "execution_count": 70,
     "metadata": {},
     "output_type": "execute_result"
    }
   ],
   "source": [
    "elements = {'Ag' : ['Серебро', 47, 107.86], 'Se' : ['Селен', 34, 78.971], 'Xe': ['Ксенон', 54, 131.29]}\n",
    "\n",
    "len(elements)"
   ]
  },
  {
   "cell_type": "markdown",
   "metadata": {},
   "source": [
    "### Слияние словарей\n",
    "Для объединения двух словарей существует два способа:\n",
    "\n",
    "* оператор `**` соединяет словари в новый словарь\n",
    "\n",
    "`{**<cловарь 1>, **<cловарь 2>,...}`"
   ]
  },
  {
   "cell_type": "code",
   "execution_count": 71,
   "metadata": {},
   "outputs": [
    {
     "name": "stdout",
     "output_type": "stream",
     "text": [
      "{'Ag': ['Серебро', 47, 107.86], 'Se': ['Селен', 34, 78.971], 'Xe': ['Ксенон', 54, 131.29], 'Pb': ['Свинец', 82, 207.2], 'Cs': ['Цезий', 55, 132.9], 'B': ['Бор', 5, 10.81]}\n"
     ]
    }
   ],
   "source": [
    "elements = {'Ag' : ['Серебро', 47, 107.86], 'Se' : ['Селен', 34, 78.971], 'Xe': ['Ксенон', 54, 131.29]}\n",
    "other_elements = {'Pb': ['Свинец', 82, 207.2], 'Cs': ['Цезий', 55, 132.9], 'B': ['Бор', 5, 10.81]}\n",
    "\n",
    "big_elements = {**elements, **other_elements}\n",
    "print(big_elements)"
   ]
  },
  {
   "cell_type": "markdown",
   "metadata": {},
   "source": [
    "Копирование элементов из словарей при этом будет поверхностным (копируются ссылки на элементы-объекты, а не сами объекты)."
   ]
  },
  {
   "cell_type": "code",
   "execution_count": 72,
   "metadata": {},
   "outputs": [
    {
     "name": "stdout",
     "output_type": "stream",
     "text": [
      "{'Ag': ['Серебро', 47, 107.86, 'металл'], 'Se': ['Селен', 34, 78.971], 'Xe': ['Ксенон', 54, 131.29], 'Pb': ['Свинец', 82, 207.2], 'Cs': ['Цезий', 55, 132.9], 'B': ['Бор', 5, 10.81]}\n"
     ]
    }
   ],
   "source": [
    "# добавляем значение по ключу в первый словарь\n",
    "elements['Ag'].append('металл')\n",
    "# но меняется при этом и объединенный словарь\n",
    "print(big_elements)"
   ]
  },
  {
   "cell_type": "markdown",
   "metadata": {},
   "source": [
    "* метод `update()` обновлеяет словарь элементами из другого словаря\n",
    "\n",
    "`<cловарь 1>.update(<cловарь 2>)` \n",
    "\n",
    "Начиная с Python 3.9 можно также использовать расширенный оператор `<cловарь 1> |= <cловарь 2>` \n",
    "\n",
    "Также для словарей работают методы `copy()` и `deepcopy()` (аналогично спискам)."
   ]
  },
  {
   "cell_type": "code",
   "execution_count": 73,
   "metadata": {},
   "outputs": [
    {
     "name": "stdout",
     "output_type": "stream",
     "text": [
      "{'a': 1, 'b': 3, 'c': 4}\n"
     ]
    }
   ],
   "source": [
    "dict_1 = {'a': 1, 'b': 2}\n",
    "dict_2 = {'b': 3, 'c': 4}\n",
    "\n",
    "dict_1.update(dict_2)\n",
    "print(dict_1) # значение по общему для словарей ключу было перезаписано из второго словаря"
   ]
  },
  {
   "cell_type": "markdown",
   "metadata": {},
   "source": [
    "### Удаление элементов\n",
    "С помощью оператора `del` можно удалять элементы словаря по их ключу.\n",
    "\n",
    "`del <словарь>[<ключ>]`"
   ]
  },
  {
   "cell_type": "code",
   "execution_count": 74,
   "metadata": {},
   "outputs": [
    {
     "name": "stdout",
     "output_type": "stream",
     "text": [
      "{'Ag': ['Серебро', 47, 107.86], 'Xe': ['Ксенон', 54, 131.29]}\n"
     ]
    }
   ],
   "source": [
    "elements = {'Ag' : ['Серебро', 47, 107.86], 'Se' : ['Селен', 34, 78.971], 'Xe': ['Ксенон', 54, 131.29]}\n",
    "\n",
    "del elements['Se']\n",
    "print(elements)"
   ]
  },
  {
   "cell_type": "markdown",
   "metadata": {},
   "source": [
    "Удалить все ключи и их значения из словаря можно методом `clear()`\n",
    "\n",
    "`<словарь>.clear()`"
   ]
  },
  {
   "cell_type": "code",
   "execution_count": 75,
   "metadata": {},
   "outputs": [
    {
     "name": "stdout",
     "output_type": "stream",
     "text": [
      "{}\n"
     ]
    }
   ],
   "source": [
    "elements.clear()\n",
    "print(elements)"
   ]
  },
  {
   "cell_type": "markdown",
   "metadata": {},
   "source": [
    "Метод `pop()` удаляет элемента по указанному ключу и возвращает при этом его значения.\n",
    "\n",
    "`<словарь>.pop(<ключ>)`"
   ]
  },
  {
   "cell_type": "code",
   "execution_count": 76,
   "metadata": {},
   "outputs": [
    {
     "name": "stdout",
     "output_type": "stream",
     "text": [
      "['Селен', 34, 78.971]\n",
      "{'Ag': ['Серебро', 47, 107.86], 'Xe': ['Ксенон', 54, 131.29]}\n"
     ]
    }
   ],
   "source": [
    "elements = {'Ag' : ['Серебро', 47, 107.86], 'Se' : ['Селен', 34, 78.971], 'Xe': ['Ксенон', 54, 131.29]}\n",
    "\n",
    "data = elements.pop('Se')\n",
    "\n",
    "print(data)\n",
    "print(elements)"
   ]
  },
  {
   "cell_type": "markdown",
   "metadata": {},
   "source": [
    "Метод `popitem()` удаляет и возвравает ключ и значение, которые были добавлены в словарь последними\n",
    "\n",
    "`<словарь>.popitem()`"
   ]
  },
  {
   "cell_type": "markdown",
   "metadata": {},
   "source": [
    "### Некоторые особенности работы со словарями\n",
    "Нужно учитывать, что иногда в операциях над словарями они воспринимаются как последовательность из их ключей."
   ]
  },
  {
   "cell_type": "code",
   "execution_count": 77,
   "metadata": {},
   "outputs": [
    {
     "data": {
      "text/plain": [
       "['Ag', 'Se', 'Xe']"
      ]
     },
     "execution_count": 77,
     "metadata": {},
     "output_type": "execute_result"
    }
   ],
   "source": [
    "elements = {'Ag' : ['Серебро', 47, 107.86], 'Se' : ['Селен', 34, 78.971], 'Xe': ['Ксенон', 54, 131.29]}\n",
    "\n",
    "list(elements) # в список войдут только ключи"
   ]
  },
  {
   "cell_type": "code",
   "execution_count": 78,
   "metadata": {},
   "outputs": [
    {
     "data": {
      "text/plain": [
       "['a', 'e', 'i', 'o']"
      ]
     },
     "execution_count": 78,
     "metadata": {},
     "output_type": "execute_result"
    }
   ],
   "source": [
    "letter_counts = {'o': 2, 'i': 3, 'e': 1, 'a': 1}\n",
    "\n",
    "sorted(letter_counts ) # результат - список отсортированных ключей, а не словарь с  идущими по порядку ключами"
   ]
  },
  {
   "cell_type": "code",
   "execution_count": 79,
   "metadata": {},
   "outputs": [
    {
     "data": {
      "text/plain": [
       "{('a', 1), ('b', 2), 'b', 'c'}"
      ]
     },
     "execution_count": 79,
     "metadata": {},
     "output_type": "execute_result"
    }
   ],
   "source": [
    "dict_1 = {'a': 1, 'b': 2}\n",
    "dict_2 = {'b': 3, 'c': 4}\n",
    "\n",
    "dict_2 | dict_1.items() # словарь dict_2 воспринят как множество его ключей"
   ]
  }
 ],
 "metadata": {
  "kernelspec": {
   "display_name": "Python 3",
   "language": "python",
   "name": "python3"
  },
  "language_info": {
   "codemirror_mode": {
    "name": "ipython",
    "version": 3
   },
   "file_extension": ".py",
   "mimetype": "text/x-python",
   "name": "python",
   "nbconvert_exporter": "python",
   "pygments_lexer": "ipython3",
   "version": "3.8.5"
  }
 },
 "nbformat": 4,
 "nbformat_minor": 4
}
